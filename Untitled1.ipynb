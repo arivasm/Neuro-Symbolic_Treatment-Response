{
 "cells": [
  {
   "cell_type": "code",
   "execution_count": 1,
   "id": "30508c5a",
   "metadata": {},
   "outputs": [],
   "source": [
    "import pandas as pd\n",
    "from SPARQLWrapper import SPARQLWrapper, JSON"
   ]
  },
  {
   "cell_type": "code",
   "execution_count": 2,
   "id": "a22eff43",
   "metadata": {},
   "outputs": [],
   "source": [
    "endpoint = 'https://labs.tib.eu/sdm/clarify-kg-7/sparql'"
   ]
  },
  {
   "cell_type": "code",
   "execution_count": 21,
   "id": "f0914080",
   "metadata": {},
   "outputs": [],
   "source": [
    "query_1 = \"\"\"\n",
    "select distinct ?drug (COUNT(?o) as ?dseCount)  where {\n",
    "\n",
    "?drug <http://clarify2020.eu/vocab/drug_isRelatedTo_dse> ?o .\n",
    "\n",
    "}\n",
    "Order BY DESC(?dseCount)\n",
    "\"\"\"\n",
    "\n",
    "query_2 = \"\"\"\n",
    "select distinct ?drug ?sideEffect #?cui\n",
    "where {\n",
    "\n",
    "?drug <http://clarify2020.eu/vocab/drug_isRelatedTo_dse> ?dse .\n",
    "?sideEffect <http://clarify2020.eu/vocab/sideEffect_isRelatedTo_dse> ?dse .\n",
    "\n",
    "#?sideEffect <http://clarify2020.eu/vocab/hasCUIAnnotation> ?cui .\n",
    "}\n",
    "order by ?drug \n",
    "\"\"\""
   ]
  },
  {
   "cell_type": "code",
   "execution_count": null,
   "id": "43bb86ff",
   "metadata": {},
   "outputs": [],
   "source": []
  },
  {
   "cell_type": "code",
   "execution_count": 4,
   "id": "8d3c086a",
   "metadata": {},
   "outputs": [],
   "source": [
    "def query_result(query, endpoint):\n",
    "    sparql = SPARQLWrapper(endpoint)\n",
    "    sparql.setQuery(query)\n",
    "    sparql.setReturnFormat(JSON)\n",
    "    results = sparql.query().convert()\n",
    "    return results"
   ]
  },
  {
   "cell_type": "code",
   "execution_count": 22,
   "id": "c0452bab",
   "metadata": {},
   "outputs": [
    {
     "data": {
      "text/html": [
       "<div>\n",
       "<style scoped>\n",
       "    .dataframe tbody tr th:only-of-type {\n",
       "        vertical-align: middle;\n",
       "    }\n",
       "\n",
       "    .dataframe tbody tr th {\n",
       "        vertical-align: top;\n",
       "    }\n",
       "\n",
       "    .dataframe thead th {\n",
       "        text-align: right;\n",
       "    }\n",
       "</style>\n",
       "<table border=\"1\" class=\"dataframe\">\n",
       "  <thead>\n",
       "    <tr style=\"text-align: right;\">\n",
       "      <th></th>\n",
       "      <th>drug</th>\n",
       "      <th>sideEffect</th>\n",
       "    </tr>\n",
       "  </thead>\n",
       "  <tbody>\n",
       "    <tr>\n",
       "      <th>0</th>\n",
       "      <td>DB00001</td>\n",
       "      <td>Anaphylaxis</td>\n",
       "    </tr>\n",
       "    <tr>\n",
       "      <th>1</th>\n",
       "      <td>DB00001</td>\n",
       "      <td>Anemia</td>\n",
       "    </tr>\n",
       "    <tr>\n",
       "      <th>2</th>\n",
       "      <td>DB00001</td>\n",
       "      <td>Aspartate_aminotransferase_increased</td>\n",
       "    </tr>\n",
       "    <tr>\n",
       "      <th>3</th>\n",
       "      <td>DB00001</td>\n",
       "      <td>Dermatitis</td>\n",
       "    </tr>\n",
       "    <tr>\n",
       "      <th>4</th>\n",
       "      <td>DB00001</td>\n",
       "      <td>Eczema</td>\n",
       "    </tr>\n",
       "    <tr>\n",
       "      <th>...</th>\n",
       "      <td>...</td>\n",
       "      <td>...</td>\n",
       "    </tr>\n",
       "    <tr>\n",
       "      <th>60172</th>\n",
       "      <td>DB14726</td>\n",
       "      <td>Ulcer_of_esophagus</td>\n",
       "    </tr>\n",
       "    <tr>\n",
       "      <th>60173</th>\n",
       "      <td>DB14726</td>\n",
       "      <td>Urticaria</td>\n",
       "    </tr>\n",
       "    <tr>\n",
       "      <th>60174</th>\n",
       "      <td>DB14730</td>\n",
       "      <td>Hepatotoxicity</td>\n",
       "    </tr>\n",
       "    <tr>\n",
       "      <th>60175</th>\n",
       "      <td>DB14730</td>\n",
       "      <td>Pancreatitis</td>\n",
       "    </tr>\n",
       "    <tr>\n",
       "      <th>60176</th>\n",
       "      <td>DB14754</td>\n",
       "      <td>Anorexia</td>\n",
       "    </tr>\n",
       "  </tbody>\n",
       "</table>\n",
       "<p>60177 rows × 2 columns</p>\n",
       "</div>"
      ],
      "text/plain": [
       "          drug                            sideEffect\n",
       "0      DB00001                           Anaphylaxis\n",
       "1      DB00001                                Anemia\n",
       "2      DB00001  Aspartate_aminotransferase_increased\n",
       "3      DB00001                            Dermatitis\n",
       "4      DB00001                                Eczema\n",
       "...        ...                                   ...\n",
       "60172  DB14726                    Ulcer_of_esophagus\n",
       "60173  DB14726                             Urticaria\n",
       "60174  DB14730                        Hepatotoxicity\n",
       "60175  DB14730                          Pancreatitis\n",
       "60176  DB14754                              Anorexia\n",
       "\n",
       "[60177 rows x 2 columns]"
      ]
     },
     "execution_count": 22,
     "metadata": {},
     "output_type": "execute_result"
    }
   ],
   "source": [
    "results = query_result(query_2, endpoint)\n",
    "dd = {'drug': [], 'sideEffect': []} #, 'cui': []\n",
    "for r in results['results']['bindings']:\n",
    "    dd['drug'].append(r['drug']['value'].replace('http://clarify2020.eu/entity/', ''))\n",
    "    dd['sideEffect'].append(r['sideEffect']['value'].replace('http://clarify2020.eu/entity/', ''))\n",
    "    #dd['cui'].append(r['cui']['value'].replace('http://clarify2020.eu/entity/', ''))\n",
    "\n",
    "drug_sideeffect = pd.DataFrame(dd)\n",
    "drug_sideeffect"
   ]
  },
  {
   "cell_type": "code",
   "execution_count": 23,
   "id": "25aaa295",
   "metadata": {},
   "outputs": [
    {
     "data": {
      "text/plain": [
       "1339"
      ]
     },
     "execution_count": 23,
     "metadata": {},
     "output_type": "execute_result"
    }
   ],
   "source": [
    "len(drug_sideeffect.drug.unique())"
   ]
  },
  {
   "cell_type": "code",
   "execution_count": 24,
   "id": "bd5aad63",
   "metadata": {},
   "outputs": [],
   "source": [
    "drug_sideeffect.to_csv('dataset/KG_Carify_drug_side_effect.csv', index=False)"
   ]
  },
  {
   "cell_type": "code",
   "execution_count": 20,
   "id": "cb9dfb24",
   "metadata": {},
   "outputs": [
    {
     "data": {
      "text/html": [
       "<div>\n",
       "<style scoped>\n",
       "    .dataframe tbody tr th:only-of-type {\n",
       "        vertical-align: middle;\n",
       "    }\n",
       "\n",
       "    .dataframe tbody tr th {\n",
       "        vertical-align: top;\n",
       "    }\n",
       "\n",
       "    .dataframe thead th {\n",
       "        text-align: right;\n",
       "    }\n",
       "</style>\n",
       "<table border=\"1\" class=\"dataframe\">\n",
       "  <thead>\n",
       "    <tr style=\"text-align: right;\">\n",
       "      <th></th>\n",
       "      <th>drug</th>\n",
       "      <th>dseCount</th>\n",
       "    </tr>\n",
       "  </thead>\n",
       "  <tbody>\n",
       "    <tr>\n",
       "      <th>0</th>\n",
       "      <td>DB00215</td>\n",
       "      <td>754</td>\n",
       "    </tr>\n",
       "    <tr>\n",
       "      <th>1</th>\n",
       "      <td>DB00230</td>\n",
       "      <td>749</td>\n",
       "    </tr>\n",
       "    <tr>\n",
       "      <th>2</th>\n",
       "      <td>DB00715</td>\n",
       "      <td>561</td>\n",
       "    </tr>\n",
       "    <tr>\n",
       "      <th>3</th>\n",
       "      <td>DB00285</td>\n",
       "      <td>527</td>\n",
       "    </tr>\n",
       "    <tr>\n",
       "      <th>4</th>\n",
       "      <td>DB00268</td>\n",
       "      <td>513</td>\n",
       "    </tr>\n",
       "    <tr>\n",
       "      <th>...</th>\n",
       "      <td>...</td>\n",
       "      <td>...</td>\n",
       "    </tr>\n",
       "    <tr>\n",
       "      <th>1334</th>\n",
       "      <td>DB09057</td>\n",
       "      <td>1</td>\n",
       "    </tr>\n",
       "    <tr>\n",
       "      <th>1335</th>\n",
       "      <td>DB09264</td>\n",
       "      <td>1</td>\n",
       "    </tr>\n",
       "    <tr>\n",
       "      <th>1336</th>\n",
       "      <td>DB12130</td>\n",
       "      <td>1</td>\n",
       "    </tr>\n",
       "    <tr>\n",
       "      <th>1337</th>\n",
       "      <td>DB11603</td>\n",
       "      <td>1</td>\n",
       "    </tr>\n",
       "    <tr>\n",
       "      <th>1338</th>\n",
       "      <td>DB00051</td>\n",
       "      <td>1</td>\n",
       "    </tr>\n",
       "  </tbody>\n",
       "</table>\n",
       "<p>1339 rows × 2 columns</p>\n",
       "</div>"
      ],
      "text/plain": [
       "         drug dseCount\n",
       "0     DB00215      754\n",
       "1     DB00230      749\n",
       "2     DB00715      561\n",
       "3     DB00285      527\n",
       "4     DB00268      513\n",
       "...       ...      ...\n",
       "1334  DB09057        1\n",
       "1335  DB09264        1\n",
       "1336  DB12130        1\n",
       "1337  DB11603        1\n",
       "1338  DB00051        1\n",
       "\n",
       "[1339 rows x 2 columns]"
      ]
     },
     "execution_count": 20,
     "metadata": {},
     "output_type": "execute_result"
    }
   ],
   "source": [
    "results = query_result(query_1, endpoint)\n",
    "dd = {'drug': [], 'dseCount': []}\n",
    "for r in results['results']['bindings']:\n",
    "    dd['drug'].append(r['drug']['value'].replace('http://clarify2020.eu/entity/', ''))\n",
    "    dd['dseCount'].append(r['dseCount']['value'])\n",
    "\n",
    "drug_sideeffect_count = pd.DataFrame(dd)\n",
    "drug_sideeffect_count"
   ]
  },
  {
   "cell_type": "code",
   "execution_count": null,
   "id": "ded5a3db",
   "metadata": {},
   "outputs": [],
   "source": []
  }
 ],
 "metadata": {
  "kernelspec": {
   "display_name": "Python 3 (ipykernel)",
   "language": "python",
   "name": "python3"
  },
  "language_info": {
   "codemirror_mode": {
    "name": "ipython",
    "version": 3
   },
   "file_extension": ".py",
   "mimetype": "text/x-python",
   "name": "python",
   "nbconvert_exporter": "python",
   "pygments_lexer": "ipython3",
   "version": "3.9.7"
  }
 },
 "nbformat": 4,
 "nbformat_minor": 5
}
