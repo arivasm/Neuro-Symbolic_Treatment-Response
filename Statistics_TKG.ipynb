{
 "cells": [
  {
   "cell_type": "code",
   "execution_count": 1,
   "id": "f6fa5cf0",
   "metadata": {},
   "outputs": [],
   "source": [
    "from rdflib import Graph\n",
    "import pandas as pd\n",
    "import math"
   ]
  },
  {
   "cell_type": "markdown",
   "id": "4f3bb8d9",
   "metadata": {},
   "source": [
    "### Load Tretament Graphs"
   ]
  },
  {
   "cell_type": "code",
   "execution_count": 2,
   "id": "f818ea14",
   "metadata": {},
   "outputs": [
    {
     "data": {
      "text/plain": [
       "<Graph identifier=N1de5a022be3f45e4bc0bc037f400abfd (<class 'rdflib.graph.Graph'>)>"
      ]
     },
     "execution_count": 2,
     "metadata": {},
     "output_type": "execute_result"
    }
   ],
   "source": [
    "path = 'dataset/'\n",
    "\n",
    "g1 = Graph()\n",
    "g1.parse(path+\"TKG_1.ttl\", format=\"ttl\")\n",
    "\n",
    "g2 = Graph()\n",
    "g2.parse(path + \"TKG_2.ttl\", format=\"ttl\")\n",
    "\n",
    "g3 = Graph()\n",
    "g3.parse(path + \"TKG_3.ttl\", format=\"ttl\")"
   ]
  },
  {
   "cell_type": "code",
   "execution_count": 3,
   "id": "a41c89c7",
   "metadata": {},
   "outputs": [],
   "source": [
    "from rdflib.plugins.sparql.processor import SPARQLResult\n",
    "\n",
    "def sparql_results_to_df(results: SPARQLResult) -> pd.DataFrame:\n",
    "    \"\"\"\n",
    "    Export results from an rdflib SPARQL query into a `pandas.DataFrame`,\n",
    "    using Python types. See https://github.com/RDFLib/rdflib/issues/1179.\n",
    "    \"\"\"\n",
    "    return pd.DataFrame(\n",
    "        data=([None if x is None else x.toPython() for x in row] for row in results),\n",
    "        columns=[str(x) for x in results.vars],\n",
    "    )"
   ]
  },
  {
   "cell_type": "code",
   "execution_count": 4,
   "id": "456d7f84",
   "metadata": {},
   "outputs": [],
   "source": [
    "def cardinality_relation(graph, relation):\n",
    "    query = \"\"\"\n",
    "    select (count(?s) as ?count)\n",
    "    where {\n",
    "        ?s <\"\"\" + relation + \"\"\"> ?o\n",
    "        }\n",
    "        \"\"\"\n",
    "    qres = graph.query(query)\n",
    "    cardinality = sparql_results_to_df(qres)\n",
    "    return cardinality.iloc[0][0]\n",
    "\n",
    "\n",
    "def cardinality_entity(graph, entity):\n",
    "    query = \"\"\"\n",
    "    select (count(?s) as ?count)\n",
    "    where {\n",
    "        ?s ?p <\"\"\" + entity + \"\"\">\n",
    "        }\n",
    "        \"\"\"\n",
    "    qres = graph.query(query)\n",
    "    cardinality = sparql_results_to_df(qres).iloc[0][0]\n",
    "    \n",
    "    query = \"\"\"\n",
    "    select (count(?o) as ?count)\n",
    "    where {\n",
    "        <\"\"\" + entity + \"\"\"> ?p ?o\n",
    "        }\n",
    "        \"\"\"\n",
    "    qres = graph.query(query)\n",
    "    cardinality += sparql_results_to_df(qres).iloc[0][0]\n",
    "    return cardinality\n",
    "\n",
    "\n",
    "def probability_relation(graph, r):\n",
    "    cardinality  = cardinality_relation(graph, r)\n",
    "    return cardinality / len(graph)\n",
    "\n",
    "\n",
    "def probability_entity(graph, e):\n",
    "    cardinality  = cardinality_entity(graph, e)\n",
    "    return cardinality / len(graph)\n",
    "\n",
    "\n",
    "def get_triples(graph):\n",
    "    query = \"\"\"    \n",
    "    select distinct ?s ?predicate ?object\n",
    "    where {\n",
    "        ?s ?predicate ?object\n",
    "        }\n",
    "        \"\"\"\n",
    "    qres = graph.query(query)\n",
    "    triples = sparql_results_to_df(qres)\n",
    "    return triples\n",
    "\n",
    "\n",
    "def list_relation(triples):\n",
    "    return list(triples.predicate.unique())\n",
    "\n",
    "\n",
    "def list_entity(triples):\n",
    "    entity = set(list(triples.s.unique()) + list(triples.object.unique()))\n",
    "    return entity\n",
    "\n",
    "\n",
    "def relation_entropy(graph, relation):\n",
    "    RE = 0\n",
    "    for r in relation:\n",
    "        p_r = probability_relation(graph, r)\n",
    "        val = -p_r*math.log(p_r)\n",
    "        RE += val\n",
    "    return RE\n",
    "\n",
    "\n",
    "def entity_entropy(graph, entity):\n",
    "    EE = 0\n",
    "    for e in entity:\n",
    "        p_e = probability_entity(graph, e)\n",
    "        val = -p_e*math.log(p_e)\n",
    "        EE += val\n",
    "    return EE\n",
    "\n",
    "\n",
    "def relational_density(graph, relation):\n",
    "    return len(graph) / len(relation)\n",
    "\n",
    "\n",
    "def entity_density(graph, entity):\n",
    "    return 2 * len(graph) / len(entity)"
   ]
  },
  {
   "cell_type": "code",
   "execution_count": 5,
   "id": "f4e6e54c",
   "metadata": {},
   "outputs": [],
   "source": [
    "g = g1"
   ]
  },
  {
   "cell_type": "code",
   "execution_count": 6,
   "id": "87a20db0",
   "metadata": {},
   "outputs": [],
   "source": [
    "triples = get_triples(g)\n",
    "relation = list_relation(triples)\n",
    "entity = list_entity(triples)"
   ]
  },
  {
   "cell_type": "code",
   "execution_count": 7,
   "id": "c05abc8c",
   "metadata": {},
   "outputs": [
    {
     "name": "stdout",
     "output_type": "stream",
     "text": [
      "5630 7 1069\n"
     ]
    }
   ],
   "source": [
    "print(triples.shape[0], len(relation), len(entity))"
   ]
  },
  {
   "cell_type": "markdown",
   "id": "be23f58d",
   "metadata": {},
   "source": [
    "### Entropy-based measure. Diversity "
   ]
  },
  {
   "cell_type": "code",
   "execution_count": 8,
   "id": "b1d824a4",
   "metadata": {},
   "outputs": [
    {
     "data": {
      "text/plain": [
       "1.6147845502556701"
      ]
     },
     "execution_count": 8,
     "metadata": {},
     "output_type": "execute_result"
    }
   ],
   "source": [
    "relation_entropy(g, relation)"
   ]
  },
  {
   "cell_type": "code",
   "execution_count": 9,
   "id": "f3f37d6d",
   "metadata": {},
   "outputs": [
    {
     "data": {
      "text/plain": [
       "10.84560387188618"
      ]
     },
     "execution_count": 9,
     "metadata": {},
     "output_type": "execute_result"
    }
   ],
   "source": [
    "entity_entropy(g, entity)"
   ]
  },
  {
   "cell_type": "markdown",
   "id": "1822eba8",
   "metadata": {},
   "source": [
    "### Sparcy metric"
   ]
  },
  {
   "cell_type": "code",
   "execution_count": 10,
   "id": "77b8e448",
   "metadata": {},
   "outputs": [
    {
     "data": {
      "text/plain": [
       "804.2857142857143"
      ]
     },
     "execution_count": 10,
     "metadata": {},
     "output_type": "execute_result"
    }
   ],
   "source": [
    "RD = relational_density(g, relation)\n",
    "RD"
   ]
  },
  {
   "cell_type": "code",
   "execution_count": 11,
   "id": "5d4cc76b",
   "metadata": {},
   "outputs": [
    {
     "data": {
      "text/plain": [
       "10.533208606173995"
      ]
     },
     "execution_count": 11,
     "metadata": {},
     "output_type": "execute_result"
    }
   ],
   "source": [
    "ED = entity_density(g, entity)\n",
    "ED"
   ]
  },
  {
   "cell_type": "code",
   "execution_count": null,
   "id": "5dc577e6",
   "metadata": {},
   "outputs": [],
   "source": []
  }
 ],
 "metadata": {
  "kernelspec": {
   "display_name": "Python 3 (ipykernel)",
   "language": "python",
   "name": "python3"
  },
  "language_info": {
   "codemirror_mode": {
    "name": "ipython",
    "version": 3
   },
   "file_extension": ".py",
   "mimetype": "text/x-python",
   "name": "python",
   "nbconvert_exporter": "python",
   "pygments_lexer": "ipython3",
   "version": "3.9.7"
  }
 },
 "nbformat": 4,
 "nbformat_minor": 5
}
