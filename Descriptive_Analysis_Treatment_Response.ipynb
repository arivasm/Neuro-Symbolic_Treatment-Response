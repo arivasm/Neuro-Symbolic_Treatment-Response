{
 "cells": [
  {
   "cell_type": "code",
   "execution_count": 1,
   "id": "92986906",
   "metadata": {},
   "outputs": [],
   "source": [
    "from rdflib import Graph\n",
    "import pandas as pd\n",
    "import matplotlib.colors as mcolors\n",
    "import seaborn as sns\n",
    "import matplotlib.pyplot as plt"
   ]
  },
  {
   "cell_type": "code",
   "execution_count": 2,
   "id": "34411810",
   "metadata": {},
   "outputs": [],
   "source": [
    "col = [mcolors.CSS4_COLORS['brown'], mcolors.CSS4_COLORS['lightcoral']]"
   ]
  },
  {
   "cell_type": "code",
   "execution_count": 3,
   "id": "3f2b41dc",
   "metadata": {},
   "outputs": [
    {
     "data": {
      "text/plain": [
       "<Graph identifier=Ne23a9fdb57364bf198324a7fb7dbb488 (<class 'rdflib.graph.Graph'>)>"
      ]
     },
     "execution_count": 3,
     "metadata": {},
     "output_type": "execute_result"
    }
   ],
   "source": [
    "path = 'dataset/'\n",
    "\n",
    "g1 = Graph()\n",
    "g1.parse(path+\"TKG_1.ttl\", format=\"ttl\")"
   ]
  },
  {
   "cell_type": "code",
   "execution_count": 4,
   "id": "0f58a71a",
   "metadata": {},
   "outputs": [],
   "source": [
    "from rdflib.plugins.sparql.processor import SPARQLResult\n",
    "\n",
    "def sparql_results_to_df(results: SPARQLResult) -> pd.DataFrame:\n",
    "    \"\"\"\n",
    "    Export results from an rdflib SPARQL query into a `pandas.DataFrame`,\n",
    "    using Python types. See https://github.com/RDFLib/rdflib/issues/1179.\n",
    "    \"\"\"\n",
    "    return pd.DataFrame(\n",
    "        data=([None if x is None else x.toPython() for x in row] for row in results),\n",
    "        columns=[str(x) for x in results.vars],\n",
    "    )"
   ]
  },
  {
   "cell_type": "code",
   "execution_count": 5,
   "id": "787f1ae2",
   "metadata": {},
   "outputs": [],
   "source": [
    "def query_treatment_drug():\n",
    "    query = \"\"\"\n",
    "    PREFIX rdf: <http://www.w3.org/1999/02/22-rdf-syntax-ns#>\n",
    "    PREFIX ex: <http://example/#> \n",
    "\n",
    "    select distinct ?treatment ?class  (count(distinct ?drug) as ?count_drug)\n",
    "    where {\n",
    "        ?treatment ex:belong_to ?class .\n",
    "        ?drug ex:part_of ?treatment .\n",
    "        }\n",
    "        GROUP BY ?treatment\n",
    "        ORDER BY desc(?count_drug)\n",
    "        \"\"\"\n",
    "    return query"
   ]
  },
  {
   "cell_type": "code",
   "execution_count": 6,
   "id": "936f66bd",
   "metadata": {},
   "outputs": [
    {
     "data": {
      "text/html": [
       "<div>\n",
       "<style scoped>\n",
       "    .dataframe tbody tr th:only-of-type {\n",
       "        vertical-align: middle;\n",
       "    }\n",
       "\n",
       "    .dataframe tbody tr th {\n",
       "        vertical-align: top;\n",
       "    }\n",
       "\n",
       "    .dataframe thead th {\n",
       "        text-align: right;\n",
       "    }\n",
       "</style>\n",
       "<table border=\"1\" class=\"dataframe\">\n",
       "  <thead>\n",
       "    <tr style=\"text-align: right;\">\n",
       "      <th></th>\n",
       "      <th>treatment</th>\n",
       "      <th>class</th>\n",
       "      <th>count_drug</th>\n",
       "    </tr>\n",
       "  </thead>\n",
       "  <tbody>\n",
       "    <tr>\n",
       "      <th>0</th>\n",
       "      <td>http://example/Treatment/treatment0</td>\n",
       "      <td>http://example/#low_effect</td>\n",
       "      <td>10</td>\n",
       "    </tr>\n",
       "    <tr>\n",
       "      <th>1</th>\n",
       "      <td>http://example/Treatment/treatment1</td>\n",
       "      <td>http://example/#low_effect</td>\n",
       "      <td>9</td>\n",
       "    </tr>\n",
       "    <tr>\n",
       "      <th>2</th>\n",
       "      <td>http://example/Treatment/treatment2</td>\n",
       "      <td>http://example/#low_effect</td>\n",
       "      <td>9</td>\n",
       "    </tr>\n",
       "    <tr>\n",
       "      <th>3</th>\n",
       "      <td>http://example/Treatment/treatment3</td>\n",
       "      <td>http://example/#low_effect</td>\n",
       "      <td>9</td>\n",
       "    </tr>\n",
       "    <tr>\n",
       "      <th>4</th>\n",
       "      <td>http://example/Treatment/treatment399</td>\n",
       "      <td>http://example/#effective</td>\n",
       "      <td>9</td>\n",
       "    </tr>\n",
       "    <tr>\n",
       "      <th>...</th>\n",
       "      <td>...</td>\n",
       "      <td>...</td>\n",
       "      <td>...</td>\n",
       "    </tr>\n",
       "    <tr>\n",
       "      <th>543</th>\n",
       "      <td>http://example/Treatment/treatment543</td>\n",
       "      <td>http://example/#effective</td>\n",
       "      <td>2</td>\n",
       "    </tr>\n",
       "    <tr>\n",
       "      <th>544</th>\n",
       "      <td>http://example/Treatment/treatment544</td>\n",
       "      <td>http://example/#effective</td>\n",
       "      <td>2</td>\n",
       "    </tr>\n",
       "    <tr>\n",
       "      <th>545</th>\n",
       "      <td>http://example/Treatment/treatment545</td>\n",
       "      <td>http://example/#effective</td>\n",
       "      <td>2</td>\n",
       "    </tr>\n",
       "    <tr>\n",
       "      <th>546</th>\n",
       "      <td>http://example/Treatment/treatment546</td>\n",
       "      <td>http://example/#effective</td>\n",
       "      <td>2</td>\n",
       "    </tr>\n",
       "    <tr>\n",
       "      <th>547</th>\n",
       "      <td>http://example/Treatment/treatment547</td>\n",
       "      <td>http://example/#effective</td>\n",
       "      <td>2</td>\n",
       "    </tr>\n",
       "  </tbody>\n",
       "</table>\n",
       "<p>548 rows × 3 columns</p>\n",
       "</div>"
      ],
      "text/plain": [
       "                                 treatment                       class  \\\n",
       "0      http://example/Treatment/treatment0  http://example/#low_effect   \n",
       "1      http://example/Treatment/treatment1  http://example/#low_effect   \n",
       "2      http://example/Treatment/treatment2  http://example/#low_effect   \n",
       "3      http://example/Treatment/treatment3  http://example/#low_effect   \n",
       "4    http://example/Treatment/treatment399   http://example/#effective   \n",
       "..                                     ...                         ...   \n",
       "543  http://example/Treatment/treatment543   http://example/#effective   \n",
       "544  http://example/Treatment/treatment544   http://example/#effective   \n",
       "545  http://example/Treatment/treatment545   http://example/#effective   \n",
       "546  http://example/Treatment/treatment546   http://example/#effective   \n",
       "547  http://example/Treatment/treatment547   http://example/#effective   \n",
       "\n",
       "     count_drug  \n",
       "0            10  \n",
       "1             9  \n",
       "2             9  \n",
       "3             9  \n",
       "4             9  \n",
       "..          ...  \n",
       "543           2  \n",
       "544           2  \n",
       "545           2  \n",
       "546           2  \n",
       "547           2  \n",
       "\n",
       "[548 rows x 3 columns]"
      ]
     },
     "execution_count": 6,
     "metadata": {},
     "output_type": "execute_result"
    }
   ],
   "source": [
    "qres = g1.query(query_treatment_drug())\n",
    "treatment_drug = sparql_results_to_df(qres)\n",
    "treatment_drug"
   ]
  },
  {
   "cell_type": "code",
   "execution_count": 7,
   "id": "6b34417e",
   "metadata": {},
   "outputs": [],
   "source": [
    "low_effect = treatment_drug.loc[treatment_drug['class']=='http://example/#low_effect']\n",
    "# low_effect = low_effect.sort_values(by=['count_drug'], ascending=False)\n",
    "effective = treatment_drug.loc[treatment_drug['class']=='http://example/#effective']"
   ]
  },
  {
   "cell_type": "code",
   "execution_count": 8,
   "id": "7fdcbe91",
   "metadata": {},
   "outputs": [
    {
     "data": {
      "image/png": "[encoded data removed]",
      "text/plain": [
       "<Figure size 432x288 with 1 Axes>"
      ]
     },
     "metadata": {
      "needs_background": "light"
     },
     "output_type": "display_data"
    }
   ],
   "source": [
    "ax = sns.histplot(data=low_effect, x='count_drug', bins=5, legend=False, color=col[1])\n",
    "ax.set_xlabel('Count of drugs')\n",
    "ax.set_ylabel('Frequency of treatments')\n",
    "plt.title('Histogram of count of drugs by Low-Effect Treatment')\n",
    "plt.savefig('Embeddings/Plots/histogram_low_effect_treatment.pdf', format='pdf', bbox_inches='tight')"
   ]
  },
  {
   "cell_type": "code",
   "execution_count": 9,
   "id": "ce7181ee",
   "metadata": {},
   "outputs": [
    {
     "data": {
      "image/png": "[encoded data removed]",
      "text/plain": [
       "<Figure size 432x288 with 1 Axes>"
      ]
     },
     "metadata": {
      "needs_background": "light"
     },
     "output_type": "display_data"
    }
   ],
   "source": [
    "ax = sns.histplot(data=effective, x='count_drug', bins=5, legend=False, color=col[0])\n",
    "ax.set_xlabel('Count of drugs')\n",
    "ax.set_ylabel('Frequency of treatments')\n",
    "plt.title('Histogram of count of drugs by Effective Treatment')\n",
    "plt.savefig('Embeddings/Plots/histogram_effective_treatment.pdf', format='pdf', bbox_inches='tight')"
   ]
  },
  {
   "cell_type": "code",
   "execution_count": 10,
   "id": "1327c014",
   "metadata": {},
   "outputs": [
    {
     "data": {
      "image/png": "[encoded data removed]",
      "text/plain": [
       "<Figure size 432x288 with 1 Axes>"
      ]
     },
     "metadata": {
      "needs_background": "light"
     },
     "output_type": "display_data"
    }
   ],
   "source": [
    "df = pd.DataFrame(data=[effective.shape[0], low_effect.shape[0]], columns=['treatment'],\n",
    "                  index=['Effective Treatment', 'Low-Effect Treatment'])\n",
    "ax = df['treatment'].plot(kind=\"bar\", color=col, alpha=0.85,)\n",
    "plt.xticks(rotation=0, horizontalalignment=\"center\")\n",
    "plt.ylabel('Count of treatments')\n",
    "plt.title('Distribution of treatment responses')\n",
    "plt.savefig('Embeddings/Plots/distribution_treatment.pdf', format='pdf', bbox_inches='tight')"
   ]
  },
  {
   "cell_type": "code",
   "execution_count": null,
   "id": "8a03e9dc",
   "metadata": {},
   "outputs": [],
   "source": []
  }
 ],
 "metadata": {
  "kernelspec": {
   "display_name": "Python 3 (ipykernel)",
   "language": "python",
   "name": "python3"
  },
  "language_info": {
   "codemirror_mode": {
    "name": "ipython",
    "version": 3
   },
   "file_extension": ".py",
   "mimetype": "text/x-python",
   "name": "python",
   "nbconvert_exporter": "python",
   "pygments_lexer": "ipython3",
   "version": "3.9.7"
  }
 },
 "nbformat": 4,
 "nbformat_minor": 5
}
