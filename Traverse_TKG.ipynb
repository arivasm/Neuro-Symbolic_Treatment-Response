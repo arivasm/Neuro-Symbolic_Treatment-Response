{
 "cells": [
  {
   "cell_type": "code",
   "execution_count": 1,
   "id": "59f8f9c7",
   "metadata": {},
   "outputs": [],
   "source": [
    "from rdflib import Graph\n",
    "import pandas as pd"
   ]
  },
  {
   "cell_type": "markdown",
   "id": "e9763451",
   "metadata": {},
   "source": [
    "# Loading the Benchmarks"
   ]
  },
  {
   "cell_type": "code",
   "execution_count": 2,
   "id": "ae107c61",
   "metadata": {},
   "outputs": [
    {
     "data": {
      "text/plain": [
       "<Graph identifier=N5431f7c26ad24c739e08bfa4923a4551 (<class 'rdflib.graph.Graph'>)>"
      ]
     },
     "execution_count": 2,
     "metadata": {},
     "output_type": "execute_result"
    }
   ],
   "source": [
    "path = 'dataset/'\n",
    "\n",
    "g1 = Graph()\n",
    "g1.parse(path+\"TKG_1.ttl\", format=\"ttl\")\n",
    "\n",
    "g2 = Graph()\n",
    "g2.parse(path + \"TKG_2.ttl\", format=\"ttl\")\n",
    "\n",
    "g3 = Graph()\n",
    "g3.parse(path + \"TKG_3.ttl\", format=\"ttl\")"
   ]
  },
  {
   "cell_type": "markdown",
   "id": "a9ae43c3",
   "metadata": {},
   "source": [
    "#### Export results from SPARQL query into a DataFrame"
   ]
  },
  {
   "cell_type": "code",
   "execution_count": 3,
   "id": "bb78d90a",
   "metadata": {},
   "outputs": [],
   "source": [
    "from rdflib.plugins.sparql.processor import SPARQLResult\n",
    "\n",
    "def sparql_results_to_df(results: SPARQLResult) -> pd.DataFrame:\n",
    "    return pd.DataFrame(\n",
    "        data=([None if x is None else x.toPython() for x in row] for row in results),\n",
    "        columns=[str(x) for x in results.vars],\n",
    "    )"
   ]
  },
  {
   "cell_type": "markdown",
   "id": "5597fbfc",
   "metadata": {},
   "source": [
    "## Example query. Show the number of drugs and the response of each treatment."
   ]
  },
  {
   "cell_type": "code",
   "execution_count": 4,
   "id": "05699947",
   "metadata": {},
   "outputs": [],
   "source": [
    "query = \"\"\"\n",
    "PREFIX rdf: <http://www.w3.org/1999/02/22-rdf-syntax-ns#>\n",
    "PREFIX ex: <http://example/#> \n",
    "\n",
    "select distinct ?treatment ?class  (count(distinct ?drug) as ?count_drug)\n",
    "where {\n",
    "    ?treatment ex:belong_to ?class .\n",
    "    ?drug ex:part_of ?treatment .\n",
    "    }\n",
    "    GROUP BY ?treatment\n",
    "    ORDER BY desc(?count_drug)\n",
    "    \"\"\""
   ]
  },
  {
   "cell_type": "markdown",
   "id": "20910e87",
   "metadata": {},
   "source": [
    "### Select the benchmark"
   ]
  },
  {
   "cell_type": "code",
   "execution_count": 5,
   "id": "d885a5ef",
   "metadata": {},
   "outputs": [],
   "source": [
    "g = g1"
   ]
  },
  {
   "cell_type": "markdown",
   "id": "38994e9d",
   "metadata": {},
   "source": [
    "### Show the results"
   ]
  },
  {
   "cell_type": "code",
   "execution_count": 6,
   "id": "43909f51",
   "metadata": {},
   "outputs": [
    {
     "data": {
      "text/html": [
       "<div>\n",
       "<style scoped>\n",
       "    .dataframe tbody tr th:only-of-type {\n",
       "        vertical-align: middle;\n",
       "    }\n",
       "\n",
       "    .dataframe tbody tr th {\n",
       "        vertical-align: top;\n",
       "    }\n",
       "\n",
       "    .dataframe thead th {\n",
       "        text-align: right;\n",
       "    }\n",
       "</style>\n",
       "<table border=\"1\" class=\"dataframe\">\n",
       "  <thead>\n",
       "    <tr style=\"text-align: right;\">\n",
       "      <th></th>\n",
       "      <th>treatment</th>\n",
       "      <th>class</th>\n",
       "      <th>count_drug</th>\n",
       "    </tr>\n",
       "  </thead>\n",
       "  <tbody>\n",
       "    <tr>\n",
       "      <th>0</th>\n",
       "      <td>http://example/Treatment/treatment0</td>\n",
       "      <td>http://example/#low_effect</td>\n",
       "      <td>10</td>\n",
       "    </tr>\n",
       "    <tr>\n",
       "      <th>1</th>\n",
       "      <td>http://example/Treatment/treatment1</td>\n",
       "      <td>http://example/#low_effect</td>\n",
       "      <td>9</td>\n",
       "    </tr>\n",
       "    <tr>\n",
       "      <th>2</th>\n",
       "      <td>http://example/Treatment/treatment2</td>\n",
       "      <td>http://example/#low_effect</td>\n",
       "      <td>9</td>\n",
       "    </tr>\n",
       "    <tr>\n",
       "      <th>3</th>\n",
       "      <td>http://example/Treatment/treatment3</td>\n",
       "      <td>http://example/#low_effect</td>\n",
       "      <td>9</td>\n",
       "    </tr>\n",
       "    <tr>\n",
       "      <th>4</th>\n",
       "      <td>http://example/Treatment/treatment399</td>\n",
       "      <td>http://example/#effective</td>\n",
       "      <td>9</td>\n",
       "    </tr>\n",
       "    <tr>\n",
       "      <th>...</th>\n",
       "      <td>...</td>\n",
       "      <td>...</td>\n",
       "      <td>...</td>\n",
       "    </tr>\n",
       "    <tr>\n",
       "      <th>543</th>\n",
       "      <td>http://example/Treatment/treatment543</td>\n",
       "      <td>http://example/#effective</td>\n",
       "      <td>2</td>\n",
       "    </tr>\n",
       "    <tr>\n",
       "      <th>544</th>\n",
       "      <td>http://example/Treatment/treatment544</td>\n",
       "      <td>http://example/#effective</td>\n",
       "      <td>2</td>\n",
       "    </tr>\n",
       "    <tr>\n",
       "      <th>545</th>\n",
       "      <td>http://example/Treatment/treatment545</td>\n",
       "      <td>http://example/#effective</td>\n",
       "      <td>2</td>\n",
       "    </tr>\n",
       "    <tr>\n",
       "      <th>546</th>\n",
       "      <td>http://example/Treatment/treatment546</td>\n",
       "      <td>http://example/#effective</td>\n",
       "      <td>2</td>\n",
       "    </tr>\n",
       "    <tr>\n",
       "      <th>547</th>\n",
       "      <td>http://example/Treatment/treatment547</td>\n",
       "      <td>http://example/#effective</td>\n",
       "      <td>2</td>\n",
       "    </tr>\n",
       "  </tbody>\n",
       "</table>\n",
       "<p>548 rows × 3 columns</p>\n",
       "</div>"
      ],
      "text/plain": [
       "                                 treatment                       class  \\\n",
       "0      http://example/Treatment/treatment0  http://example/#low_effect   \n",
       "1      http://example/Treatment/treatment1  http://example/#low_effect   \n",
       "2      http://example/Treatment/treatment2  http://example/#low_effect   \n",
       "3      http://example/Treatment/treatment3  http://example/#low_effect   \n",
       "4    http://example/Treatment/treatment399   http://example/#effective   \n",
       "..                                     ...                         ...   \n",
       "543  http://example/Treatment/treatment543   http://example/#effective   \n",
       "544  http://example/Treatment/treatment544   http://example/#effective   \n",
       "545  http://example/Treatment/treatment545   http://example/#effective   \n",
       "546  http://example/Treatment/treatment546   http://example/#effective   \n",
       "547  http://example/Treatment/treatment547   http://example/#effective   \n",
       "\n",
       "     count_drug  \n",
       "0            10  \n",
       "1             9  \n",
       "2             9  \n",
       "3             9  \n",
       "4             9  \n",
       "..          ...  \n",
       "543           2  \n",
       "544           2  \n",
       "545           2  \n",
       "546           2  \n",
       "547           2  \n",
       "\n",
       "[548 rows x 3 columns]"
      ]
     },
     "execution_count": 6,
     "metadata": {},
     "output_type": "execute_result"
    }
   ],
   "source": [
    "qres = g.query(query)\n",
    "treatment_drug = sparql_results_to_df(qres)\n",
    "treatment_drug"
   ]
  },
  {
   "cell_type": "markdown",
   "id": "46bb4eb6",
   "metadata": {},
   "source": [
    "## Write your SPARQL query"
   ]
  },
  {
   "cell_type": "code",
   "execution_count": null,
   "id": "f80c3c9f",
   "metadata": {},
   "outputs": [],
   "source": [
    "query = \"\"\" .... \"\"\""
   ]
  },
  {
   "cell_type": "markdown",
   "id": "15e2b50d",
   "metadata": {},
   "source": [
    "## Select the benchmark"
   ]
  },
  {
   "cell_type": "code",
   "execution_count": null,
   "id": "72b56925",
   "metadata": {},
   "outputs": [],
   "source": [
    "g = "
   ]
  },
  {
   "cell_type": "markdown",
   "id": "56ade546",
   "metadata": {},
   "source": [
    "## Show the results"
   ]
  },
  {
   "cell_type": "code",
   "execution_count": null,
   "id": "a4109803",
   "metadata": {},
   "outputs": [],
   "source": [
    "qres = g.query(query_treatment_drug())\n",
    "result = sparql_results_to_df(qres)\n",
    "result"
   ]
  }
 ],
 "metadata": {
  "kernelspec": {
   "display_name": "Python 3 (ipykernel)",
   "language": "python",
   "name": "python3"
  },
  "language_info": {
   "codemirror_mode": {
    "name": "ipython",
    "version": 3
   },
   "file_extension": ".py",
   "mimetype": "text/x-python",
   "name": "python",
   "nbconvert_exporter": "python",
   "pygments_lexer": "ipython3",
   "version": "3.9.7"
  }
 },
 "nbformat": 4,
 "nbformat_minor": 5
}
