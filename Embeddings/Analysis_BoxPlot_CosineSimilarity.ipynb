{
 "cells": [
  {
   "cell_type": "code",
   "execution_count": 1,
   "metadata": {
    "id": "sWsl_GHbT1P6"
   },
   "outputs": [],
   "source": [
    "from rdflib import Graph\n",
    "from rdflib.plugins.sparql.processor import SPARQLResult\n",
    "import pandas as pd\n",
    "import numpy as np\n",
    "import seaborn as sns\n",
    "import Auxiliary\n",
    "import torch\n",
    "\n",
    "import Link_Prediction as lp\n",
    "import scipy\n",
    "from math import*\n",
    "from decimal import Decimal"
   ]
  },
  {
   "cell_type": "code",
   "execution_count": 2,
   "metadata": {},
   "outputs": [],
   "source": [
    "path = 'SubsymbolicSystem/Uniform/'"
   ]
  },
  {
   "cell_type": "code",
   "execution_count": 3,
   "metadata": {
    "id": "HI6oKl_bNw4i"
   },
   "outputs": [
    {
     "data": {
      "text/plain": [
       "<Graph identifier=N767c36ac0980469880a2ded1b652c42f (<class 'rdflib.graph.Graph'>)>"
      ]
     },
     "execution_count": 3,
     "metadata": {},
     "output_type": "execute_result"
    }
   ],
   "source": [
    "g1 = Graph()\n",
    "g1.parse(path + \"G1/Training_RDF/train_4.ttl\", format=\"ttl\")\n",
    "\n",
    "g2 = Graph()\n",
    "g2.parse(path + \"G2/Training_RDF/train_4.ttl\", format=\"ttl\")"
   ]
  },
  {
   "cell_type": "code",
   "execution_count": 4,
   "metadata": {},
   "outputs": [],
   "source": [
    "def query_treatment_by_class(response):\n",
    "    query = \"\"\"\n",
    "    PREFIX ex: <http://example/> \n",
    "\n",
    "    select distinct ?treatment\n",
    "    where {\n",
    "        ?treatment ex:belong_to \"\"\"+response+\"\"\" .\n",
    "        }\n",
    "        \"\"\"\n",
    "    return query\n",
    "\n",
    "\n",
    "def sparql_results_to_df(results: SPARQLResult) -> pd.DataFrame:\n",
    "    \"\"\"\n",
    "    Export results from an rdflib SPARQL query into a `pandas.DataFrame`,\n",
    "    using Python types. See https://github.com/RDFLib/rdflib/issues/1179.\n",
    "    \"\"\"\n",
    "    return pd.DataFrame(\n",
    "        data=([None if x is None else x.toPython() for x in row] for row in results),\n",
    "        columns=[str(x) for x in results.vars],\n",
    "    )"
   ]
  },
  {
   "cell_type": "code",
   "execution_count": 5,
   "metadata": {},
   "outputs": [],
   "source": [
    "def get_TP_treatment(path, graph, fold, model, response, th):\n",
    "    tf_testing, triple_test = lp.load_dataset(path, graph+'/test_'+str(fold)+'.ttl')\n",
    "    predicted_heads_dec_eff = lp.predict_heads(model, 'ex:belong_to', response, tf_testing)\n",
    "    threshold, threshold_index = lp.get_threshold(predicted_heads_dec_eff, th)\n",
    "    tp_fp = predicted_heads_dec_eff.iloc[0:threshold_index + 1]\n",
    "    fn_tn = predicted_heads_dec_eff.iloc[threshold_index+1:]\n",
    "    fn = fn_tn.loc[fn_tn.in_training == True]\n",
    "    tp = tp_fp.loc[tp_fp.in_training == True]\n",
    "    return list(fn.head_label.values), list(tp.head_label.values)\n",
    "\n",
    "\n",
    "def intersection_list(list1, list2):  \n",
    "    return set(list1).intersection(list2)\n",
    "\n",
    "\n",
    "def euclidean_distance(x,y):\n",
    "    return sqrt(sum(pow(a-b,2) for a, b in zip(x, y)))\n",
    "\n",
    "def manhattan_distance(x,y):\n",
    "      return sum(abs(a-b) for a,b in zip(x,y))\n",
    "\n",
    "def cosine_sim(x, y):\n",
    "    return abs(1 - scipy.spatial.distance.cosine(x, y))\n",
    "\n",
    " \n",
    "def nth_root(value, n_root):\n",
    "    root_value = 1/float(n_root)\n",
    "    return round (Decimal(value) ** Decimal(root_value),3)\n",
    " \n",
    "def minkowski_distance(x,y,p_value):\n",
    "    return nth_root(sum(pow(abs(a-b),p_value) for a,b in zip(x, y)),p_value)\n",
    "\n",
    "\n",
    "def matrix_similarity(new_df, f_dist):\n",
    "    array = new_df.set_index('target')\n",
    "    entity = list(array.index.values)\n",
    "    cosine_matrix = pd.DataFrame(index=entity, columns=entity)\n",
    "    cosine_matrix = cosine_matrix.fillna(0.0)\n",
    "    sim_val = 0\n",
    "\n",
    "    for index, row in array.iterrows():\n",
    "        for indexC, rowC in array.iterrows():\n",
    "            sim = f_dist(row.values, rowC.values)\n",
    "            sim = round(sim, 5)\n",
    "            cosine_matrix.at[index, indexC] = sim\n",
    "            if sim > sim_val and index != indexC:\n",
    "                sim_val = sim\n",
    "    return cosine_matrix, sim_val\n",
    "\n",
    "def normalize_matrix(sim_matrix):\n",
    "    max_val = max(sim_matrix.max())\n",
    "    sim_matrix = 1 - sim_matrix.div(max_val)\n",
    "    return sim_matrix"
   ]
  },
  {
   "cell_type": "code",
   "execution_count": 6,
   "metadata": {},
   "outputs": [],
   "source": [
    "fold=4\n",
    "m = 'TransH'\n",
    "graph = 'G1'\n",
    "th_lowEffect = 27.19266055 # means 399\n",
    "model_g1 = torch.load(path + graph+'/' + m + str(fold) + '/trained_model.pkl', map_location='cpu')\n",
    "g1_fn, g1_tp = get_TP_treatment(path, graph, fold, model_g1, 'ex:low_effect', th_lowEffect) # 'ex:low_effect'   'ex:effective'\n",
    "graph = 'G2'\n",
    "model_g2 = torch.load(path + graph+'/' + m + str(fold) + '/trained_model.pkl', map_location='cpu')\n",
    "g2_fn, g2_tp = get_TP_treatment(path, graph, fold, model_g2, 'ex:low_effect', th_lowEffect)"
   ]
  },
  {
   "cell_type": "code",
   "execution_count": 7,
   "metadata": {},
   "outputs": [
    {
     "data": {
      "text/plain": [
       "{'<http://example/Treatment/treatment102>',\n",
       " '<http://example/Treatment/treatment225>',\n",
       " '<http://example/Treatment/treatment312>',\n",
       " '<http://example/Treatment/treatment350>',\n",
       " '<http://example/Treatment/treatment355>'}"
      ]
     },
     "execution_count": 7,
     "metadata": {},
     "output_type": "execute_result"
    }
   ],
   "source": [
    "intersection_list(g1_fn, g2_tp)"
   ]
  },
  {
   "cell_type": "code",
   "execution_count": 8,
   "metadata": {},
   "outputs": [
    {
     "name": "stderr",
     "output_type": "stream",
     "text": [
      "C:\\Users\\rivasa\\Anaconda3\\lib\\site-packages\\pandas\\core\\frame.py:5238: SettingWithCopyWarning: \n",
      "A value is trying to be set on a copy of a slice from a DataFrame\n",
      "\n",
      "See the caveats in the documentation: https://pandas.pydata.org/pandas-docs/stable/user_guide/indexing.html#returning-a-view-versus-a-copy\n",
      "  return super().replace(\n"
     ]
    }
   ],
   "source": [
    "graph = 'G1'\n",
    "entity_embedding_tensor, relation_embedding_tensor =  Auxiliary.get_learned_embeddings(model_g1)\n",
    "tf_dataset, triple_dataset = Auxiliary.load_dataset(path, graph + '/train_'+str(fold)+'.ttl')\n",
    "entity = list(intersection_list(g1_fn, g2_tp))+['ex:low_effect']\n",
    "df_predicted_entities, new_df, df_g1 = Auxiliary.create_dataframe_predicted_entities(entity_embedding_tensor, entity,\n",
    "                                                                                     tf_dataset)\n",
    "new_df.replace('<http://example/Treatment/', '', regex=True, inplace=True)\n",
    "new_df.replace('>', '', regex=True, inplace=True)"
   ]
  },
  {
   "cell_type": "code",
   "execution_count": 9,
   "metadata": {},
   "outputs": [
    {
     "data": {
      "text/plain": [
       "21.25904"
      ]
     },
     "metadata": {},
     "output_type": "display_data"
    },
    {
     "data": {
      "text/plain": [
       "0.5086346666666667"
      ]
     },
     "metadata": {},
     "output_type": "display_data"
    },
    {
     "data": {
      "text/html": [
       "<div>\n",
       "<style scoped>\n",
       "    .dataframe tbody tr th:only-of-type {\n",
       "        vertical-align: middle;\n",
       "    }\n",
       "\n",
       "    .dataframe tbody tr th {\n",
       "        vertical-align: top;\n",
       "    }\n",
       "\n",
       "    .dataframe thead th {\n",
       "        text-align: right;\n",
       "    }\n",
       "</style>\n",
       "<table border=\"1\" class=\"dataframe\">\n",
       "  <thead>\n",
       "    <tr style=\"text-align: right;\">\n",
       "      <th></th>\n",
       "      <th>treatment102</th>\n",
       "      <th>treatment225</th>\n",
       "      <th>treatment312</th>\n",
       "      <th>treatment350</th>\n",
       "      <th>treatment355</th>\n",
       "      <th>ex:low_effect</th>\n",
       "    </tr>\n",
       "  </thead>\n",
       "  <tbody>\n",
       "    <tr>\n",
       "      <th>treatment102</th>\n",
       "      <td>1.00000</td>\n",
       "      <td>0.54485</td>\n",
       "      <td>0.29405</td>\n",
       "      <td>0.41346</td>\n",
       "      <td>0.50081</td>\n",
       "      <td>0.62688</td>\n",
       "    </tr>\n",
       "    <tr>\n",
       "      <th>treatment225</th>\n",
       "      <td>0.54485</td>\n",
       "      <td>1.00000</td>\n",
       "      <td>0.51776</td>\n",
       "      <td>0.39409</td>\n",
       "      <td>0.56162</td>\n",
       "      <td>0.56605</td>\n",
       "    </tr>\n",
       "    <tr>\n",
       "      <th>treatment312</th>\n",
       "      <td>0.29405</td>\n",
       "      <td>0.51776</td>\n",
       "      <td>1.00000</td>\n",
       "      <td>0.45444</td>\n",
       "      <td>0.43885</td>\n",
       "      <td>0.46797</td>\n",
       "    </tr>\n",
       "    <tr>\n",
       "      <th>treatment350</th>\n",
       "      <td>0.41346</td>\n",
       "      <td>0.39409</td>\n",
       "      <td>0.45444</td>\n",
       "      <td>1.00000</td>\n",
       "      <td>0.56456</td>\n",
       "      <td>0.68619</td>\n",
       "    </tr>\n",
       "    <tr>\n",
       "      <th>treatment355</th>\n",
       "      <td>0.50081</td>\n",
       "      <td>0.56162</td>\n",
       "      <td>0.43885</td>\n",
       "      <td>0.56456</td>\n",
       "      <td>1.00000</td>\n",
       "      <td>0.59794</td>\n",
       "    </tr>\n",
       "    <tr>\n",
       "      <th>ex:low_effect</th>\n",
       "      <td>0.62688</td>\n",
       "      <td>0.56605</td>\n",
       "      <td>0.46797</td>\n",
       "      <td>0.68619</td>\n",
       "      <td>0.59794</td>\n",
       "      <td>1.00000</td>\n",
       "    </tr>\n",
       "  </tbody>\n",
       "</table>\n",
       "</div>"
      ],
      "text/plain": [
       "               treatment102  treatment225  treatment312  treatment350  \\\n",
       "treatment102        1.00000       0.54485       0.29405       0.41346   \n",
       "treatment225        0.54485       1.00000       0.51776       0.39409   \n",
       "treatment312        0.29405       0.51776       1.00000       0.45444   \n",
       "treatment350        0.41346       0.39409       0.45444       1.00000   \n",
       "treatment355        0.50081       0.56162       0.43885       0.56456   \n",
       "ex:low_effect       0.62688       0.56605       0.46797       0.68619   \n",
       "\n",
       "               treatment355  ex:low_effect  \n",
       "treatment102        0.50081        0.62688  \n",
       "treatment225        0.56162        0.56605  \n",
       "treatment312        0.43885        0.46797  \n",
       "treatment350        0.56456        0.68619  \n",
       "treatment355        1.00000        0.59794  \n",
       "ex:low_effect       0.59794        1.00000  "
      ]
     },
     "metadata": {},
     "output_type": "display_data"
    }
   ],
   "source": [
    "cosine_matrix, sim_val = matrix_similarity(new_df, cosine_sim)\n",
    "summatory = sum(cosine_matrix.sum().values)\n",
    "avg_sim = (summatory - cosine_matrix.shape[0]) / (cosine_matrix.shape[0]*(cosine_matrix.shape[0]-1))\n",
    "display(sum(cosine_matrix.sum().values), avg_sim, cosine_matrix)"
   ]
  },
  {
   "cell_type": "code",
   "execution_count": 10,
   "metadata": {},
   "outputs": [
    {
     "name": "stderr",
     "output_type": "stream",
     "text": [
      "C:\\Users\\rivasa\\Anaconda3\\lib\\site-packages\\pandas\\core\\frame.py:5238: SettingWithCopyWarning: \n",
      "A value is trying to be set on a copy of a slice from a DataFrame\n",
      "\n",
      "See the caveats in the documentation: https://pandas.pydata.org/pandas-docs/stable/user_guide/indexing.html#returning-a-view-versus-a-copy\n",
      "  return super().replace(\n"
     ]
    }
   ],
   "source": [
    "graph = 'G2'\n",
    "entity_embedding_tensor, relation_embedding_tensor =  Auxiliary.get_learned_embeddings(model_g2)\n",
    "tf_dataset, triple_dataset = Auxiliary.load_dataset(path, graph + '/train_'+str(fold)+'.ttl')\n",
    "entity = list(intersection_list(g1_fn, g2_tp))+['ex:low_effect']\n",
    "df_predicted_entities, new_df, df_g2 = Auxiliary.create_dataframe_predicted_entities(entity_embedding_tensor, entity,\n",
    "                                                                                     tf_dataset)\n",
    "new_df.replace('<http://example/Treatment/', '', regex=True, inplace=True)\n",
    "new_df.replace('>', '', regex=True, inplace=True)"
   ]
  },
  {
   "cell_type": "code",
   "execution_count": 11,
   "metadata": {},
   "outputs": [
    {
     "data": {
      "text/plain": [
       "21.902519999999996"
      ]
     },
     "metadata": {},
     "output_type": "display_data"
    },
    {
     "data": {
      "text/plain": [
       "0.5300839999999999"
      ]
     },
     "metadata": {},
     "output_type": "display_data"
    },
    {
     "data": {
      "text/html": [
       "<div>\n",
       "<style scoped>\n",
       "    .dataframe tbody tr th:only-of-type {\n",
       "        vertical-align: middle;\n",
       "    }\n",
       "\n",
       "    .dataframe tbody tr th {\n",
       "        vertical-align: top;\n",
       "    }\n",
       "\n",
       "    .dataframe thead th {\n",
       "        text-align: right;\n",
       "    }\n",
       "</style>\n",
       "<table border=\"1\" class=\"dataframe\">\n",
       "  <thead>\n",
       "    <tr style=\"text-align: right;\">\n",
       "      <th></th>\n",
       "      <th>treatment102</th>\n",
       "      <th>treatment225</th>\n",
       "      <th>treatment312</th>\n",
       "      <th>treatment350</th>\n",
       "      <th>treatment355</th>\n",
       "      <th>ex:low_effect</th>\n",
       "    </tr>\n",
       "  </thead>\n",
       "  <tbody>\n",
       "    <tr>\n",
       "      <th>treatment102</th>\n",
       "      <td>1.00000</td>\n",
       "      <td>0.53250</td>\n",
       "      <td>0.31150</td>\n",
       "      <td>0.46372</td>\n",
       "      <td>0.53822</td>\n",
       "      <td>0.63444</td>\n",
       "    </tr>\n",
       "    <tr>\n",
       "      <th>treatment225</th>\n",
       "      <td>0.53250</td>\n",
       "      <td>1.00000</td>\n",
       "      <td>0.54906</td>\n",
       "      <td>0.42141</td>\n",
       "      <td>0.56491</td>\n",
       "      <td>0.56063</td>\n",
       "    </tr>\n",
       "    <tr>\n",
       "      <th>treatment312</th>\n",
       "      <td>0.31150</td>\n",
       "      <td>0.54906</td>\n",
       "      <td>1.00000</td>\n",
       "      <td>0.49781</td>\n",
       "      <td>0.47320</td>\n",
       "      <td>0.48099</td>\n",
       "    </tr>\n",
       "    <tr>\n",
       "      <th>treatment350</th>\n",
       "      <td>0.46372</td>\n",
       "      <td>0.42141</td>\n",
       "      <td>0.49781</td>\n",
       "      <td>1.00000</td>\n",
       "      <td>0.59578</td>\n",
       "      <td>0.71017</td>\n",
       "    </tr>\n",
       "    <tr>\n",
       "      <th>treatment355</th>\n",
       "      <td>0.53822</td>\n",
       "      <td>0.56491</td>\n",
       "      <td>0.47320</td>\n",
       "      <td>0.59578</td>\n",
       "      <td>1.00000</td>\n",
       "      <td>0.61692</td>\n",
       "    </tr>\n",
       "    <tr>\n",
       "      <th>ex:low_effect</th>\n",
       "      <td>0.63444</td>\n",
       "      <td>0.56063</td>\n",
       "      <td>0.48099</td>\n",
       "      <td>0.71017</td>\n",
       "      <td>0.61692</td>\n",
       "      <td>1.00000</td>\n",
       "    </tr>\n",
       "  </tbody>\n",
       "</table>\n",
       "</div>"
      ],
      "text/plain": [
       "               treatment102  treatment225  treatment312  treatment350  \\\n",
       "treatment102        1.00000       0.53250       0.31150       0.46372   \n",
       "treatment225        0.53250       1.00000       0.54906       0.42141   \n",
       "treatment312        0.31150       0.54906       1.00000       0.49781   \n",
       "treatment350        0.46372       0.42141       0.49781       1.00000   \n",
       "treatment355        0.53822       0.56491       0.47320       0.59578   \n",
       "ex:low_effect       0.63444       0.56063       0.48099       0.71017   \n",
       "\n",
       "               treatment355  ex:low_effect  \n",
       "treatment102        0.53822        0.63444  \n",
       "treatment225        0.56491        0.56063  \n",
       "treatment312        0.47320        0.48099  \n",
       "treatment350        0.59578        0.71017  \n",
       "treatment355        1.00000        0.61692  \n",
       "ex:low_effect       0.61692        1.00000  "
      ]
     },
     "metadata": {},
     "output_type": "display_data"
    }
   ],
   "source": [
    "cosine_matrix_g2, sim_val = matrix_similarity(new_df, cosine_sim)\n",
    "summatory = sum(cosine_matrix_g2.sum().values)\n",
    "avg_sim = (summatory - cosine_matrix_g2.shape[0]) / (cosine_matrix_g2.shape[0]*(cosine_matrix_g2.shape[0]-1))\n",
    "display(sum(cosine_matrix_g2.sum().values), avg_sim, cosine_matrix_g2)"
   ]
  },
  {
   "cell_type": "markdown",
   "metadata": {},
   "source": [
    "## Comparing one treatment with all the treatments of the same response"
   ]
  },
  {
   "cell_type": "markdown",
   "metadata": {},
   "source": [
    "#### Get in avg the similarity of one treatment with all the treatments of the same response"
   ]
  },
  {
   "cell_type": "code",
   "execution_count": 12,
   "metadata": {},
   "outputs": [],
   "source": [
    "def get_list_similarity(entity, g, target, graph, model, graph_name):\n",
    "    high_val_g1 = []\n",
    "    avg_sim_g1 = []\n",
    "    df1 = pd.DataFrame()\n",
    "    for e in entity[:-1]:\n",
    "        # List of treatment with a response 'X' in the training set\n",
    "        qres = g.query(query_treatment_by_class(target))\n",
    "        treatment_response = sparql_results_to_df(qres)\n",
    "        treatment_response['treatment'] = '<' + treatment_response['treatment'].astype(str) + '>'\n",
    "\n",
    "        # Adding the treatment to compare\n",
    "        df = treatment_response.append({'treatment':e}, ignore_index=True)\n",
    "        df = list(df.treatment.values)\n",
    "\n",
    "        # Get the embeddings of a list of entities\n",
    "        entity_embedding_tensor, relation_embedding_tensor =  Auxiliary.get_learned_embeddings(model)\n",
    "        tf_dataset, triple_dataset = Auxiliary.load_dataset(path, graph+'/train_'+str(fold)+'.ttl')\n",
    "        df_predicted_entities, new_df, df_g1 = Auxiliary.create_dataframe_predicted_entities(entity_embedding_tensor, df,\n",
    "                                                                                             tf_dataset)\n",
    "        new_df.replace('<http://example/Treatment/', '', regex=True, inplace=True)\n",
    "        new_df.replace('>', '', regex=True, inplace=True)\n",
    "\n",
    "        # Compute similarity matrix\n",
    "        sim_matrix, high_val_overall = matrix_similarity(new_df, cosine_sim) # cosine_sim, euclidean_distance,manhattan_distance\n",
    "    #     sim_matrix = normalize_matrix(sim_matrix)\n",
    "\n",
    "        # Get in avg the similarity of the entities\n",
    "        e = e.replace('<http://example/Treatment/', '')\n",
    "        e = e.replace('>', '')\n",
    "    #     summatory = sum(sim_matrix.sum().values)\n",
    "    #     avg_sim = (summatory - sim_matrix.shape[0]) / (sim_matrix.shape[0]*(sim_matrix.shape[0]-1))\n",
    "        similarity = sim_matrix[sim_matrix.index.str.match(e)].drop(columns=e).max().values\n",
    "        avg_sim = sum(similarity)/(sim_matrix.shape[0]-1)\n",
    "        high_val = max(similarity)\n",
    "        high_val_g1.append(high_val)\n",
    "        avg_sim_g1.append(avg_sim)\n",
    "        df = pd.DataFrame()\n",
    "        df['sim_val'] = similarity\n",
    "        df['treatment'] = e\n",
    "        df['graph'] = graph_name\n",
    "        df1 = pd.concat([df1, df])\n",
    "        #df1[e] = similarity\n",
    "        print(e, 'avg_sim:', avg_sim, 'high_val:', high_val, 'high_val_overall:', high_val_overall)\n",
    "    return df1"
   ]
  },
  {
   "cell_type": "code",
   "execution_count": 13,
   "metadata": {},
   "outputs": [
    {
     "name": "stderr",
     "output_type": "stream",
     "text": [
      "C:\\Users\\rivasa\\Anaconda3\\lib\\site-packages\\pandas\\core\\frame.py:5238: SettingWithCopyWarning: \n",
      "A value is trying to be set on a copy of a slice from a DataFrame\n",
      "\n",
      "See the caveats in the documentation: https://pandas.pydata.org/pandas-docs/stable/user_guide/indexing.html#returning-a-view-versus-a-copy\n",
      "  return super().replace(\n"
     ]
    },
    {
     "name": "stdout",
     "output_type": "stream",
     "text": [
      "treatment355 avg_sim: 0.5112635624999998 high_val: 0.75884 high_val_overall: 0.78717\n",
      "treatment350 avg_sim: 0.47024296875000005 high_val: 0.68408 high_val_overall: 0.78717\n",
      "treatment225 avg_sim: 0.44746712499999974 high_val: 0.69221 high_val_overall: 0.78717\n",
      "treatment102 avg_sim: 0.43441818750000005 high_val: 0.71403 high_val_overall: 0.78717\n",
      "treatment312 avg_sim: 0.41764253124999984 high_val: 0.61926 high_val_overall: 0.78717\n"
     ]
    }
   ],
   "source": [
    "df1 = get_list_similarity(entity=entity, g=g1, target='ex:low_effect', graph='G1',\n",
    "                          model=model_g1, graph_name='${\\cal{T\\_KG}}_{basic}$')"
   ]
  },
  {
   "cell_type": "code",
   "execution_count": 14,
   "metadata": {},
   "outputs": [
    {
     "name": "stdout",
     "output_type": "stream",
     "text": [
      "treatment355 avg_sim: 0.5315546874999999 high_val: 0.76278 high_val_overall: 0.84582\n",
      "treatment350 avg_sim: 0.49700743750000037 high_val: 0.70302 high_val_overall: 0.84582\n",
      "treatment225 avg_sim: 0.47108509375 high_val: 0.70156 high_val_overall: 0.84582\n",
      "treatment102 avg_sim: 0.45409565624999965 high_val: 0.72415 high_val_overall: 0.84582\n",
      "treatment312 avg_sim: 0.47220281249999996 high_val: 0.64906 high_val_overall: 0.84582\n"
     ]
    }
   ],
   "source": [
    "df2 = get_list_similarity(entity=entity, g=g2, target='ex:low_effect', graph='G2',\n",
    "                          model=model_g2, graph_name='$\\cal{T\\_KG}$')"
   ]
  },
  {
   "cell_type": "code",
   "execution_count": 15,
   "metadata": {},
   "outputs": [],
   "source": [
    "df3 = pd.concat([df1, df2])"
   ]
  },
  {
   "cell_type": "code",
   "execution_count": 16,
   "metadata": {},
   "outputs": [
    {
     "data": {
      "image/png": "[encoded data removed]",
      "text/plain": [
       "<Figure size 576x396 with 1 Axes>"
      ]
     },
     "metadata": {},
     "output_type": "display_data"
    }
   ],
   "source": [
    "ax = sns.boxplot(x=\"treatment\", y=\"sim_val\", hue=\"graph\", data=df3, \n",
    "                 palette=sns.color_palette(\"flare\"), linewidth=1, saturation=0.7, width=0.8,)"
   ]
  },
  {
   "cell_type": "code",
   "execution_count": 17,
   "metadata": {},
   "outputs": [],
   "source": [
    "ax.figure.savefig(fname='Plots/boxplot.pdf', format='pdf', bbox_inches='tight')"
   ]
  },
  {
   "cell_type": "code",
   "execution_count": null,
   "metadata": {},
   "outputs": [],
   "source": []
  }
 ],
 "metadata": {
  "colab": {
   "name": "Untitled0.ipynb",
   "provenance": []
  },
  "kernelspec": {
   "display_name": "Python 3 (ipykernel)",
   "language": "python",
   "name": "python3"
  },
  "language_info": {
   "codemirror_mode": {
    "name": "ipython",
    "version": 3
   },
   "file_extension": ".py",
   "mimetype": "text/x-python",
   "name": "python",
   "nbconvert_exporter": "python",
   "pygments_lexer": "ipython3",
   "version": "3.9.7"
  }
 },
 "nbformat": 4,
 "nbformat_minor": 1
}
