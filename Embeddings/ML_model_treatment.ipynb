{
 "cells": [
  {
   "cell_type": "code",
   "execution_count": 1,
   "id": "998f0059",
   "metadata": {},
   "outputs": [],
   "source": [
    "import pandas as pd\n",
    "\n",
    "import matplotlib.pyplot as plt\n",
    "import seaborn as sn\n",
    "\n",
    "from sklearn.model_selection import train_test_split\n",
    "from sklearn.model_selection import GridSearchCV\n",
    "from sklearn.ensemble import RandomForestClassifier\n",
    "from sklearn import tree\n",
    "from sklearn.model_selection import StratifiedShuffleSplit\n",
    "from sklearn.metrics import classification_report"
   ]
  },
  {
   "cell_type": "code",
   "execution_count": 32,
   "id": "1a4061a7",
   "metadata": {},
   "outputs": [
    {
     "data": {
      "text/plain": [
       "(580, 402)"
      ]
     },
     "metadata": {},
     "output_type": "display_data"
    },
    {
     "data": {
      "text/html": [
       "<div>\n",
       "<style scoped>\n",
       "    .dataframe tbody tr th:only-of-type {\n",
       "        vertical-align: middle;\n",
       "    }\n",
       "\n",
       "    .dataframe tbody tr th {\n",
       "        vertical-align: top;\n",
       "    }\n",
       "\n",
       "    .dataframe thead th {\n",
       "        text-align: right;\n",
       "    }\n",
       "</style>\n",
       "<table border=\"1\" class=\"dataframe\">\n",
       "  <thead>\n",
       "    <tr style=\"text-align: right;\">\n",
       "      <th></th>\n",
       "      <th>0</th>\n",
       "      <th>1</th>\n",
       "      <th>2</th>\n",
       "      <th>3</th>\n",
       "      <th>4</th>\n",
       "      <th>5</th>\n",
       "      <th>6</th>\n",
       "      <th>7</th>\n",
       "      <th>8</th>\n",
       "      <th>9</th>\n",
       "      <th>...</th>\n",
       "      <th>392</th>\n",
       "      <th>393</th>\n",
       "      <th>394</th>\n",
       "      <th>395</th>\n",
       "      <th>396</th>\n",
       "      <th>397</th>\n",
       "      <th>398</th>\n",
       "      <th>399</th>\n",
       "      <th>target</th>\n",
       "      <th>cls</th>\n",
       "    </tr>\n",
       "  </thead>\n",
       "  <tbody>\n",
       "    <tr>\n",
       "      <th>0</th>\n",
       "      <td>-0.335372</td>\n",
       "      <td>0.217941</td>\n",
       "      <td>0.031088</td>\n",
       "      <td>-0.264938</td>\n",
       "      <td>-0.061722</td>\n",
       "      <td>0.065573</td>\n",
       "      <td>-0.420237</td>\n",
       "      <td>0.104448</td>\n",
       "      <td>0.126440</td>\n",
       "      <td>-0.037599</td>\n",
       "      <td>...</td>\n",
       "      <td>0.143072</td>\n",
       "      <td>-0.361760</td>\n",
       "      <td>0.507593</td>\n",
       "      <td>-0.038765</td>\n",
       "      <td>0.167825</td>\n",
       "      <td>0.016370</td>\n",
       "      <td>-0.049018</td>\n",
       "      <td>0.468015</td>\n",
       "      <td>&lt;http://example/Treatment/treatment0&gt;</td>\n",
       "      <td>decrease_effectiveness</td>\n",
       "    </tr>\n",
       "    <tr>\n",
       "      <th>1</th>\n",
       "      <td>-0.041577</td>\n",
       "      <td>-0.427769</td>\n",
       "      <td>0.338862</td>\n",
       "      <td>-0.266470</td>\n",
       "      <td>-0.577185</td>\n",
       "      <td>0.367611</td>\n",
       "      <td>-0.631882</td>\n",
       "      <td>-0.349803</td>\n",
       "      <td>-0.088820</td>\n",
       "      <td>0.163129</td>\n",
       "      <td>...</td>\n",
       "      <td>-0.323966</td>\n",
       "      <td>-0.154629</td>\n",
       "      <td>-0.058052</td>\n",
       "      <td>-0.258598</td>\n",
       "      <td>-0.410999</td>\n",
       "      <td>-0.118461</td>\n",
       "      <td>-0.396808</td>\n",
       "      <td>0.094013</td>\n",
       "      <td>&lt;http://example/Treatment/treatment100&gt;</td>\n",
       "      <td>decrease_effectiveness</td>\n",
       "    </tr>\n",
       "    <tr>\n",
       "      <th>2</th>\n",
       "      <td>-0.252607</td>\n",
       "      <td>-0.497979</td>\n",
       "      <td>0.169496</td>\n",
       "      <td>0.433941</td>\n",
       "      <td>0.118006</td>\n",
       "      <td>0.127568</td>\n",
       "      <td>-0.271173</td>\n",
       "      <td>-0.613200</td>\n",
       "      <td>0.066035</td>\n",
       "      <td>-0.149933</td>\n",
       "      <td>...</td>\n",
       "      <td>0.106721</td>\n",
       "      <td>-0.098707</td>\n",
       "      <td>-0.260097</td>\n",
       "      <td>0.230458</td>\n",
       "      <td>0.140243</td>\n",
       "      <td>0.380637</td>\n",
       "      <td>0.167757</td>\n",
       "      <td>0.288613</td>\n",
       "      <td>&lt;http://example/Treatment/treatment101&gt;</td>\n",
       "      <td>decrease_effectiveness</td>\n",
       "    </tr>\n",
       "    <tr>\n",
       "      <th>3</th>\n",
       "      <td>-0.321809</td>\n",
       "      <td>0.011824</td>\n",
       "      <td>0.274040</td>\n",
       "      <td>-0.058025</td>\n",
       "      <td>0.219363</td>\n",
       "      <td>0.517750</td>\n",
       "      <td>-0.276688</td>\n",
       "      <td>-0.408989</td>\n",
       "      <td>-0.295073</td>\n",
       "      <td>-0.079781</td>\n",
       "      <td>...</td>\n",
       "      <td>0.160993</td>\n",
       "      <td>-0.473746</td>\n",
       "      <td>0.228025</td>\n",
       "      <td>0.239765</td>\n",
       "      <td>0.340143</td>\n",
       "      <td>-0.056037</td>\n",
       "      <td>-0.183916</td>\n",
       "      <td>0.622012</td>\n",
       "      <td>&lt;http://example/Treatment/treatment102&gt;</td>\n",
       "      <td>decrease_effectiveness</td>\n",
       "    </tr>\n",
       "    <tr>\n",
       "      <th>4</th>\n",
       "      <td>0.348819</td>\n",
       "      <td>0.233717</td>\n",
       "      <td>-0.097943</td>\n",
       "      <td>0.036843</td>\n",
       "      <td>0.217736</td>\n",
       "      <td>-0.121205</td>\n",
       "      <td>0.118148</td>\n",
       "      <td>-0.448963</td>\n",
       "      <td>-0.100242</td>\n",
       "      <td>0.073976</td>\n",
       "      <td>...</td>\n",
       "      <td>-0.333424</td>\n",
       "      <td>-0.377835</td>\n",
       "      <td>-0.128795</td>\n",
       "      <td>-0.505504</td>\n",
       "      <td>-0.142017</td>\n",
       "      <td>-0.080079</td>\n",
       "      <td>0.283112</td>\n",
       "      <td>-0.067669</td>\n",
       "      <td>&lt;http://example/Treatment/treatment103&gt;</td>\n",
       "      <td>decrease_effectiveness</td>\n",
       "    </tr>\n",
       "  </tbody>\n",
       "</table>\n",
       "<p>5 rows × 402 columns</p>\n",
       "</div>"
      ],
      "text/plain": [
       "          0         1         2         3         4         5         6  \\\n",
       "0 -0.335372  0.217941  0.031088 -0.264938 -0.061722  0.065573 -0.420237   \n",
       "1 -0.041577 -0.427769  0.338862 -0.266470 -0.577185  0.367611 -0.631882   \n",
       "2 -0.252607 -0.497979  0.169496  0.433941  0.118006  0.127568 -0.271173   \n",
       "3 -0.321809  0.011824  0.274040 -0.058025  0.219363  0.517750 -0.276688   \n",
       "4  0.348819  0.233717 -0.097943  0.036843  0.217736 -0.121205  0.118148   \n",
       "\n",
       "          7         8         9  ...       392       393       394       395  \\\n",
       "0  0.104448  0.126440 -0.037599  ...  0.143072 -0.361760  0.507593 -0.038765   \n",
       "1 -0.349803 -0.088820  0.163129  ... -0.323966 -0.154629 -0.058052 -0.258598   \n",
       "2 -0.613200  0.066035 -0.149933  ...  0.106721 -0.098707 -0.260097  0.230458   \n",
       "3 -0.408989 -0.295073 -0.079781  ...  0.160993 -0.473746  0.228025  0.239765   \n",
       "4 -0.448963 -0.100242  0.073976  ... -0.333424 -0.377835 -0.128795 -0.505504   \n",
       "\n",
       "        396       397       398       399  \\\n",
       "0  0.167825  0.016370 -0.049018  0.468015   \n",
       "1 -0.410999 -0.118461 -0.396808  0.094013   \n",
       "2  0.140243  0.380637  0.167757  0.288613   \n",
       "3  0.340143 -0.056037 -0.183916  0.622012   \n",
       "4 -0.142017 -0.080079  0.283112 -0.067669   \n",
       "\n",
       "                                    target                     cls  \n",
       "0    <http://example/Treatment/treatment0>  decrease_effectiveness  \n",
       "1  <http://example/Treatment/treatment100>  decrease_effectiveness  \n",
       "2  <http://example/Treatment/treatment101>  decrease_effectiveness  \n",
       "3  <http://example/Treatment/treatment102>  decrease_effectiveness  \n",
       "4  <http://example/Treatment/treatment103>  decrease_effectiveness  \n",
       "\n",
       "[5 rows x 402 columns]"
      ]
     },
     "metadata": {},
     "output_type": "display_data"
    }
   ],
   "source": [
    "input_path = 'dataset/'\n",
    "\n",
    "dataset = pd.read_csv(input_path + 'embedding_treatment_g2.csv')\n",
    "dataset = dataset.drop(columns=['c'])\n",
    "display(dataset.shape, dataset.head())"
   ]
  },
  {
   "cell_type": "code",
   "execution_count": 33,
   "id": "714c3e44",
   "metadata": {},
   "outputs": [],
   "source": [
    "dataset.loc[dataset.cls=='decrease_effectiveness', 'class'] = 1\n",
    "dataset.loc[dataset.cls=='effective', 'class'] = 0"
   ]
  },
  {
   "cell_type": "code",
   "execution_count": 34,
   "id": "f1ac212f",
   "metadata": {},
   "outputs": [
    {
     "data": {
      "text/plain": [
       "(580, 2)"
      ]
     },
     "metadata": {},
     "output_type": "display_data"
    },
    {
     "data": {
      "text/html": [
       "<div>\n",
       "<style scoped>\n",
       "    .dataframe tbody tr th:only-of-type {\n",
       "        vertical-align: middle;\n",
       "    }\n",
       "\n",
       "    .dataframe tbody tr th {\n",
       "        vertical-align: top;\n",
       "    }\n",
       "\n",
       "    .dataframe thead th {\n",
       "        text-align: right;\n",
       "    }\n",
       "</style>\n",
       "<table border=\"1\" class=\"dataframe\">\n",
       "  <thead>\n",
       "    <tr style=\"text-align: right;\">\n",
       "      <th></th>\n",
       "      <th>target</th>\n",
       "      <th>class</th>\n",
       "    </tr>\n",
       "  </thead>\n",
       "  <tbody>\n",
       "    <tr>\n",
       "      <th>0</th>\n",
       "      <td>&lt;http://example/Treatment/treatment0&gt;</td>\n",
       "      <td>1.0</td>\n",
       "    </tr>\n",
       "    <tr>\n",
       "      <th>1</th>\n",
       "      <td>&lt;http://example/Treatment/treatment100&gt;</td>\n",
       "      <td>1.0</td>\n",
       "    </tr>\n",
       "  </tbody>\n",
       "</table>\n",
       "</div>"
      ],
      "text/plain": [
       "                                    target  class\n",
       "0    <http://example/Treatment/treatment0>    1.0\n",
       "1  <http://example/Treatment/treatment100>    1.0"
      ]
     },
     "metadata": {},
     "output_type": "display_data"
    },
    {
     "data": {
      "text/plain": [
       "(580, 401)"
      ]
     },
     "metadata": {},
     "output_type": "display_data"
    },
    {
     "data": {
      "text/html": [
       "<div>\n",
       "<style scoped>\n",
       "    .dataframe tbody tr th:only-of-type {\n",
       "        vertical-align: middle;\n",
       "    }\n",
       "\n",
       "    .dataframe tbody tr th {\n",
       "        vertical-align: top;\n",
       "    }\n",
       "\n",
       "    .dataframe thead th {\n",
       "        text-align: right;\n",
       "    }\n",
       "</style>\n",
       "<table border=\"1\" class=\"dataframe\">\n",
       "  <thead>\n",
       "    <tr style=\"text-align: right;\">\n",
       "      <th></th>\n",
       "      <th>0</th>\n",
       "      <th>1</th>\n",
       "      <th>2</th>\n",
       "      <th>3</th>\n",
       "      <th>4</th>\n",
       "      <th>5</th>\n",
       "      <th>6</th>\n",
       "      <th>7</th>\n",
       "      <th>8</th>\n",
       "      <th>9</th>\n",
       "      <th>...</th>\n",
       "      <th>391</th>\n",
       "      <th>392</th>\n",
       "      <th>393</th>\n",
       "      <th>394</th>\n",
       "      <th>395</th>\n",
       "      <th>396</th>\n",
       "      <th>397</th>\n",
       "      <th>398</th>\n",
       "      <th>399</th>\n",
       "      <th>target</th>\n",
       "    </tr>\n",
       "  </thead>\n",
       "  <tbody>\n",
       "    <tr>\n",
       "      <th>0</th>\n",
       "      <td>-0.335372</td>\n",
       "      <td>0.217941</td>\n",
       "      <td>0.031088</td>\n",
       "      <td>-0.264938</td>\n",
       "      <td>-0.061722</td>\n",
       "      <td>0.065573</td>\n",
       "      <td>-0.420237</td>\n",
       "      <td>0.104448</td>\n",
       "      <td>0.12644</td>\n",
       "      <td>-0.037599</td>\n",
       "      <td>...</td>\n",
       "      <td>-0.275158</td>\n",
       "      <td>0.143072</td>\n",
       "      <td>-0.361760</td>\n",
       "      <td>0.507593</td>\n",
       "      <td>-0.038765</td>\n",
       "      <td>0.167825</td>\n",
       "      <td>0.016370</td>\n",
       "      <td>-0.049018</td>\n",
       "      <td>0.468015</td>\n",
       "      <td>&lt;http://example/Treatment/treatment0&gt;</td>\n",
       "    </tr>\n",
       "    <tr>\n",
       "      <th>1</th>\n",
       "      <td>-0.041577</td>\n",
       "      <td>-0.427769</td>\n",
       "      <td>0.338862</td>\n",
       "      <td>-0.266470</td>\n",
       "      <td>-0.577185</td>\n",
       "      <td>0.367611</td>\n",
       "      <td>-0.631882</td>\n",
       "      <td>-0.349803</td>\n",
       "      <td>-0.08882</td>\n",
       "      <td>0.163129</td>\n",
       "      <td>...</td>\n",
       "      <td>0.006792</td>\n",
       "      <td>-0.323966</td>\n",
       "      <td>-0.154629</td>\n",
       "      <td>-0.058052</td>\n",
       "      <td>-0.258598</td>\n",
       "      <td>-0.410999</td>\n",
       "      <td>-0.118461</td>\n",
       "      <td>-0.396808</td>\n",
       "      <td>0.094013</td>\n",
       "      <td>&lt;http://example/Treatment/treatment100&gt;</td>\n",
       "    </tr>\n",
       "  </tbody>\n",
       "</table>\n",
       "<p>2 rows × 401 columns</p>\n",
       "</div>"
      ],
      "text/plain": [
       "          0         1         2         3         4         5         6  \\\n",
       "0 -0.335372  0.217941  0.031088 -0.264938 -0.061722  0.065573 -0.420237   \n",
       "1 -0.041577 -0.427769  0.338862 -0.266470 -0.577185  0.367611 -0.631882   \n",
       "\n",
       "          7        8         9  ...       391       392       393       394  \\\n",
       "0  0.104448  0.12644 -0.037599  ... -0.275158  0.143072 -0.361760  0.507593   \n",
       "1 -0.349803 -0.08882  0.163129  ...  0.006792 -0.323966 -0.154629 -0.058052   \n",
       "\n",
       "        395       396       397       398       399  \\\n",
       "0 -0.038765  0.167825  0.016370 -0.049018  0.468015   \n",
       "1 -0.258598 -0.410999 -0.118461 -0.396808  0.094013   \n",
       "\n",
       "                                    target  \n",
       "0    <http://example/Treatment/treatment0>  \n",
       "1  <http://example/Treatment/treatment100>  \n",
       "\n",
       "[2 rows x 401 columns]"
      ]
     },
     "metadata": {},
     "output_type": "display_data"
    }
   ],
   "source": [
    "target_class = dataset[['target', 'class']]\n",
    "data = dataset.drop(['cls', 'class'], axis=1)\n",
    "\n",
    "display(target_class.shape, target_class.head(2), data.shape, data.head(2))"
   ]
  },
  {
   "cell_type": "code",
   "execution_count": 35,
   "id": "04ef54f4",
   "metadata": {},
   "outputs": [
    {
     "data": {
      "text/plain": [
       "1.0    524\n",
       "0.0     56\n",
       "Name: class, dtype: int64"
      ]
     },
     "execution_count": 35,
     "metadata": {},
     "output_type": "execute_result"
    }
   ],
   "source": [
    "target_class['class'].value_counts()"
   ]
  },
  {
   "cell_type": "code",
   "execution_count": 36,
   "id": "4c986acf",
   "metadata": {},
   "outputs": [],
   "source": [
    "new_data = data.drop(columns=['target'])"
   ]
  },
  {
   "cell_type": "code",
   "execution_count": 37,
   "id": "3103a64b",
   "metadata": {},
   "outputs": [],
   "source": [
    "X_train, X_test, y_train, y_test = train_test_split(new_data.values, target_class['class'].values, \n",
    "                                                    test_size=0.25, random_state=42)"
   ]
  },
  {
   "cell_type": "code",
   "execution_count": 44,
   "id": "b03cb364",
   "metadata": {},
   "outputs": [],
   "source": [
    "feature_names = new_data.columns\n",
    "parameters = {\"max_depth\": range(2,10)}\n",
    "#clf = tree.DecisionTreeClassifier(random_state=41)\n",
    "clf = RandomForestClassifier(random_state=0)\n",
    "grid = GridSearchCV(estimator=clf,param_grid=parameters)\n",
    "grid_res = grid.fit(X_train, y_train)\n",
    "best_clf = grid_res.best_estimator_\n",
    "\n",
    "\n",
    "#predictions = (clf.fit(X_train, y_train)).predict(X_test)\n",
    "best_clf.score(X_test, y_test)\n",
    "y_pred = best_clf.predict(X_test)"
   ]
  },
  {
   "cell_type": "code",
   "execution_count": 45,
   "id": "0c5d10be",
   "metadata": {},
   "outputs": [
    {
     "name": "stdout",
     "output_type": "stream",
     "text": [
      "                      precision    recall  f1-score   support\n",
      "\n",
      " Effective treatment       1.00      0.11      0.20         9\n",
      "Low-effect treatment       0.94      1.00      0.97       136\n",
      "\n",
      "            accuracy                           0.94       145\n",
      "           macro avg       0.97      0.56      0.59       145\n",
      "        weighted avg       0.95      0.94      0.92       145\n",
      "\n"
     ]
    }
   ],
   "source": [
    "target_names = ['Effective treatment','Low-effect treatment']\n",
    "print (classification_report(y_test, y_pred, target_names=target_names))"
   ]
  },
  {
   "cell_type": "code",
   "execution_count": 108,
   "id": "3686b7c6",
   "metadata": {},
   "outputs": [],
   "source": [
    "from dtreeviz.trees import dtreeviz\n",
    "import os\n",
    "os.environ[\"PATH\"] += os.pathsep + 'C:/Program Files/Graphviz/bin/'\n",
    "viz = dtreeviz(best_clf[0], new_data, target_class['class'], target_name='class', \n",
    "               feature_names=feature_names, class_names=target_names, fancy=False, \n",
    "               show_root_edge_labels=True)\n",
    "viz.view()"
   ]
  },
  {
   "cell_type": "code",
   "execution_count": null,
   "id": "f32faac7",
   "metadata": {},
   "outputs": [],
   "source": []
  },
  {
   "cell_type": "code",
   "execution_count": 30,
   "id": "127cb996",
   "metadata": {},
   "outputs": [],
   "source": [
    "from sklearn import svm\n",
    "\n",
    "clf = svm.SVC()\n",
    "clf.fit(X_train, y_train)\n",
    "y_pred = clf.predict(X_test)"
   ]
  },
  {
   "cell_type": "code",
   "execution_count": 31,
   "id": "cefb3670",
   "metadata": {},
   "outputs": [
    {
     "name": "stdout",
     "output_type": "stream",
     "text": [
      "                      precision    recall  f1-score   support\n",
      "\n",
      " Effective treatment       1.00      0.56      0.71         9\n",
      "Low-effect treatment       0.97      1.00      0.99       136\n",
      "\n",
      "            accuracy                           0.97       145\n",
      "           macro avg       0.99      0.78      0.85       145\n",
      "        weighted avg       0.97      0.97      0.97       145\n",
      "\n"
     ]
    }
   ],
   "source": [
    "target_names = ['Effective treatment','Low-effect treatment']\n",
    "print (classification_report(y_test, y_pred, target_names=target_names))"
   ]
  },
  {
   "cell_type": "code",
   "execution_count": null,
   "id": "584a1ab0",
   "metadata": {},
   "outputs": [],
   "source": []
  }
 ],
 "metadata": {
  "kernelspec": {
   "display_name": "Python 3 (ipykernel)",
   "language": "python",
   "name": "python3"
  },
  "language_info": {
   "codemirror_mode": {
    "name": "ipython",
    "version": 3
   },
   "file_extension": ".py",
   "mimetype": "text/x-python",
   "name": "python",
   "nbconvert_exporter": "python",
   "pygments_lexer": "ipython3",
   "version": "3.9.7"
  }
 },
 "nbformat": 4,
 "nbformat_minor": 5
}
