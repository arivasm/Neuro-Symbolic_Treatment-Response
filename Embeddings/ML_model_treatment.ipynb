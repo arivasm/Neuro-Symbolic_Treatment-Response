{
 "cells": [
  {
   "cell_type": "code",
   "execution_count": 1,
   "id": "998f0059",
   "metadata": {},
   "outputs": [],
   "source": [
    "import pandas as pd\n",
    "\n",
    "import matplotlib.pyplot as plt\n",
    "import seaborn as sn\n",
    "\n",
    "from sklearn.model_selection import train_test_split\n",
    "from sklearn.model_selection import GridSearchCV\n",
    "from sklearn.ensemble import RandomForestClassifier\n",
    "from sklearn import tree\n",
    "from sklearn.model_selection import StratifiedShuffleSplit\n",
    "from sklearn.metrics import classification_report"
   ]
  },
  {
   "cell_type": "code",
   "execution_count": 2,
   "id": "1a4061a7",
   "metadata": {},
   "outputs": [
    {
     "data": {
      "text/plain": [
       "(580, 402)"
      ]
     },
     "metadata": {},
     "output_type": "display_data"
    },
    {
     "data": {
      "text/html": [
       "<div>\n",
       "<style scoped>\n",
       "    .dataframe tbody tr th:only-of-type {\n",
       "        vertical-align: middle;\n",
       "    }\n",
       "\n",
       "    .dataframe tbody tr th {\n",
       "        vertical-align: top;\n",
       "    }\n",
       "\n",
       "    .dataframe thead th {\n",
       "        text-align: right;\n",
       "    }\n",
       "</style>\n",
       "<table border=\"1\" class=\"dataframe\">\n",
       "  <thead>\n",
       "    <tr style=\"text-align: right;\">\n",
       "      <th></th>\n",
       "      <th>0</th>\n",
       "      <th>1</th>\n",
       "      <th>2</th>\n",
       "      <th>3</th>\n",
       "      <th>4</th>\n",
       "      <th>5</th>\n",
       "      <th>6</th>\n",
       "      <th>7</th>\n",
       "      <th>8</th>\n",
       "      <th>9</th>\n",
       "      <th>...</th>\n",
       "      <th>392</th>\n",
       "      <th>393</th>\n",
       "      <th>394</th>\n",
       "      <th>395</th>\n",
       "      <th>396</th>\n",
       "      <th>397</th>\n",
       "      <th>398</th>\n",
       "      <th>399</th>\n",
       "      <th>target</th>\n",
       "      <th>cls</th>\n",
       "    </tr>\n",
       "  </thead>\n",
       "  <tbody>\n",
       "    <tr>\n",
       "      <th>0</th>\n",
       "      <td>-0.335372</td>\n",
       "      <td>0.217941</td>\n",
       "      <td>0.031088</td>\n",
       "      <td>-0.264938</td>\n",
       "      <td>-0.061722</td>\n",
       "      <td>0.065573</td>\n",
       "      <td>-0.420237</td>\n",
       "      <td>0.104448</td>\n",
       "      <td>0.126440</td>\n",
       "      <td>-0.037599</td>\n",
       "      <td>...</td>\n",
       "      <td>0.143072</td>\n",
       "      <td>-0.361760</td>\n",
       "      <td>0.507593</td>\n",
       "      <td>-0.038765</td>\n",
       "      <td>0.167825</td>\n",
       "      <td>0.016370</td>\n",
       "      <td>-0.049018</td>\n",
       "      <td>0.468015</td>\n",
       "      <td>&lt;http://example/Treatment/treatment0&gt;</td>\n",
       "      <td>decrease_effectiveness</td>\n",
       "    </tr>\n",
       "    <tr>\n",
       "      <th>1</th>\n",
       "      <td>-0.041577</td>\n",
       "      <td>-0.427769</td>\n",
       "      <td>0.338862</td>\n",
       "      <td>-0.266470</td>\n",
       "      <td>-0.577185</td>\n",
       "      <td>0.367611</td>\n",
       "      <td>-0.631882</td>\n",
       "      <td>-0.349803</td>\n",
       "      <td>-0.088820</td>\n",
       "      <td>0.163129</td>\n",
       "      <td>...</td>\n",
       "      <td>-0.323966</td>\n",
       "      <td>-0.154629</td>\n",
       "      <td>-0.058052</td>\n",
       "      <td>-0.258598</td>\n",
       "      <td>-0.410999</td>\n",
       "      <td>-0.118461</td>\n",
       "      <td>-0.396808</td>\n",
       "      <td>0.094013</td>\n",
       "      <td>&lt;http://example/Treatment/treatment100&gt;</td>\n",
       "      <td>decrease_effectiveness</td>\n",
       "    </tr>\n",
       "    <tr>\n",
       "      <th>2</th>\n",
       "      <td>-0.252607</td>\n",
       "      <td>-0.497979</td>\n",
       "      <td>0.169496</td>\n",
       "      <td>0.433941</td>\n",
       "      <td>0.118006</td>\n",
       "      <td>0.127568</td>\n",
       "      <td>-0.271173</td>\n",
       "      <td>-0.613200</td>\n",
       "      <td>0.066035</td>\n",
       "      <td>-0.149933</td>\n",
       "      <td>...</td>\n",
       "      <td>0.106721</td>\n",
       "      <td>-0.098707</td>\n",
       "      <td>-0.260097</td>\n",
       "      <td>0.230458</td>\n",
       "      <td>0.140243</td>\n",
       "      <td>0.380637</td>\n",
       "      <td>0.167757</td>\n",
       "      <td>0.288613</td>\n",
       "      <td>&lt;http://example/Treatment/treatment101&gt;</td>\n",
       "      <td>decrease_effectiveness</td>\n",
       "    </tr>\n",
       "    <tr>\n",
       "      <th>3</th>\n",
       "      <td>-0.321809</td>\n",
       "      <td>0.011824</td>\n",
       "      <td>0.274040</td>\n",
       "      <td>-0.058025</td>\n",
       "      <td>0.219363</td>\n",
       "      <td>0.517750</td>\n",
       "      <td>-0.276688</td>\n",
       "      <td>-0.408989</td>\n",
       "      <td>-0.295073</td>\n",
       "      <td>-0.079781</td>\n",
       "      <td>...</td>\n",
       "      <td>0.160993</td>\n",
       "      <td>-0.473746</td>\n",
       "      <td>0.228025</td>\n",
       "      <td>0.239765</td>\n",
       "      <td>0.340143</td>\n",
       "      <td>-0.056037</td>\n",
       "      <td>-0.183916</td>\n",
       "      <td>0.622012</td>\n",
       "      <td>&lt;http://example/Treatment/treatment102&gt;</td>\n",
       "      <td>decrease_effectiveness</td>\n",
       "    </tr>\n",
       "    <tr>\n",
       "      <th>4</th>\n",
       "      <td>0.348819</td>\n",
       "      <td>0.233717</td>\n",
       "      <td>-0.097943</td>\n",
       "      <td>0.036843</td>\n",
       "      <td>0.217736</td>\n",
       "      <td>-0.121205</td>\n",
       "      <td>0.118148</td>\n",
       "      <td>-0.448963</td>\n",
       "      <td>-0.100242</td>\n",
       "      <td>0.073976</td>\n",
       "      <td>...</td>\n",
       "      <td>-0.333424</td>\n",
       "      <td>-0.377835</td>\n",
       "      <td>-0.128795</td>\n",
       "      <td>-0.505504</td>\n",
       "      <td>-0.142017</td>\n",
       "      <td>-0.080079</td>\n",
       "      <td>0.283112</td>\n",
       "      <td>-0.067669</td>\n",
       "      <td>&lt;http://example/Treatment/treatment103&gt;</td>\n",
       "      <td>decrease_effectiveness</td>\n",
       "    </tr>\n",
       "  </tbody>\n",
       "</table>\n",
       "<p>5 rows × 402 columns</p>\n",
       "</div>"
      ],
      "text/plain": [
       "          0         1         2         3         4         5         6  \\\n",
       "0 -0.335372  0.217941  0.031088 -0.264938 -0.061722  0.065573 -0.420237   \n",
       "1 -0.041577 -0.427769  0.338862 -0.266470 -0.577185  0.367611 -0.631882   \n",
       "2 -0.252607 -0.497979  0.169496  0.433941  0.118006  0.127568 -0.271173   \n",
       "3 -0.321809  0.011824  0.274040 -0.058025  0.219363  0.517750 -0.276688   \n",
       "4  0.348819  0.233717 -0.097943  0.036843  0.217736 -0.121205  0.118148   \n",
       "\n",
       "          7         8         9  ...       392       393       394       395  \\\n",
       "0  0.104448  0.126440 -0.037599  ...  0.143072 -0.361760  0.507593 -0.038765   \n",
       "1 -0.349803 -0.088820  0.163129  ... -0.323966 -0.154629 -0.058052 -0.258598   \n",
       "2 -0.613200  0.066035 -0.149933  ...  0.106721 -0.098707 -0.260097  0.230458   \n",
       "3 -0.408989 -0.295073 -0.079781  ...  0.160993 -0.473746  0.228025  0.239765   \n",
       "4 -0.448963 -0.100242  0.073976  ... -0.333424 -0.377835 -0.128795 -0.505504   \n",
       "\n",
       "        396       397       398       399  \\\n",
       "0  0.167825  0.016370 -0.049018  0.468015   \n",
       "1 -0.410999 -0.118461 -0.396808  0.094013   \n",
       "2  0.140243  0.380637  0.167757  0.288613   \n",
       "3  0.340143 -0.056037 -0.183916  0.622012   \n",
       "4 -0.142017 -0.080079  0.283112 -0.067669   \n",
       "\n",
       "                                    target                     cls  \n",
       "0    <http://example/Treatment/treatment0>  decrease_effectiveness  \n",
       "1  <http://example/Treatment/treatment100>  decrease_effectiveness  \n",
       "2  <http://example/Treatment/treatment101>  decrease_effectiveness  \n",
       "3  <http://example/Treatment/treatment102>  decrease_effectiveness  \n",
       "4  <http://example/Treatment/treatment103>  decrease_effectiveness  \n",
       "\n",
       "[5 rows x 402 columns]"
      ]
     },
     "metadata": {},
     "output_type": "display_data"
    }
   ],
   "source": [
    "input_path = 'dataset/'\n",
    "\n",
    "dataset = pd.read_csv(input_path + 'embedding_treatment_g2.csv')\n",
    "dataset = dataset.drop(columns=['c'])\n",
    "display(dataset.shape, dataset.head())"
   ]
  },
  {
   "cell_type": "code",
   "execution_count": 3,
   "id": "714c3e44",
   "metadata": {},
   "outputs": [],
   "source": [
    "dataset.loc[dataset.cls=='decrease_effectiveness', 'class'] = 1\n",
    "dataset.loc[dataset.cls=='effective', 'class'] = 0"
   ]
  },
  {
   "cell_type": "code",
   "execution_count": 4,
   "id": "f1ac212f",
   "metadata": {},
   "outputs": [
    {
     "data": {
      "text/plain": [
       "(580, 2)"
      ]
     },
     "metadata": {},
     "output_type": "display_data"
    },
    {
     "data": {
      "text/html": [
       "<div>\n",
       "<style scoped>\n",
       "    .dataframe tbody tr th:only-of-type {\n",
       "        vertical-align: middle;\n",
       "    }\n",
       "\n",
       "    .dataframe tbody tr th {\n",
       "        vertical-align: top;\n",
       "    }\n",
       "\n",
       "    .dataframe thead th {\n",
       "        text-align: right;\n",
       "    }\n",
       "</style>\n",
       "<table border=\"1\" class=\"dataframe\">\n",
       "  <thead>\n",
       "    <tr style=\"text-align: right;\">\n",
       "      <th></th>\n",
       "      <th>target</th>\n",
       "      <th>class</th>\n",
       "    </tr>\n",
       "  </thead>\n",
       "  <tbody>\n",
       "    <tr>\n",
       "      <th>0</th>\n",
       "      <td>&lt;http://example/Treatment/treatment0&gt;</td>\n",
       "      <td>1.0</td>\n",
       "    </tr>\n",
       "    <tr>\n",
       "      <th>1</th>\n",
       "      <td>&lt;http://example/Treatment/treatment100&gt;</td>\n",
       "      <td>1.0</td>\n",
       "    </tr>\n",
       "  </tbody>\n",
       "</table>\n",
       "</div>"
      ],
      "text/plain": [
       "                                    target  class\n",
       "0    <http://example/Treatment/treatment0>    1.0\n",
       "1  <http://example/Treatment/treatment100>    1.0"
      ]
     },
     "metadata": {},
     "output_type": "display_data"
    },
    {
     "data": {
      "text/plain": [
       "(580, 401)"
      ]
     },
     "metadata": {},
     "output_type": "display_data"
    },
    {
     "data": {
      "text/html": [
       "<div>\n",
       "<style scoped>\n",
       "    .dataframe tbody tr th:only-of-type {\n",
       "        vertical-align: middle;\n",
       "    }\n",
       "\n",
       "    .dataframe tbody tr th {\n",
       "        vertical-align: top;\n",
       "    }\n",
       "\n",
       "    .dataframe thead th {\n",
       "        text-align: right;\n",
       "    }\n",
       "</style>\n",
       "<table border=\"1\" class=\"dataframe\">\n",
       "  <thead>\n",
       "    <tr style=\"text-align: right;\">\n",
       "      <th></th>\n",
       "      <th>0</th>\n",
       "      <th>1</th>\n",
       "      <th>2</th>\n",
       "      <th>3</th>\n",
       "      <th>4</th>\n",
       "      <th>5</th>\n",
       "      <th>6</th>\n",
       "      <th>7</th>\n",
       "      <th>8</th>\n",
       "      <th>9</th>\n",
       "      <th>...</th>\n",
       "      <th>391</th>\n",
       "      <th>392</th>\n",
       "      <th>393</th>\n",
       "      <th>394</th>\n",
       "      <th>395</th>\n",
       "      <th>396</th>\n",
       "      <th>397</th>\n",
       "      <th>398</th>\n",
       "      <th>399</th>\n",
       "      <th>target</th>\n",
       "    </tr>\n",
       "  </thead>\n",
       "  <tbody>\n",
       "    <tr>\n",
       "      <th>0</th>\n",
       "      <td>-0.335372</td>\n",
       "      <td>0.217941</td>\n",
       "      <td>0.031088</td>\n",
       "      <td>-0.264938</td>\n",
       "      <td>-0.061722</td>\n",
       "      <td>0.065573</td>\n",
       "      <td>-0.420237</td>\n",
       "      <td>0.104448</td>\n",
       "      <td>0.12644</td>\n",
       "      <td>-0.037599</td>\n",
       "      <td>...</td>\n",
       "      <td>-0.275158</td>\n",
       "      <td>0.143072</td>\n",
       "      <td>-0.361760</td>\n",
       "      <td>0.507593</td>\n",
       "      <td>-0.038765</td>\n",
       "      <td>0.167825</td>\n",
       "      <td>0.016370</td>\n",
       "      <td>-0.049018</td>\n",
       "      <td>0.468015</td>\n",
       "      <td>&lt;http://example/Treatment/treatment0&gt;</td>\n",
       "    </tr>\n",
       "    <tr>\n",
       "      <th>1</th>\n",
       "      <td>-0.041577</td>\n",
       "      <td>-0.427769</td>\n",
       "      <td>0.338862</td>\n",
       "      <td>-0.266470</td>\n",
       "      <td>-0.577185</td>\n",
       "      <td>0.367611</td>\n",
       "      <td>-0.631882</td>\n",
       "      <td>-0.349803</td>\n",
       "      <td>-0.08882</td>\n",
       "      <td>0.163129</td>\n",
       "      <td>...</td>\n",
       "      <td>0.006792</td>\n",
       "      <td>-0.323966</td>\n",
       "      <td>-0.154629</td>\n",
       "      <td>-0.058052</td>\n",
       "      <td>-0.258598</td>\n",
       "      <td>-0.410999</td>\n",
       "      <td>-0.118461</td>\n",
       "      <td>-0.396808</td>\n",
       "      <td>0.094013</td>\n",
       "      <td>&lt;http://example/Treatment/treatment100&gt;</td>\n",
       "    </tr>\n",
       "  </tbody>\n",
       "</table>\n",
       "<p>2 rows × 401 columns</p>\n",
       "</div>"
      ],
      "text/plain": [
       "          0         1         2         3         4         5         6  \\\n",
       "0 -0.335372  0.217941  0.031088 -0.264938 -0.061722  0.065573 -0.420237   \n",
       "1 -0.041577 -0.427769  0.338862 -0.266470 -0.577185  0.367611 -0.631882   \n",
       "\n",
       "          7        8         9  ...       391       392       393       394  \\\n",
       "0  0.104448  0.12644 -0.037599  ... -0.275158  0.143072 -0.361760  0.507593   \n",
       "1 -0.349803 -0.08882  0.163129  ...  0.006792 -0.323966 -0.154629 -0.058052   \n",
       "\n",
       "        395       396       397       398       399  \\\n",
       "0 -0.038765  0.167825  0.016370 -0.049018  0.468015   \n",
       "1 -0.258598 -0.410999 -0.118461 -0.396808  0.094013   \n",
       "\n",
       "                                    target  \n",
       "0    <http://example/Treatment/treatment0>  \n",
       "1  <http://example/Treatment/treatment100>  \n",
       "\n",
       "[2 rows x 401 columns]"
      ]
     },
     "metadata": {},
     "output_type": "display_data"
    }
   ],
   "source": [
    "target_class = dataset[['target', 'class']]\n",
    "data = dataset.drop(['cls', 'class'], axis=1)\n",
    "\n",
    "display(target_class.shape, target_class.head(2), data.shape, data.head(2))"
   ]
  },
  {
   "cell_type": "code",
   "execution_count": 5,
   "id": "04ef54f4",
   "metadata": {},
   "outputs": [
    {
     "data": {
      "text/plain": [
       "1.0    524\n",
       "0.0     56\n",
       "Name: class, dtype: int64"
      ]
     },
     "execution_count": 5,
     "metadata": {},
     "output_type": "execute_result"
    }
   ],
   "source": [
    "target_class['class'].value_counts()"
   ]
  },
  {
   "cell_type": "code",
   "execution_count": 6,
   "id": "4c986acf",
   "metadata": {},
   "outputs": [],
   "source": [
    "new_data = data.drop(columns=['target'])"
   ]
  },
  {
   "cell_type": "code",
   "execution_count": 85,
   "id": "3103a64b",
   "metadata": {},
   "outputs": [],
   "source": [
    "X_train, X_test, y_train, y_test = train_test_split(new_data.values, target_class['class'].values, \n",
    "                                                    test_size=0.25, random_state=42)"
   ]
  },
  {
   "cell_type": "code",
   "execution_count": 88,
   "id": "b03cb364",
   "metadata": {},
   "outputs": [],
   "source": [
    "feature_names = new_data.columns\n",
    "parameters = {\"max_depth\": range(2,10)}\n",
    "#clf = tree.DecisionTreeClassifier(random_state=41)\n",
    "clf = RandomForestClassifier(random_state=0)\n",
    "grid = GridSearchCV(estimator=clf,param_grid=parameters)\n",
    "grid_res = grid.fit(X_train, y_train)\n",
    "best_clf = grid_res.best_estimator_\n",
    "\n",
    "\n",
    "#predictions = (clf.fit(X_train, y_train)).predict(X_test)\n",
    "best_clf.score(X_test, y_test)\n",
    "y_pred = best_clf.predict(X_test)"
   ]
  },
  {
   "cell_type": "code",
   "execution_count": 103,
   "id": "5154ad59",
   "metadata": {},
   "outputs": [
    {
     "data": {
      "text/plain": [
       "RandomForestClassifier(max_depth=7, random_state=0)"
      ]
     },
     "execution_count": 103,
     "metadata": {},
     "output_type": "execute_result"
    }
   ],
   "source": [
    "grid_res.best_estimator_"
   ]
  },
  {
   "cell_type": "code",
   "execution_count": 9,
   "id": "1601bcc7",
   "metadata": {},
   "outputs": [
    {
     "name": "stdout",
     "output_type": "stream",
     "text": [
      "                      precision    recall  f1-score   support\n",
      "\n",
      " Effective treatment       1.00      0.11      0.20         9\n",
      "Low-effect treatment       0.94      1.00      0.97       136\n",
      "\n",
      "            accuracy                           0.94       145\n",
      "           macro avg       0.97      0.56      0.59       145\n",
      "        weighted avg       0.95      0.94      0.92       145\n",
      "\n"
     ]
    }
   ],
   "source": [
    "target_names = ['Effective treatment','Low-effect treatment']\n",
    "print (classification_report(y_test, y_pred, target_names=target_names))"
   ]
  },
  {
   "cell_type": "code",
   "execution_count": 34,
   "id": "f0214900",
   "metadata": {},
   "outputs": [
    {
     "data": {
      "image/png": "[encoded data removed]",
      "text/plain": [
       "<Figure size 432x288 with 2 Axes>"
      ]
     },
     "metadata": {
      "needs_background": "light"
     },
     "output_type": "display_data"
    }
   ],
   "source": [
    "import matplotlib.pyplot as plt\n",
    "from sklearn_evaluation import plot\n",
    "plot.confusion_matrix(y_test, y_pred)\n",
    "plt.show()"
   ]
  },
  {
   "cell_type": "code",
   "execution_count": 108,
   "id": "3686b7c6",
   "metadata": {},
   "outputs": [],
   "source": [
    "from dtreeviz.trees import dtreeviz\n",
    "import os\n",
    "os.environ[\"PATH\"] += os.pathsep + 'C:/Program Files/Graphviz/bin/'\n",
    "viz = dtreeviz(best_clf[0], new_data, target_class['class'], target_name='class', \n",
    "               feature_names=feature_names, class_names=target_names, fancy=False, \n",
    "               show_root_edge_labels=True)\n",
    "viz.view()"
   ]
  },
  {
   "cell_type": "code",
   "execution_count": null,
   "id": "f32faac7",
   "metadata": {},
   "outputs": [],
   "source": []
  },
  {
   "cell_type": "code",
   "execution_count": 10,
   "id": "92679e16",
   "metadata": {},
   "outputs": [],
   "source": [
    "from sklearn import svm\n",
    "\n",
    "clf = svm.SVC()\n",
    "clf.fit(X_train, y_train)\n",
    "y_pred = clf.predict(X_test)"
   ]
  },
  {
   "cell_type": "code",
   "execution_count": 11,
   "id": "8aa132ec",
   "metadata": {},
   "outputs": [
    {
     "name": "stdout",
     "output_type": "stream",
     "text": [
      "                      precision    recall  f1-score   support\n",
      "\n",
      " Effective treatment       1.00      0.89      0.94         9\n",
      "Low-effect treatment       0.99      1.00      1.00       136\n",
      "\n",
      "            accuracy                           0.99       145\n",
      "           macro avg       1.00      0.94      0.97       145\n",
      "        weighted avg       0.99      0.99      0.99       145\n",
      "\n"
     ]
    }
   ],
   "source": [
    "target_names = ['Effective treatment','Low-effect treatment']\n",
    "print (classification_report(y_test, y_pred, target_names=target_names))"
   ]
  },
  {
   "cell_type": "code",
   "execution_count": null,
   "id": "ff8317bd",
   "metadata": {},
   "outputs": [],
   "source": []
  },
  {
   "cell_type": "code",
   "execution_count": null,
   "id": "1449f822",
   "metadata": {},
   "outputs": [],
   "source": []
  },
  {
   "cell_type": "code",
   "execution_count": 16,
   "id": "feca3d5a",
   "metadata": {},
   "outputs": [
    {
     "name": "stdout",
     "output_type": "stream",
     "text": [
      "[0.98275862 0.98275862 0.98275862 1.         0.97413793]\n"
     ]
    }
   ],
   "source": [
    "clf = svm.SVC() #kernel='linear', C=1\n",
    "scores = cross_val_score(clf, new_data.values, target_class['class'].values, cv=5)\n",
    "print(scores)"
   ]
  },
  {
   "cell_type": "code",
   "execution_count": 18,
   "id": "838fb609",
   "metadata": {},
   "outputs": [],
   "source": [
    "from sklearn.model_selection import cross_val_score\n",
    "from sklearn.model_selection import cross_validate"
   ]
  },
  {
   "cell_type": "code",
   "execution_count": 29,
   "id": "551e1ecd",
   "metadata": {},
   "outputs": [
    {
     "data": {
      "text/plain": [
       "{'fit_time': array([0.00898957, 0.00800157, 0.00799036, 0.00800943, 0.00800824]),\n",
       " 'score_time': array([0.00700474, 0.00599837, 0.00500822, 0.00499868, 0.00499892]),\n",
       " 'test_recall_macro': array([0.90909091, 0.90909091, 0.90909091, 1.        , 0.875     ]),\n",
       " 'train_recall_macro': array([0.96666667, 0.96666667, 0.97777778, 0.96666667, 0.97727273]),\n",
       " 'test_accuracy': array([0.98275862, 0.98275862, 0.98275862, 1.        , 0.97413793]),\n",
       " 'train_accuracy': array([0.99353448, 0.99353448, 0.99568966, 0.99353448, 0.99568966]),\n",
       " 'test_precision_macro': array([0.99065421, 0.99065421, 0.99065421, 1.        , 0.98598131]),\n",
       " 'train_precision_macro': array([0.9964455 , 0.9964455 , 0.9976247 , 0.9964455 , 0.99763033]),\n",
       " 'test_f1_macro': array([0.94528302, 0.94528302, 0.94528302, 1.        , 0.92146242]),\n",
       " 'train_f1_macro': array([0.98097503, 0.98097503, 0.98744589, 0.98097503, 0.98718444])}"
      ]
     },
     "execution_count": 29,
     "metadata": {},
     "output_type": "execute_result"
    }
   ],
   "source": [
    "scores = cross_validate(clf, new_data.values, target_class['class'].values, cv=5,\n",
    "                        scoring=('recall_macro', 'accuracy', 'precision_macro', 'f1_macro'),\n",
    "                        return_train_score=True)\n",
    "scores"
   ]
  },
  {
   "cell_type": "code",
   "execution_count": 48,
   "id": "bfb41801",
   "metadata": {},
   "outputs": [
    {
     "data": {
      "image/png": "[encoded data removed]",
      "text/plain": [
       "<Figure size 432x288 with 1 Axes>"
      ]
     },
     "metadata": {
      "needs_background": "light"
     },
     "output_type": "display_data"
    }
   ],
   "source": [
    "from sklearn.model_selection import validation_curve\n",
    "\n",
    "\n",
    "param_range = np.logspace(-6, -1, 5)\n",
    "train_scores, test_scores = validation_curve(\n",
    "    clf, new_data.values, target_class['class'].values,\n",
    "    param_name=\"gamma\", param_range=param_range, cv=5, scoring=\"f1_macro\",)\n",
    "\n",
    "\n",
    "train_scores_mean = np.mean(train_scores, axis=1)\n",
    "train_scores_std = np.std(train_scores, axis=1)\n",
    "test_scores_mean = np.mean(test_scores, axis=1)\n",
    "test_scores_std = np.std(test_scores, axis=1)\n",
    "\n",
    "plt.title(\"Validation Curve with SVM\")\n",
    "plt.xlabel(r\"$\\gamma$\")\n",
    "plt.ylabel(\"Score\")\n",
    "plt.ylim(0.0, 1.1)\n",
    "lw = 2\n",
    "plt.semilogx(\n",
    "    param_range, train_scores_mean, label=\"Training score\", color=\"darkorange\", lw=lw\n",
    ")\n",
    "plt.fill_between(\n",
    "    param_range,\n",
    "    train_scores_mean - train_scores_std,\n",
    "    train_scores_mean + train_scores_std,\n",
    "    alpha=0.2,\n",
    "    color=\"darkorange\",\n",
    "    lw=lw,\n",
    ")\n",
    "plt.semilogx(\n",
    "    param_range, test_scores_mean, label=\"Cross-validation score\", color=\"navy\", lw=lw\n",
    ")\n",
    "plt.fill_between(\n",
    "    param_range,\n",
    "    test_scores_mean - test_scores_std,\n",
    "    test_scores_mean + test_scores_std,\n",
    "    alpha=0.2,\n",
    "    color=\"navy\",\n",
    "    lw=lw,\n",
    ")\n",
    "plt.legend(loc=\"best\")\n",
    "plt.show()"
   ]
  },
  {
   "cell_type": "code",
   "execution_count": 53,
   "id": "1803f354",
   "metadata": {},
   "outputs": [
    {
     "data": {
      "text/plain": [
       "{'C': 1.0,\n",
       " 'break_ties': False,\n",
       " 'cache_size': 200,\n",
       " 'class_weight': None,\n",
       " 'coef0': 0.0,\n",
       " 'decision_function_shape': 'ovr',\n",
       " 'degree': 3,\n",
       " 'gamma': 'scale',\n",
       " 'kernel': 'rbf',\n",
       " 'max_iter': -1,\n",
       " 'probability': False,\n",
       " 'random_state': None,\n",
       " 'shrinking': True,\n",
       " 'tol': 0.001,\n",
       " 'verbose': False}"
      ]
     },
     "execution_count": 53,
     "metadata": {},
     "output_type": "execute_result"
    }
   ],
   "source": [
    "clf.get_params().keys()"
   ]
  },
  {
   "cell_type": "code",
   "execution_count": 75,
   "id": "428fef39",
   "metadata": {},
   "outputs": [
    {
     "data": {
      "image/png": "[encoded data removed]",
      "text/plain": [
       "<Figure size 720x1080 with 6 Axes>"
      ]
     },
     "metadata": {
      "needs_background": "light"
     },
     "output_type": "display_data"
    }
   ],
   "source": [
    "import numpy as np\n",
    "import matplotlib.pyplot as plt\n",
    "from sklearn.naive_bayes import GaussianNB\n",
    "from sklearn.svm import SVC\n",
    "from sklearn.datasets import load_digits\n",
    "from sklearn.model_selection import learning_curve\n",
    "from sklearn.model_selection import ShuffleSplit\n",
    "\n",
    "\n",
    "def plot_learning_curve(\n",
    "    estimator,\n",
    "    title,\n",
    "    X,\n",
    "    y,\n",
    "    axes=None,\n",
    "    ylim=None,\n",
    "    cv=None,\n",
    "    n_jobs=None,\n",
    "    train_sizes=np.linspace(0.1, 1.0, 5),\n",
    "):\n",
    "    \"\"\"\n",
    "    Generate 3 plots: the test and training learning curve, the training\n",
    "    samples vs fit times curve, the fit times vs score curve.\n",
    "\n",
    "    Parameters\n",
    "    ----------\n",
    "    estimator : estimator instance\n",
    "        An estimator instance implementing `fit` and `predict` methods which\n",
    "        will be cloned for each validation.\n",
    "\n",
    "    title : str\n",
    "        Title for the chart.\n",
    "\n",
    "    X : array-like of shape (n_samples, n_features)\n",
    "        Training vector, where ``n_samples`` is the number of samples and\n",
    "        ``n_features`` is the number of features.\n",
    "\n",
    "    y : array-like of shape (n_samples) or (n_samples, n_features)\n",
    "        Target relative to ``X`` for classification or regression;\n",
    "        None for unsupervised learning.\n",
    "\n",
    "    axes : array-like of shape (3,), default=None\n",
    "        Axes to use for plotting the curves.\n",
    "\n",
    "    ylim : tuple of shape (2,), default=None\n",
    "        Defines minimum and maximum y-values plotted, e.g. (ymin, ymax).\n",
    "\n",
    "    cv : int, cross-validation generator or an iterable, default=None\n",
    "        Determines the cross-validation splitting strategy.\n",
    "        Possible inputs for cv are:\n",
    "\n",
    "          - None, to use the default 5-fold cross-validation,\n",
    "          - integer, to specify the number of folds.\n",
    "          - :term:`CV splitter`,\n",
    "          - An iterable yielding (train, test) splits as arrays of indices.\n",
    "\n",
    "        For integer/None inputs, if ``y`` is binary or multiclass,\n",
    "        :class:`StratifiedKFold` used. If the estimator is not a classifier\n",
    "        or if ``y`` is neither binary nor multiclass, :class:`KFold` is used.\n",
    "\n",
    "        Refer :ref:`User Guide <cross_validation>` for the various\n",
    "        cross-validators that can be used here.\n",
    "\n",
    "    n_jobs : int or None, default=None\n",
    "        Number of jobs to run in parallel.\n",
    "        ``None`` means 1 unless in a :obj:`joblib.parallel_backend` context.\n",
    "        ``-1`` means using all processors. See :term:`Glossary <n_jobs>`\n",
    "        for more details.\n",
    "\n",
    "    train_sizes : array-like of shape (n_ticks,)\n",
    "        Relative or absolute numbers of training examples that will be used to\n",
    "        generate the learning curve. If the ``dtype`` is float, it is regarded\n",
    "        as a fraction of the maximum size of the training set (that is\n",
    "        determined by the selected validation method), i.e. it has to be within\n",
    "        (0, 1]. Otherwise it is interpreted as absolute sizes of the training\n",
    "        sets. Note that for classification the number of samples usually have\n",
    "        to be big enough to contain at least one sample from each class.\n",
    "        (default: np.linspace(0.1, 1.0, 5))\n",
    "    \"\"\"\n",
    "    if axes is None:\n",
    "        _, axes = plt.subplots(1, 3, figsize=(20, 5))\n",
    "\n",
    "    axes[0].set_title(title)\n",
    "    if ylim is not None:\n",
    "        axes[0].set_ylim(*ylim)\n",
    "    axes[0].set_xlabel(\"Training examples\")\n",
    "    axes[0].set_ylabel(\"Score\")\n",
    "\n",
    "    train_sizes, train_scores, test_scores, fit_times, _ = learning_curve(\n",
    "        estimator,\n",
    "        X,\n",
    "        y,\n",
    "        cv=cv,\n",
    "        n_jobs=n_jobs,\n",
    "        train_sizes=train_sizes,\n",
    "        return_times=True,\n",
    "    )\n",
    "    train_scores_mean = np.mean(train_scores, axis=1)\n",
    "    train_scores_std = np.std(train_scores, axis=1)\n",
    "    test_scores_mean = np.mean(test_scores, axis=1)\n",
    "    test_scores_std = np.std(test_scores, axis=1)\n",
    "    fit_times_mean = np.mean(fit_times, axis=1)\n",
    "    fit_times_std = np.std(fit_times, axis=1)\n",
    "\n",
    "    # Plot learning curve\n",
    "    axes[0].grid()\n",
    "    axes[0].fill_between(\n",
    "        train_sizes,\n",
    "        train_scores_mean - train_scores_std,\n",
    "        train_scores_mean + train_scores_std,\n",
    "        alpha=0.1,\n",
    "        color=\"r\",\n",
    "    )\n",
    "    axes[0].fill_between(\n",
    "        train_sizes,\n",
    "        test_scores_mean - test_scores_std,\n",
    "        test_scores_mean + test_scores_std,\n",
    "        alpha=0.1,\n",
    "        color=\"g\",\n",
    "    )\n",
    "    axes[0].plot(\n",
    "        train_sizes, train_scores_mean, \"o-\", color=\"r\", label=\"Training score\"\n",
    "    )\n",
    "    axes[0].plot(\n",
    "        train_sizes, test_scores_mean, \"o-\", color=\"g\", label=\"Cross-validation score\"\n",
    "    )\n",
    "    axes[0].legend(loc=\"best\")\n",
    "\n",
    "    # Plot n_samples vs fit_times\n",
    "    axes[1].grid()\n",
    "    axes[1].plot(train_sizes, fit_times_mean, \"o-\")\n",
    "    axes[1].fill_between(\n",
    "        train_sizes,\n",
    "        fit_times_mean - fit_times_std,\n",
    "        fit_times_mean + fit_times_std,\n",
    "        alpha=0.1,\n",
    "    )\n",
    "    axes[1].set_xlabel(\"Training examples\")\n",
    "    axes[1].set_ylabel(\"fit_times\")\n",
    "    axes[1].set_title(\"Scalability of the model\")\n",
    "\n",
    "    # Plot fit_time vs score\n",
    "    fit_time_argsort = fit_times_mean.argsort()\n",
    "    fit_time_sorted = fit_times_mean[fit_time_argsort]\n",
    "    test_scores_mean_sorted = test_scores_mean[fit_time_argsort]\n",
    "    test_scores_std_sorted = test_scores_std[fit_time_argsort]\n",
    "    axes[2].grid()\n",
    "    axes[2].plot(fit_time_sorted, test_scores_mean_sorted, \"o-\")\n",
    "    axes[2].fill_between(\n",
    "        fit_time_sorted,\n",
    "        test_scores_mean_sorted - test_scores_std_sorted,\n",
    "        test_scores_mean_sorted + test_scores_std_sorted,\n",
    "        alpha=0.1,\n",
    "    )\n",
    "    axes[2].set_xlabel(\"fit_times\")\n",
    "    axes[2].set_ylabel(\"Score\")\n",
    "    axes[2].set_title(\"Performance of the model\")\n",
    "\n",
    "    return plt\n",
    "\n",
    "\n",
    "fig, axes = plt.subplots(3, 2, figsize=(10, 15))\n",
    "\n",
    "\n",
    "title = r\"Learning Curves (SVM, RBF kernel, $\\gamma=0.001$)\"\n",
    "# SVC is more expensive so we do a lower number of CV iterations:\n",
    "cv = ShuffleSplit(n_splits=5, test_size=0.2, random_state=0)\n",
    "estimator = SVC(gamma=0.001)\n",
    "plot_learning_curve(\n",
    "    clf, title, new_data.values, target_class['class'].values, axes=axes[:, 1], ylim=(0.7, 1.01), cv=cv, n_jobs=4\n",
    ")\n",
    "\n",
    "plt.show()"
   ]
  },
  {
   "cell_type": "code",
   "execution_count": null,
   "id": "e8b38739",
   "metadata": {},
   "outputs": [],
   "source": []
  }
 ],
 "metadata": {
  "kernelspec": {
   "display_name": "Python 3 (ipykernel)",
   "language": "python",
   "name": "python3"
  },
  "language_info": {
   "codemirror_mode": {
    "name": "ipython",
    "version": 3
   },
   "file_extension": ".py",
   "mimetype": "text/x-python",
   "name": "python",
   "nbconvert_exporter": "python",
   "pygments_lexer": "ipython3",
   "version": "3.9.7"
  }
 },
 "nbformat": 4,
 "nbformat_minor": 5
}
