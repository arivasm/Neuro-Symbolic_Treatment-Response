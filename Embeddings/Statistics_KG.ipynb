{
 "cells": [
  {
   "cell_type": "code",
   "execution_count": 1,
   "id": "f6fa5cf0",
   "metadata": {},
   "outputs": [],
   "source": [
    "from rdflib import Graph\n",
    "import pandas as pd\n",
    "import math"
   ]
  },
  {
   "cell_type": "markdown",
   "id": "4f3bb8d9",
   "metadata": {},
   "source": [
    "### Load Tretament Graphs"
   ]
  },
  {
   "cell_type": "code",
   "execution_count": 2,
   "id": "f818ea14",
   "metadata": {},
   "outputs": [
    {
     "data": {
      "text/plain": [
       "<Graph identifier=Nd798fb9f8e504bd9a083af875ab6949a (<class 'rdflib.graph.Graph'>)>"
      ]
     },
     "execution_count": 2,
     "metadata": {},
     "output_type": "execute_result"
    }
   ],
   "source": [
    "path = '../../Visualisation_Cytoscape/V4/'\n",
    "path = '../../Project_Scientific_DB_Programming/dataset/graph/'\n",
    "\"\"\"\n",
    "g1 = Graph()\n",
    "g1.parse(path + \"G1treatment.ttl\", format=\"ttl\")\n",
    "\n",
    "g2 = Graph()\n",
    "g2.parse(path + \"G2treatment.ttl\", format=\"ttl\")\n",
    "\"\"\"\n",
    "g = Graph()\n",
    "# g.parse(path+\"G3.ttl\", format=\"ttl\")\n",
    "g.parse(path+\"ddidpi.nt\", format=\"nt\")"
   ]
  },
  {
   "cell_type": "code",
   "execution_count": 4,
   "id": "a41c89c7",
   "metadata": {},
   "outputs": [
    {
     "ename": "AttributeError",
     "evalue": "can't set attribute",
     "output_type": "error",
     "traceback": [
      "\u001b[1;31m---------------------------------------------------------------------------\u001b[0m",
      "\u001b[1;31mAttributeError\u001b[0m                            Traceback (most recent call last)",
      "\u001b[1;32m~\\AppData\\Local\\Temp/ipykernel_16328/1149136890.py\u001b[0m in \u001b[0;36m<module>\u001b[1;34m\u001b[0m\n\u001b[1;32m----> 1\u001b[1;33m \u001b[1;32mfrom\u001b[0m \u001b[0mrdflib\u001b[0m\u001b[1;33m.\u001b[0m\u001b[0mplugins\u001b[0m\u001b[1;33m.\u001b[0m\u001b[0msparql\u001b[0m\u001b[1;33m.\u001b[0m\u001b[0mprocessor\u001b[0m \u001b[1;32mimport\u001b[0m \u001b[0mSPARQLResult\u001b[0m\u001b[1;33m\u001b[0m\u001b[1;33m\u001b[0m\u001b[0m\n\u001b[0m\u001b[0;32m      2\u001b[0m \u001b[1;33m\u001b[0m\u001b[0m\n\u001b[0;32m      3\u001b[0m \u001b[1;32mdef\u001b[0m \u001b[0msparql_results_to_df\u001b[0m\u001b[1;33m(\u001b[0m\u001b[0mresults\u001b[0m\u001b[1;33m:\u001b[0m \u001b[0mSPARQLResult\u001b[0m\u001b[1;33m)\u001b[0m \u001b[1;33m->\u001b[0m \u001b[0mpd\u001b[0m\u001b[1;33m.\u001b[0m\u001b[0mDataFrame\u001b[0m\u001b[1;33m:\u001b[0m\u001b[1;33m\u001b[0m\u001b[1;33m\u001b[0m\u001b[0m\n\u001b[0;32m      4\u001b[0m     \"\"\"\n\u001b[0;32m      5\u001b[0m     \u001b[0mExport\u001b[0m \u001b[0mresults\u001b[0m \u001b[1;32mfrom\u001b[0m \u001b[0man\u001b[0m \u001b[0mrdflib\u001b[0m \u001b[0mSPARQL\u001b[0m \u001b[0mquery\u001b[0m \u001b[0minto\u001b[0m \u001b[0ma\u001b[0m\u001b[0;31m \u001b[0m\u001b[0;31m`\u001b[0m\u001b[0mpandas\u001b[0m\u001b[1;33m.\u001b[0m\u001b[0mDataFrame\u001b[0m\u001b[0;31m`\u001b[0m\u001b[1;33m,\u001b[0m\u001b[1;33m\u001b[0m\u001b[1;33m\u001b[0m\u001b[0m\n",
      "\u001b[1;32m~\\Anaconda3\\lib\\site-packages\\rdflib\\plugins\\sparql\\__init__.py\u001b[0m in \u001b[0;36m<module>\u001b[1;34m\u001b[0m\n\u001b[0;32m     33\u001b[0m \u001b[1;33m\u001b[0m\u001b[0m\n\u001b[0;32m     34\u001b[0m \u001b[1;33m\u001b[0m\u001b[0m\n\u001b[1;32m---> 35\u001b[1;33m \u001b[1;32mfrom\u001b[0m \u001b[1;33m.\u001b[0m \u001b[1;32mimport\u001b[0m \u001b[0mparser\u001b[0m\u001b[1;33m\u001b[0m\u001b[1;33m\u001b[0m\u001b[0m\n\u001b[0m\u001b[0;32m     36\u001b[0m \u001b[1;32mfrom\u001b[0m \u001b[1;33m.\u001b[0m \u001b[1;32mimport\u001b[0m \u001b[0moperators\u001b[0m\u001b[1;33m\u001b[0m\u001b[1;33m\u001b[0m\u001b[0m\n\u001b[0;32m     37\u001b[0m \u001b[1;32mfrom\u001b[0m \u001b[1;33m.\u001b[0m \u001b[1;32mimport\u001b[0m \u001b[0mparserutils\u001b[0m\u001b[1;33m\u001b[0m\u001b[1;33m\u001b[0m\u001b[0m\n",
      "\u001b[1;32m~\\Anaconda3\\lib\\site-packages\\rdflib\\plugins\\sparql\\parser.py\u001b[0m in \u001b[0;36m<module>\u001b[1;34m\u001b[0m\n\u001b[0;32m    180\u001b[0m \u001b[1;31m# [140] PNAME_NS ::= PN_PREFIX? ':'\u001b[0m\u001b[1;33m\u001b[0m\u001b[1;33m\u001b[0m\u001b[0m\n\u001b[0;32m    181\u001b[0m PNAME_NS = Optional(\n\u001b[1;32m--> 182\u001b[1;33m     Param('prefix', PN_PREFIX)) + Suppress(':').leaveWhitespace()\n\u001b[0m\u001b[0;32m    183\u001b[0m \u001b[1;33m\u001b[0m\u001b[0m\n\u001b[0;32m    184\u001b[0m \u001b[1;31m# [173] PN_LOCAL_ESC ::= '\\' ( '_' | '~' | '.' | '-' | '!' | '$' | '&' | \"'\" | '(' | ')' | '*' | '+' | ',' | ';' | '=' | '/' | '?' | '#' | '@' | '%' )\u001b[0m\u001b[1;33m\u001b[0m\u001b[1;33m\u001b[0m\u001b[0m\n",
      "\u001b[1;32m~\\Anaconda3\\lib\\site-packages\\rdflib\\plugins\\sparql\\parserutils.py\u001b[0m in \u001b[0;36m__init__\u001b[1;34m(self, name, expr, isList)\u001b[0m\n\u001b[0;32m    111\u001b[0m     \"\"\"\n\u001b[0;32m    112\u001b[0m     \u001b[1;32mdef\u001b[0m \u001b[0m__init__\u001b[0m\u001b[1;33m(\u001b[0m\u001b[0mself\u001b[0m\u001b[1;33m,\u001b[0m \u001b[0mname\u001b[0m\u001b[1;33m,\u001b[0m \u001b[0mexpr\u001b[0m\u001b[1;33m,\u001b[0m \u001b[0misList\u001b[0m\u001b[1;33m=\u001b[0m\u001b[1;32mFalse\u001b[0m\u001b[1;33m)\u001b[0m\u001b[1;33m:\u001b[0m\u001b[1;33m\u001b[0m\u001b[1;33m\u001b[0m\u001b[0m\n\u001b[1;32m--> 113\u001b[1;33m         \u001b[0mself\u001b[0m\u001b[1;33m.\u001b[0m\u001b[0mname\u001b[0m \u001b[1;33m=\u001b[0m \u001b[0mname\u001b[0m\u001b[1;33m\u001b[0m\u001b[1;33m\u001b[0m\u001b[0m\n\u001b[0m\u001b[0;32m    114\u001b[0m         \u001b[0mself\u001b[0m\u001b[1;33m.\u001b[0m\u001b[0misList\u001b[0m \u001b[1;33m=\u001b[0m \u001b[0misList\u001b[0m\u001b[1;33m\u001b[0m\u001b[1;33m\u001b[0m\u001b[0m\n\u001b[0;32m    115\u001b[0m         \u001b[0mTokenConverter\u001b[0m\u001b[1;33m.\u001b[0m\u001b[0m__init__\u001b[0m\u001b[1;33m(\u001b[0m\u001b[0mself\u001b[0m\u001b[1;33m,\u001b[0m \u001b[0mexpr\u001b[0m\u001b[1;33m)\u001b[0m\u001b[1;33m\u001b[0m\u001b[1;33m\u001b[0m\u001b[0m\n",
      "\u001b[1;31mAttributeError\u001b[0m: can't set attribute"
     ]
    }
   ],
   "source": [
    "from rdflib.plugins.sparql.processor import SPARQLResult\n",
    "\n",
    "def sparql_results_to_df(results: SPARQLResult) -> pd.DataFrame:\n",
    "    \"\"\"\n",
    "    Export results from an rdflib SPARQL query into a `pandas.DataFrame`,\n",
    "    using Python types. See https://github.com/RDFLib/rdflib/issues/1179.\n",
    "    \"\"\"\n",
    "    return pd.DataFrame(\n",
    "        data=([None if x is None else x.toPython() for x in row] for row in results),\n",
    "        columns=[str(x) for x in results.vars],\n",
    "    )"
   ]
  },
  {
   "cell_type": "code",
   "execution_count": null,
   "id": "456d7f84",
   "metadata": {},
   "outputs": [],
   "source": [
    "def cardinality_relation(graph, relation):\n",
    "    query = \"\"\"\n",
    "    select (count(?s) as ?count)\n",
    "    where {\n",
    "        ?s <\"\"\" + relation + \"\"\"> ?o\n",
    "        }\n",
    "        \"\"\"\n",
    "    qres = graph.query(query)\n",
    "    cardinality = sparql_results_to_df(qres)\n",
    "    return cardinality.iloc[0][0]\n",
    "\n",
    "\n",
    "def cardinality_entity(graph, entity):\n",
    "    query = \"\"\"\n",
    "    select (count(?s) as ?count)\n",
    "    where {\n",
    "        ?s ?p <\"\"\" + entity + \"\"\">\n",
    "        }\n",
    "        \"\"\"\n",
    "    qres = graph.query(query)\n",
    "    cardinality = sparql_results_to_df(qres).iloc[0][0]\n",
    "    \n",
    "    query = \"\"\"\n",
    "    select (count(?o) as ?count)\n",
    "    where {\n",
    "        <\"\"\" + entity + \"\"\"> ?p ?o\n",
    "        }\n",
    "        \"\"\"\n",
    "    qres = graph.query(query)\n",
    "    cardinality += sparql_results_to_df(qres).iloc[0][0]\n",
    "    return cardinality\n",
    "\n",
    "\n",
    "def probability_relation(graph, r):\n",
    "    cardinality  = cardinality_relation(graph, r)\n",
    "    return cardinality / len(graph)\n",
    "\n",
    "\n",
    "def probability_entity(graph, e):\n",
    "    cardinality  = cardinality_entity(graph, e)\n",
    "    return cardinality / len(graph)\n",
    "\n",
    "\n",
    "def get_triples(graph):\n",
    "    query = \"\"\"    \n",
    "    select distinct ?s ?predicate ?object\n",
    "    where {\n",
    "        ?s ?predicate ?object\n",
    "        }\n",
    "        \"\"\"\n",
    "    qres = graph.query(query)\n",
    "    triples = sparql_results_to_df(qres)\n",
    "    return triples\n",
    "\n",
    "\n",
    "def list_relation(triples):\n",
    "    return list(triples.predicate.unique())\n",
    "\n",
    "\n",
    "def list_entity(triples):\n",
    "    entity = set(list(triples.s.unique()) + list(triples.object.unique()))\n",
    "    return entity\n",
    "\n",
    "\n",
    "def relation_entropy(graph, relation):\n",
    "    RE = 0\n",
    "    for r in relation:\n",
    "        p_r = probability_relation(graph, r)\n",
    "        val = -p_r*math.log(p_r)\n",
    "        RE += val\n",
    "    return RE\n",
    "\n",
    "\n",
    "def entity_entropy(graph, entity):\n",
    "    EE = 0\n",
    "    for e in entity:\n",
    "        p_e = probability_entity(graph, e)\n",
    "        val = -p_e*math.log(p_e)\n",
    "        EE += val\n",
    "    return EE\n",
    "\n",
    "\n",
    "def relational_density(graph, relation):\n",
    "    return len(graph) / len(relation)\n",
    "\n",
    "\n",
    "def entity_density(graph, entity):\n",
    "    return 2 * len(graph) / len(entity)"
   ]
  },
  {
   "cell_type": "code",
   "execution_count": null,
   "id": "87a20db0",
   "metadata": {},
   "outputs": [],
   "source": [
    "triples = get_triples(g)\n",
    "relation = list_relation(triples)\n",
    "entity = list_entity(triples)"
   ]
  },
  {
   "cell_type": "code",
   "execution_count": null,
   "id": "c05abc8c",
   "metadata": {},
   "outputs": [],
   "source": [
    "print(triples.shape[0], len(relation), len(entity))"
   ]
  },
  {
   "cell_type": "markdown",
   "id": "be23f58d",
   "metadata": {},
   "source": [
    "### Entropy-based measure. Diversity "
   ]
  },
  {
   "cell_type": "code",
   "execution_count": 24,
   "id": "b1d824a4",
   "metadata": {},
   "outputs": [
    {
     "data": {
      "text/plain": [
       "1.7101143796701925"
      ]
     },
     "execution_count": 24,
     "metadata": {},
     "output_type": "execute_result"
    }
   ],
   "source": [
    "relation_entropy(g, relation)"
   ]
  },
  {
   "cell_type": "code",
   "execution_count": 25,
   "id": "f3f37d6d",
   "metadata": {},
   "outputs": [
    {
     "data": {
      "text/plain": [
       "11.291477876812937"
      ]
     },
     "execution_count": 25,
     "metadata": {},
     "output_type": "execute_result"
    }
   ],
   "source": [
    "entity_entropy(g, entity)"
   ]
  },
  {
   "cell_type": "markdown",
   "id": "1822eba8",
   "metadata": {},
   "source": [
    "### Sparcy metric"
   ]
  },
  {
   "cell_type": "code",
   "execution_count": 26,
   "id": "77b8e448",
   "metadata": {},
   "outputs": [
    {
     "data": {
      "text/plain": [
       "953.5714285714286"
      ]
     },
     "execution_count": 26,
     "metadata": {},
     "output_type": "execute_result"
    }
   ],
   "source": [
    "RD = relational_density(g, relation)\n",
    "RD"
   ]
  },
  {
   "cell_type": "code",
   "execution_count": 27,
   "id": "5d4cc76b",
   "metadata": {},
   "outputs": [
    {
     "data": {
      "text/plain": [
       "12.488306828811973"
      ]
     },
     "execution_count": 27,
     "metadata": {},
     "output_type": "execute_result"
    }
   ],
   "source": [
    "ED = entity_density(g, entity)\n",
    "ED"
   ]
  },
  {
   "cell_type": "code",
   "execution_count": 93,
   "id": "39631433",
   "metadata": {},
   "outputs": [],
   "source": [
    "# 5630 7 1069                                   6675 7 1069                6675 7 1069\n",
    "\"\"\"\n",
    "              G1                              G2                             G3\n",
    "------------------------------    ---------------------------------     --------------------------------\n",
    "  RE  |  EE    |  RD   |  ED   |       RE   |  EE    |  RD   |  ED   |       RE   |  EE    |  RD  |  ED  |        \n",
    "------ -------- --------------    ------- -------------------------     ------- ------------------------\n",
    "1.615 | 10.846 |804.286| 10.533|      1.726 | 10.989 |953.571| 12.488|    1.710   | 11.291 |953.571|12.488|\n",
    "\n",
    "\"\"\""
   ]
  }
 ],
 "metadata": {
  "kernelspec": {
   "display_name": "Python 3 (ipykernel)",
   "language": "python",
   "name": "python3"
  },
  "language_info": {
   "codemirror_mode": {
    "name": "ipython",
    "version": 3
   },
   "file_extension": ".py",
   "mimetype": "text/x-python",
   "name": "python",
   "nbconvert_exporter": "python",
   "pygments_lexer": "ipython3",
   "version": "3.9.7"
  }
 },
 "nbformat": 4,
 "nbformat_minor": 5
}
