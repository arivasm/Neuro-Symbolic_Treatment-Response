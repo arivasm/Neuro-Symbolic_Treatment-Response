{
 "cells": [
  {
   "cell_type": "markdown",
   "id": "babadddd",
   "metadata": {},
   "source": [
    "### Removing duplicate triples when is obtained treatments by parallel codes"
   ]
  },
  {
   "cell_type": "code",
   "execution_count": 1,
   "id": "087fec88",
   "metadata": {},
   "outputs": [],
   "source": [
    "import pandas as pd\n",
    "from sklearn.model_selection import KFold\n",
    "from rdflib import Graph\n",
    "\n",
    "from collections import OrderedDict"
   ]
  },
  {
   "cell_type": "code",
   "execution_count": 2,
   "id": "90f5e39c",
   "metadata": {},
   "outputs": [],
   "source": [
    "#path = 'dataset/small_dataset/Study_2/'\n",
    "path = ''"
   ]
  },
  {
   "cell_type": "code",
   "execution_count": 5,
   "id": "3254bab0",
   "metadata": {},
   "outputs": [],
   "source": [
    "def save_ttl_file(graph_ttl, path):\n",
    "    #open text file\n",
    "    ttl_file = open(path + \"G1_00.ttl\", \"w\")\n",
    "    #write string to file\n",
    "    n = ttl_file.write(graph_ttl)\n",
    "    #close file\n",
    "    ttl_file.close()"
   ]
  },
  {
   "cell_type": "code",
   "execution_count": 6,
   "id": "050526ac",
   "metadata": {},
   "outputs": [],
   "source": [
    "graph_ttl = open(path + \"G1.ttl\").read()\n",
    "graph_ttl = \"\\n\".join(list(OrderedDict.fromkeys(graph_ttl.split(\"\\n\"))))\n",
    "save_ttl_file(graph_ttl, path)"
   ]
  },
  {
   "cell_type": "code",
   "execution_count": null,
   "id": "08200705",
   "metadata": {},
   "outputs": [],
   "source": []
  },
  {
   "cell_type": "markdown",
   "id": "7e5c7f75",
   "metadata": {},
   "source": [
    "# Cross-Validation"
   ]
  },
  {
   "cell_type": "code",
   "execution_count": 3,
   "id": "4fbe0862",
   "metadata": {},
   "outputs": [
    {
     "data": {
      "text/plain": [
       "<Graph identifier=N38076e7801d542eebd817b79ce4b04f2 (<class 'rdflib.graph.Graph'>)>"
      ]
     },
     "execution_count": 3,
     "metadata": {},
     "output_type": "execute_result"
    }
   ],
   "source": [
    "g = Graph()\n",
    "g.parse(\"G1.ttl\", format=\"ttl\")"
   ]
  },
  {
   "cell_type": "code",
   "execution_count": 4,
   "id": "9064cb5b",
   "metadata": {},
   "outputs": [],
   "source": [
    "from rdflib.plugins.sparql.processor import SPARQLResult\n",
    "\n",
    "def sparql_results_to_df(results: SPARQLResult) -> pd.DataFrame:\n",
    "    \"\"\"\n",
    "    Export results from an rdflib SPARQL query into a `pandas.DataFrame`,\n",
    "    using Python types. See https://github.com/RDFLib/rdflib/issues/1179.\n",
    "    \"\"\"\n",
    "    return pd.DataFrame(\n",
    "        data=([None if x is None else x.toPython() for x in row] for row in results),\n",
    "        columns=[str(x) for x in results.vars],\n",
    "    )"
   ]
  },
  {
   "cell_type": "code",
   "execution_count": 7,
   "id": "c956509d",
   "metadata": {},
   "outputs": [],
   "source": [
    "query = \"\"\"PREFIX rdf: <http://www.w3.org/1999/02/22-rdf-syntax-ns#>\n",
    "PREFIX ex: <http://example/#> \n",
    "PREFIX treatment_drug: <http://example/Treatment_Drug#>\n",
    "    \n",
    "select distinct ?treatment\n",
    "where {\n",
    "    ?treatment rdf:type ex:Treatment .\n",
    "    ?treatment ex:hasClassificationEffect ex:effective .\n",
    "    }\n",
    "    \"\"\"\n",
    "\n",
    "qres = g.query(query)\n",
    "#df_toxicity = pd.DataFrame(qres.bindings)\n",
    "df_effective = sparql_results_to_df(qres)\n",
    "df_effective['predicate'] = 'ex:hasClassificationEffect'\n",
    "df_effective['object'] = 'ex:effective .'\n",
    "#df_toxicity.replace('http://example/Treatment_Drug#', 'treatment_drug:', regex=True, inplace=True)"
   ]
  },
  {
   "cell_type": "code",
   "execution_count": 10,
   "id": "4a3f664c",
   "metadata": {},
   "outputs": [
    {
     "data": {
      "text/html": [
       "<div>\n",
       "<style scoped>\n",
       "    .dataframe tbody tr th:only-of-type {\n",
       "        vertical-align: middle;\n",
       "    }\n",
       "\n",
       "    .dataframe tbody tr th {\n",
       "        vertical-align: top;\n",
       "    }\n",
       "\n",
       "    .dataframe thead th {\n",
       "        text-align: right;\n",
       "    }\n",
       "</style>\n",
       "<table border=\"1\" class=\"dataframe\">\n",
       "  <thead>\n",
       "    <tr style=\"text-align: right;\">\n",
       "      <th></th>\n",
       "      <th>treatment</th>\n",
       "      <th>predicate</th>\n",
       "      <th>object</th>\n",
       "    </tr>\n",
       "  </thead>\n",
       "  <tbody>\n",
       "    <tr>\n",
       "      <th>0</th>\n",
       "      <td>http://example/Treatment/treatment0</td>\n",
       "      <td>ex:hasClassificationEffect</td>\n",
       "      <td>ex:decrease_effectiveness .</td>\n",
       "    </tr>\n",
       "    <tr>\n",
       "      <th>1</th>\n",
       "      <td>http://example/Treatment/treatment1</td>\n",
       "      <td>ex:hasClassificationEffect</td>\n",
       "      <td>ex:decrease_effectiveness .</td>\n",
       "    </tr>\n",
       "    <tr>\n",
       "      <th>2</th>\n",
       "      <td>http://example/Treatment/treatment2</td>\n",
       "      <td>ex:hasClassificationEffect</td>\n",
       "      <td>ex:decrease_effectiveness .</td>\n",
       "    </tr>\n",
       "    <tr>\n",
       "      <th>3</th>\n",
       "      <td>http://example/Treatment/treatment3</td>\n",
       "      <td>ex:hasClassificationEffect</td>\n",
       "      <td>ex:decrease_effectiveness .</td>\n",
       "    </tr>\n",
       "    <tr>\n",
       "      <th>4</th>\n",
       "      <td>http://example/Treatment/treatment4</td>\n",
       "      <td>ex:hasClassificationEffect</td>\n",
       "      <td>ex:decrease_effectiveness .</td>\n",
       "    </tr>\n",
       "    <tr>\n",
       "      <th>...</th>\n",
       "      <td>...</td>\n",
       "      <td>...</td>\n",
       "      <td>...</td>\n",
       "    </tr>\n",
       "    <tr>\n",
       "      <th>519</th>\n",
       "      <td>http://example/Treatment/treatment519</td>\n",
       "      <td>ex:hasClassificationEffect</td>\n",
       "      <td>ex:decrease_effectiveness .</td>\n",
       "    </tr>\n",
       "    <tr>\n",
       "      <th>520</th>\n",
       "      <td>http://example/Treatment/treatment520</td>\n",
       "      <td>ex:hasClassificationEffect</td>\n",
       "      <td>ex:decrease_effectiveness .</td>\n",
       "    </tr>\n",
       "    <tr>\n",
       "      <th>521</th>\n",
       "      <td>http://example/Treatment/treatment521</td>\n",
       "      <td>ex:hasClassificationEffect</td>\n",
       "      <td>ex:decrease_effectiveness .</td>\n",
       "    </tr>\n",
       "    <tr>\n",
       "      <th>522</th>\n",
       "      <td>http://example/Treatment/treatment522</td>\n",
       "      <td>ex:hasClassificationEffect</td>\n",
       "      <td>ex:decrease_effectiveness .</td>\n",
       "    </tr>\n",
       "    <tr>\n",
       "      <th>523</th>\n",
       "      <td>http://example/Treatment/treatment523</td>\n",
       "      <td>ex:hasClassificationEffect</td>\n",
       "      <td>ex:decrease_effectiveness .</td>\n",
       "    </tr>\n",
       "  </tbody>\n",
       "</table>\n",
       "<p>524 rows × 3 columns</p>\n",
       "</div>"
      ],
      "text/plain": [
       "                                 treatment                   predicate  \\\n",
       "0      http://example/Treatment/treatment0  ex:hasClassificationEffect   \n",
       "1      http://example/Treatment/treatment1  ex:hasClassificationEffect   \n",
       "2      http://example/Treatment/treatment2  ex:hasClassificationEffect   \n",
       "3      http://example/Treatment/treatment3  ex:hasClassificationEffect   \n",
       "4      http://example/Treatment/treatment4  ex:hasClassificationEffect   \n",
       "..                                     ...                         ...   \n",
       "519  http://example/Treatment/treatment519  ex:hasClassificationEffect   \n",
       "520  http://example/Treatment/treatment520  ex:hasClassificationEffect   \n",
       "521  http://example/Treatment/treatment521  ex:hasClassificationEffect   \n",
       "522  http://example/Treatment/treatment522  ex:hasClassificationEffect   \n",
       "523  http://example/Treatment/treatment523  ex:hasClassificationEffect   \n",
       "\n",
       "                          object  \n",
       "0    ex:decrease_effectiveness .  \n",
       "1    ex:decrease_effectiveness .  \n",
       "2    ex:decrease_effectiveness .  \n",
       "3    ex:decrease_effectiveness .  \n",
       "4    ex:decrease_effectiveness .  \n",
       "..                           ...  \n",
       "519  ex:decrease_effectiveness .  \n",
       "520  ex:decrease_effectiveness .  \n",
       "521  ex:decrease_effectiveness .  \n",
       "522  ex:decrease_effectiveness .  \n",
       "523  ex:decrease_effectiveness .  \n",
       "\n",
       "[524 rows x 3 columns]"
      ]
     },
     "execution_count": 10,
     "metadata": {},
     "output_type": "execute_result"
    }
   ],
   "source": [
    "df_decrease_effectiveness"
   ]
  },
  {
   "cell_type": "code",
   "execution_count": 8,
   "id": "43c4eec9",
   "metadata": {},
   "outputs": [],
   "source": [
    "query = \"\"\"PREFIX rdf: <http://www.w3.org/1999/02/22-rdf-syntax-ns#>\n",
    "PREFIX ex: <http://example/#> \n",
    "PREFIX treatment_drug: <http://example/Treatment_Drug#>\n",
    "    \n",
    "select distinct ?treatment\n",
    "where {\n",
    "    ?treatment rdf:type ex:Treatment .\n",
    "    ?treatment ex:hasClassificationEffect ex:decrease_effectiveness .\n",
    "    }\n",
    "    \"\"\"\n",
    "#<http://example/Treatment/treatment301>\n",
    "\n",
    "qres = g.query(query)\n",
    "\n",
    "#df_effectiveness = pd.DataFrame(qres.bindings)\n",
    "df_decrease_effectiveness = sparql_results_to_df(qres)\n",
    "df_decrease_effectiveness['predicate'] = 'ex:hasClassificationEffect'\n",
    "df_decrease_effectiveness['object'] = 'ex:decrease_effectiveness .'\n",
    "#df_effectiveness.replace('http://example/Treatment_Drug#', 'treatment_drug:', regex=True, inplace=True)"
   ]
  },
  {
   "cell_type": "code",
   "execution_count": 9,
   "id": "f64030c0",
   "metadata": {},
   "outputs": [
    {
     "data": {
      "text/html": [
       "<div>\n",
       "<style scoped>\n",
       "    .dataframe tbody tr th:only-of-type {\n",
       "        vertical-align: middle;\n",
       "    }\n",
       "\n",
       "    .dataframe tbody tr th {\n",
       "        vertical-align: top;\n",
       "    }\n",
       "\n",
       "    .dataframe thead th {\n",
       "        text-align: right;\n",
       "    }\n",
       "</style>\n",
       "<table border=\"1\" class=\"dataframe\">\n",
       "  <thead>\n",
       "    <tr style=\"text-align: right;\">\n",
       "      <th></th>\n",
       "      <th>treatment</th>\n",
       "      <th>predicate</th>\n",
       "      <th>object</th>\n",
       "    </tr>\n",
       "  </thead>\n",
       "  <tbody>\n",
       "    <tr>\n",
       "      <th>0</th>\n",
       "      <td>&lt;http://example/Treatment/treatment524&gt;</td>\n",
       "      <td>ex:hasClassificationEffect</td>\n",
       "      <td>ex:effective .</td>\n",
       "    </tr>\n",
       "    <tr>\n",
       "      <th>1</th>\n",
       "      <td>&lt;http://example/Treatment/treatment525&gt;</td>\n",
       "      <td>ex:hasClassificationEffect</td>\n",
       "      <td>ex:effective .</td>\n",
       "    </tr>\n",
       "  </tbody>\n",
       "</table>\n",
       "</div>"
      ],
      "text/plain": [
       "                                 treatment                   predicate  \\\n",
       "0  <http://example/Treatment/treatment524>  ex:hasClassificationEffect   \n",
       "1  <http://example/Treatment/treatment525>  ex:hasClassificationEffect   \n",
       "\n",
       "           object  \n",
       "0  ex:effective .  \n",
       "1  ex:effective .  "
      ]
     },
     "metadata": {},
     "output_type": "display_data"
    },
    {
     "data": {
      "text/plain": [
       "(580, 3)"
      ]
     },
     "metadata": {},
     "output_type": "display_data"
    }
   ],
   "source": [
    "df_category = pd.concat([df_effective, df_decrease_effectiveness])\n",
    "df_category['treatment'] = '<' + df_category['treatment'].astype(str) + '>'\n",
    "display(df_category.head(2), df_category.shape)"
   ]
  },
  {
   "cell_type": "code",
   "execution_count": 10,
   "id": "1f8baab2",
   "metadata": {},
   "outputs": [
    {
     "data": {
      "text/html": [
       "<div>\n",
       "<style scoped>\n",
       "    .dataframe tbody tr th:only-of-type {\n",
       "        vertical-align: middle;\n",
       "    }\n",
       "\n",
       "    .dataframe tbody tr th {\n",
       "        vertical-align: top;\n",
       "    }\n",
       "\n",
       "    .dataframe thead th {\n",
       "        text-align: right;\n",
       "    }\n",
       "</style>\n",
       "<table border=\"1\" class=\"dataframe\">\n",
       "  <thead>\n",
       "    <tr style=\"text-align: right;\">\n",
       "      <th></th>\n",
       "      <th>treatment</th>\n",
       "      <th>predicate</th>\n",
       "      <th>object</th>\n",
       "    </tr>\n",
       "  </thead>\n",
       "  <tbody>\n",
       "    <tr>\n",
       "      <th>0</th>\n",
       "      <td>&lt;http://example/Treatment/treatment524&gt;</td>\n",
       "      <td>ex:hasClassificationEffect</td>\n",
       "      <td>ex:effective .</td>\n",
       "    </tr>\n",
       "    <tr>\n",
       "      <th>1</th>\n",
       "      <td>&lt;http://example/Treatment/treatment525&gt;</td>\n",
       "      <td>ex:hasClassificationEffect</td>\n",
       "      <td>ex:effective .</td>\n",
       "    </tr>\n",
       "  </tbody>\n",
       "</table>\n",
       "</div>"
      ],
      "text/plain": [
       "                                 treatment                   predicate  \\\n",
       "0  <http://example/Treatment/treatment524>  ex:hasClassificationEffect   \n",
       "1  <http://example/Treatment/treatment525>  ex:hasClassificationEffect   \n",
       "\n",
       "           object  \n",
       "0  ex:effective .  \n",
       "1  ex:effective .  "
      ]
     },
     "metadata": {},
     "output_type": "display_data"
    },
    {
     "data": {
      "text/plain": [
       "(580, 3)"
      ]
     },
     "metadata": {},
     "output_type": "display_data"
    }
   ],
   "source": [
    "df_category.reset_index(inplace=True)\n",
    "df_category.drop(columns=['index'], inplace=True)\n",
    "display(df_category.head(2), df_category.shape)"
   ]
  },
  {
   "cell_type": "code",
   "execution_count": 11,
   "id": "0bbb2a8a",
   "metadata": {},
   "outputs": [],
   "source": [
    "def cross_validation(dataset):\n",
    "    test_set = []\n",
    "    training_set = []\n",
    "    X = dataset\n",
    "    kf = KFold(n_splits=5, shuffle=True, random_state=0)\n",
    "    kf.get_n_splits(X)\n",
    "    \n",
    "    split = 1\n",
    "    for train_index, test_index in kf.split(X):\n",
    "        #print(\"TRAIN:\", train_index, \"TEST:\", test_index)\n",
    "        #print(len(test_index))\n",
    "        #test_set.append(X.iloc[test_index])\n",
    "        #training_set.append(X.iloc[train_index])\n",
    "        test = X.iloc[test_index]\n",
    "        test['object'] = test['object'].str.replace(' .', '')\n",
    "        test.to_csv(path + 'G3/test_'+str(split)+'.ttl', sep='\\t', index=False, header=False)\n",
    "        create_training_set(split)\n",
    "        split+=1"
   ]
  },
  {
   "cell_type": "code",
   "execution_count": 12,
   "id": "a99574fe",
   "metadata": {},
   "outputs": [],
   "source": [
    "def create_training_set(split):\n",
    "    with open(path + 'G3/test_'+str(split)+'.ttl', \"r\") as f:\n",
    "        lines_test = f.readlines()\n",
    "    with open(path + \"G3.ttl\", \"r\") as f:\n",
    "        lines_data = f.readlines()\n",
    "    with open(path + 'G3/train_'+str(split)+'.ttl', \"w\") as f:\n",
    "        for line in lines_data:\n",
    "            line = line.replace(' .', '')\n",
    "            if line in  lines_test or '@prefix' in line:\n",
    "                continue\n",
    "            else:                \n",
    "                f.write(line)"
   ]
  },
  {
   "cell_type": "code",
   "execution_count": 13,
   "id": "d2b74cdf",
   "metadata": {},
   "outputs": [
    {
     "name": "stderr",
     "output_type": "stream",
     "text": [
      "C:\\Users\\rivasa\\AppData\\Local\\Temp/ipykernel_14844/134286601.py:15: FutureWarning: The default value of regex will change from True to False in a future version.\n",
      "  test['object'] = test['object'].str.replace(' .', '')\n",
      "C:\\Users\\rivasa\\AppData\\Local\\Temp/ipykernel_14844/134286601.py:15: SettingWithCopyWarning: \n",
      "A value is trying to be set on a copy of a slice from a DataFrame.\n",
      "Try using .loc[row_indexer,col_indexer] = value instead\n",
      "\n",
      "See the caveats in the documentation: https://pandas.pydata.org/pandas-docs/stable/user_guide/indexing.html#returning-a-view-versus-a-copy\n",
      "  test['object'] = test['object'].str.replace(' .', '')\n"
     ]
    }
   ],
   "source": [
    "cross_validation(df_category)"
   ]
  },
  {
   "cell_type": "code",
   "execution_count": null,
   "id": "875cba63",
   "metadata": {},
   "outputs": [],
   "source": []
  },
  {
   "cell_type": "code",
   "execution_count": 63,
   "id": "5185ccb4",
   "metadata": {},
   "outputs": [],
   "source": [
    "g.serialize(destination=\"dataset/KG_treatment_serialize.ttl\", format=\"ttl\")"
   ]
  },
  {
   "cell_type": "code",
   "execution_count": null,
   "id": "39580cb5",
   "metadata": {},
   "outputs": [],
   "source": []
  },
  {
   "cell_type": "code",
   "execution_count": 31,
   "id": "78d7c0fd",
   "metadata": {},
   "outputs": [
    {
     "name": "stdout",
     "output_type": "stream",
     "text": [
      "3.9.7\n"
     ]
    }
   ],
   "source": [
    "from platform import python_version\n",
    "\n",
    "print(python_version())"
   ]
  },
  {
   "cell_type": "code",
   "execution_count": 8,
   "id": "031da175",
   "metadata": {},
   "outputs": [
    {
     "name": "stderr",
     "output_type": "stream",
     "text": [
      "C:\\Users\\rivasa\\AppData\\Local\\Temp/ipykernel_23212/2858445035.py:5: FutureWarning: The default value of regex will change from True to False in a future version.\n",
      "  data_g1['o'] = data_g1['o'].str.replace(' .', '')\n"
     ]
    },
    {
     "data": {
      "text/html": [
       "<div>\n",
       "<style scoped>\n",
       "    .dataframe tbody tr th:only-of-type {\n",
       "        vertical-align: middle;\n",
       "    }\n",
       "\n",
       "    .dataframe tbody tr th {\n",
       "        vertical-align: top;\n",
       "    }\n",
       "\n",
       "    .dataframe thead th {\n",
       "        text-align: right;\n",
       "    }\n",
       "</style>\n",
       "<table border=\"1\" class=\"dataframe\">\n",
       "  <thead>\n",
       "    <tr style=\"text-align: right;\">\n",
       "      <th></th>\n",
       "      <th>s</th>\n",
       "      <th>p</th>\n",
       "      <th>o</th>\n",
       "    </tr>\n",
       "  </thead>\n",
       "  <tbody>\n",
       "    <tr>\n",
       "      <th>0</th>\n",
       "      <td>ex:higher_toxicity</td>\n",
       "      <td>rdf:type</td>\n",
       "      <td>ex:HigherToxicity</td>\n",
       "    </tr>\n",
       "    <tr>\n",
       "      <th>1</th>\n",
       "      <td>ex:lower_effectiveness</td>\n",
       "      <td>rdf:type</td>\n",
       "      <td>ex:LowerEffectiveness</td>\n",
       "    </tr>\n",
       "    <tr>\n",
       "      <th>2</th>\n",
       "      <td>&lt;http://example/Treatment/treatment0&gt;</td>\n",
       "      <td>rdf:type</td>\n",
       "      <td>ex:Treatment</td>\n",
       "    </tr>\n",
       "    <tr>\n",
       "      <th>3</th>\n",
       "      <td>&lt;http://example/Treatment/treatment0&gt;</td>\n",
       "      <td>ex:hasClassificationEffect</td>\n",
       "      <td>ex:decrease_effectiveness</td>\n",
       "    </tr>\n",
       "    <tr>\n",
       "      <th>4</th>\n",
       "      <td>&lt;http://example/Drug/DB00331&gt;</td>\n",
       "      <td>rdf:type</td>\n",
       "      <td>ex:Drug</td>\n",
       "    </tr>\n",
       "    <tr>\n",
       "      <th>...</th>\n",
       "      <td>...</td>\n",
       "      <td>...</td>\n",
       "      <td>...</td>\n",
       "    </tr>\n",
       "    <tr>\n",
       "      <th>15112</th>\n",
       "      <td>treatment_drug:treatment579_DB00530</td>\n",
       "      <td>ex:hasLowerEffect</td>\n",
       "      <td>ex:lower_effectiveness</td>\n",
       "    </tr>\n",
       "    <tr>\n",
       "      <th>15113</th>\n",
       "      <td>ddi:treatment579DB00338DB00530</td>\n",
       "      <td>rdf:type</td>\n",
       "      <td>ex:DDI</td>\n",
       "    </tr>\n",
       "    <tr>\n",
       "      <th>15114</th>\n",
       "      <td>&lt;http://example/Treatment/treatment579&gt;</td>\n",
       "      <td>ex:related_to</td>\n",
       "      <td>ddi:treatment579DB00338DB00530</td>\n",
       "    </tr>\n",
       "    <tr>\n",
       "      <th>15115</th>\n",
       "      <td>ddi:treatment579DB00338DB00530</td>\n",
       "      <td>ex:precipitant_drug</td>\n",
       "      <td>&lt;http://example/Drug/DB00338&gt;</td>\n",
       "    </tr>\n",
       "    <tr>\n",
       "      <th>15116</th>\n",
       "      <td>ddi:treatment579DB00338DB00530</td>\n",
       "      <td>ex:object_drug</td>\n",
       "      <td>&lt;http://example/Drug/DB00530&gt;</td>\n",
       "    </tr>\n",
       "  </tbody>\n",
       "</table>\n",
       "<p>15117 rows × 3 columns</p>\n",
       "</div>"
      ],
      "text/plain": [
       "                                             s                           p  \\\n",
       "0                           ex:higher_toxicity                    rdf:type   \n",
       "1                       ex:lower_effectiveness                    rdf:type   \n",
       "2        <http://example/Treatment/treatment0>                    rdf:type   \n",
       "3        <http://example/Treatment/treatment0>  ex:hasClassificationEffect   \n",
       "4                <http://example/Drug/DB00331>                    rdf:type   \n",
       "...                                        ...                         ...   \n",
       "15112      treatment_drug:treatment579_DB00530           ex:hasLowerEffect   \n",
       "15113           ddi:treatment579DB00338DB00530                    rdf:type   \n",
       "15114  <http://example/Treatment/treatment579>               ex:related_to   \n",
       "15115           ddi:treatment579DB00338DB00530         ex:precipitant_drug   \n",
       "15116           ddi:treatment579DB00338DB00530              ex:object_drug   \n",
       "\n",
       "                                    o  \n",
       "0                   ex:HigherToxicity  \n",
       "1               ex:LowerEffectiveness  \n",
       "2                        ex:Treatment  \n",
       "3           ex:decrease_effectiveness  \n",
       "4                             ex:Drug  \n",
       "...                               ...  \n",
       "15112          ex:lower_effectiveness  \n",
       "15113                          ex:DDI  \n",
       "15114  ddi:treatment579DB00338DB00530  \n",
       "15115   <http://example/Drug/DB00338>  \n",
       "15116   <http://example/Drug/DB00530>  \n",
       "\n",
       "[15117 rows x 3 columns]"
      ]
     },
     "execution_count": 8,
     "metadata": {},
     "output_type": "execute_result"
    }
   ],
   "source": [
    "from sklearn.model_selection import train_test_split\n",
    "\n",
    "data_g1 = pd.read_csv('G1_data.ttl', delimiter=\"\\t\", header=None)\n",
    "data_g1.columns=['s','p','o']\n",
    "data_g1['o'] = data_g1['o'].str.replace(' .', '')\n",
    "data_g1"
   ]
  },
  {
   "cell_type": "markdown",
   "id": "c6f87cf4",
   "metadata": {},
   "source": [
    "# Split set"
   ]
  },
  {
   "cell_type": "code",
   "execution_count": 4,
   "id": "324ebad8",
   "metadata": {},
   "outputs": [
    {
     "data": {
      "text/html": [
       "<div>\n",
       "<style scoped>\n",
       "    .dataframe tbody tr th:only-of-type {\n",
       "        vertical-align: middle;\n",
       "    }\n",
       "\n",
       "    .dataframe tbody tr th {\n",
       "        vertical-align: top;\n",
       "    }\n",
       "\n",
       "    .dataframe thead th {\n",
       "        text-align: right;\n",
       "    }\n",
       "</style>\n",
       "<table border=\"1\" class=\"dataframe\">\n",
       "  <thead>\n",
       "    <tr style=\"text-align: right;\">\n",
       "      <th></th>\n",
       "      <th>s</th>\n",
       "      <th>p</th>\n",
       "      <th>o</th>\n",
       "    </tr>\n",
       "  </thead>\n",
       "  <tbody>\n",
       "    <tr>\n",
       "      <th>15987</th>\n",
       "      <td>ddi:treatment535DB00958DB01050</td>\n",
       "      <td>ex:precipitant_drug</td>\n",
       "      <td>&lt;http://example/Drug/DB00958&gt;</td>\n",
       "    </tr>\n",
       "    <tr>\n",
       "      <th>15073</th>\n",
       "      <td>treatment_drug:treatment474_DB06186</td>\n",
       "      <td>rdf:type</td>\n",
       "      <td>ex:Treatment_Drug</td>\n",
       "    </tr>\n",
       "    <tr>\n",
       "      <th>15778</th>\n",
       "      <td>treatment_drug:treatment527_DB00584</td>\n",
       "      <td>ex:related_to</td>\n",
       "      <td>&lt;http://example/Treatment/treatment527&gt;</td>\n",
       "    </tr>\n",
       "    <tr>\n",
       "      <th>10274</th>\n",
       "      <td>treatment_drug:treatment216_DB00338</td>\n",
       "      <td>ex:related_to</td>\n",
       "      <td>&lt;http://example/Drug/DB00338&gt;</td>\n",
       "    </tr>\n",
       "    <tr>\n",
       "      <th>12829</th>\n",
       "      <td>treatment_drug:treatment327_DB00635</td>\n",
       "      <td>ex:related_to</td>\n",
       "      <td>&lt;http://example/Drug/DB00635&gt;</td>\n",
       "    </tr>\n",
       "    <tr>\n",
       "      <th>...</th>\n",
       "      <td>...</td>\n",
       "      <td>...</td>\n",
       "      <td>...</td>\n",
       "    </tr>\n",
       "    <tr>\n",
       "      <th>13369</th>\n",
       "      <td>ddi:treatment360DB00641DB01229</td>\n",
       "      <td>rdf:type</td>\n",
       "      <td>ex:DDI</td>\n",
       "    </tr>\n",
       "    <tr>\n",
       "      <th>4851</th>\n",
       "      <td>ddi:treatment58DB00338DB01229</td>\n",
       "      <td>ex:precipitant_drug</td>\n",
       "      <td>&lt;http://example/Drug/DB00338&gt;</td>\n",
       "    </tr>\n",
       "    <tr>\n",
       "      <th>5521</th>\n",
       "      <td>ddi:treatment71DB00335DB01076</td>\n",
       "      <td>ex:precipitant_drug</td>\n",
       "      <td>&lt;http://example/Drug/DB00335&gt;</td>\n",
       "    </tr>\n",
       "    <tr>\n",
       "      <th>10544</th>\n",
       "      <td>treatment_drug:treatment226_DB01248</td>\n",
       "      <td>ex:related_to</td>\n",
       "      <td>&lt;http://example/Drug/DB01248&gt;</td>\n",
       "    </tr>\n",
       "    <tr>\n",
       "      <th>10538</th>\n",
       "      <td>treatment_drug:treatment226_DB00338</td>\n",
       "      <td>ex:hasHighToxicity</td>\n",
       "      <td>ex:higher_toxicity</td>\n",
       "    </tr>\n",
       "  </tbody>\n",
       "</table>\n",
       "<p>13373 rows × 3 columns</p>\n",
       "</div>"
      ],
      "text/plain": [
       "                                         s                    p  \\\n",
       "15987       ddi:treatment535DB00958DB01050  ex:precipitant_drug   \n",
       "15073  treatment_drug:treatment474_DB06186             rdf:type   \n",
       "15778  treatment_drug:treatment527_DB00584        ex:related_to   \n",
       "10274  treatment_drug:treatment216_DB00338        ex:related_to   \n",
       "12829  treatment_drug:treatment327_DB00635        ex:related_to   \n",
       "...                                    ...                  ...   \n",
       "13369       ddi:treatment360DB00641DB01229             rdf:type   \n",
       "4851         ddi:treatment58DB00338DB01229  ex:precipitant_drug   \n",
       "5521         ddi:treatment71DB00335DB01076  ex:precipitant_drug   \n",
       "10544  treatment_drug:treatment226_DB01248        ex:related_to   \n",
       "10538  treatment_drug:treatment226_DB00338   ex:hasHighToxicity   \n",
       "\n",
       "                                             o  \n",
       "15987            <http://example/Drug/DB00958>  \n",
       "15073                        ex:Treatment_Drug  \n",
       "15778  <http://example/Treatment/treatment527>  \n",
       "10274            <http://example/Drug/DB00338>  \n",
       "12829            <http://example/Drug/DB00635>  \n",
       "...                                        ...  \n",
       "13369                                   ex:DDI  \n",
       "4851             <http://example/Drug/DB00338>  \n",
       "5521             <http://example/Drug/DB00335>  \n",
       "10544            <http://example/Drug/DB01248>  \n",
       "10538                       ex:higher_toxicity  \n",
       "\n",
       "[13373 rows x 3 columns]"
      ]
     },
     "metadata": {},
     "output_type": "display_data"
    },
    {
     "data": {
      "text/html": [
       "<div>\n",
       "<style scoped>\n",
       "    .dataframe tbody tr th:only-of-type {\n",
       "        vertical-align: middle;\n",
       "    }\n",
       "\n",
       "    .dataframe tbody tr th {\n",
       "        vertical-align: top;\n",
       "    }\n",
       "\n",
       "    .dataframe thead th {\n",
       "        text-align: right;\n",
       "    }\n",
       "</style>\n",
       "<table border=\"1\" class=\"dataframe\">\n",
       "  <thead>\n",
       "    <tr style=\"text-align: right;\">\n",
       "      <th></th>\n",
       "      <th>s</th>\n",
       "      <th>p</th>\n",
       "      <th>o</th>\n",
       "    </tr>\n",
       "  </thead>\n",
       "  <tbody>\n",
       "    <tr>\n",
       "      <th>6859</th>\n",
       "      <td>treatment_drug:treatment105_DB00381</td>\n",
       "      <td>rdf:type</td>\n",
       "      <td>ex:Treatment_Drug</td>\n",
       "    </tr>\n",
       "    <tr>\n",
       "      <th>13212</th>\n",
       "      <td>treatment_drug:treatment351_DB01229</td>\n",
       "      <td>ex:hasLowerEffect</td>\n",
       "      <td>ex:lower_effectiveness</td>\n",
       "    </tr>\n",
       "    <tr>\n",
       "      <th>10880</th>\n",
       "      <td>ddi:treatment237DB00338DB00361</td>\n",
       "      <td>ex:precipitant_drug</td>\n",
       "      <td>&lt;http://example/Drug/DB00338&gt;</td>\n",
       "    </tr>\n",
       "    <tr>\n",
       "      <th>7828</th>\n",
       "      <td>ddi:treatment130DB00695DB00642</td>\n",
       "      <td>ex:object_drug</td>\n",
       "      <td>&lt;http://example/Drug/DB00642&gt;</td>\n",
       "    </tr>\n",
       "    <tr>\n",
       "      <th>15141</th>\n",
       "      <td>treatment_drug:treatment480_DB01229</td>\n",
       "      <td>ex:related_to</td>\n",
       "      <td>&lt;http://example/Treatment/treatment480&gt;</td>\n",
       "    </tr>\n",
       "    <tr>\n",
       "      <th>...</th>\n",
       "      <td>...</td>\n",
       "      <td>...</td>\n",
       "      <td>...</td>\n",
       "    </tr>\n",
       "    <tr>\n",
       "      <th>2627</th>\n",
       "      <td>ddi:treatment22DB01229DB00381</td>\n",
       "      <td>rdf:type</td>\n",
       "      <td>ex:DDI</td>\n",
       "    </tr>\n",
       "    <tr>\n",
       "      <th>1555</th>\n",
       "      <td>&lt;http://example/Treatment/treatment9&gt;</td>\n",
       "      <td>ex:related_to</td>\n",
       "      <td>ddi:treatment9DB00316DB01076</td>\n",
       "    </tr>\n",
       "    <tr>\n",
       "      <th>2278</th>\n",
       "      <td>treatment_drug:treatment18_DB00773</td>\n",
       "      <td>ex:related_to</td>\n",
       "      <td>&lt;http://example/Treatment/treatment18&gt;</td>\n",
       "    </tr>\n",
       "    <tr>\n",
       "      <th>4456</th>\n",
       "      <td>ddi:treatment52DB00361DB01233</td>\n",
       "      <td>ex:precipitant_drug</td>\n",
       "      <td>&lt;http://example/Drug/DB00361&gt;</td>\n",
       "    </tr>\n",
       "    <tr>\n",
       "      <th>4909</th>\n",
       "      <td>ddi:treatment59DB00338DB01050</td>\n",
       "      <td>ex:precipitant_drug</td>\n",
       "      <td>&lt;http://example/Drug/DB00338&gt;</td>\n",
       "    </tr>\n",
       "  </tbody>\n",
       "</table>\n",
       "<p>3344 rows × 3 columns</p>\n",
       "</div>"
      ],
      "text/plain": [
       "                                           s                    p  \\\n",
       "6859     treatment_drug:treatment105_DB00381             rdf:type   \n",
       "13212    treatment_drug:treatment351_DB01229    ex:hasLowerEffect   \n",
       "10880         ddi:treatment237DB00338DB00361  ex:precipitant_drug   \n",
       "7828          ddi:treatment130DB00695DB00642       ex:object_drug   \n",
       "15141    treatment_drug:treatment480_DB01229        ex:related_to   \n",
       "...                                      ...                  ...   \n",
       "2627           ddi:treatment22DB01229DB00381             rdf:type   \n",
       "1555   <http://example/Treatment/treatment9>        ex:related_to   \n",
       "2278      treatment_drug:treatment18_DB00773        ex:related_to   \n",
       "4456           ddi:treatment52DB00361DB01233  ex:precipitant_drug   \n",
       "4909           ddi:treatment59DB00338DB01050  ex:precipitant_drug   \n",
       "\n",
       "                                             o  \n",
       "6859                         ex:Treatment_Drug  \n",
       "13212                   ex:lower_effectiveness  \n",
       "10880            <http://example/Drug/DB00338>  \n",
       "7828             <http://example/Drug/DB00642>  \n",
       "15141  <http://example/Treatment/treatment480>  \n",
       "...                                        ...  \n",
       "2627                                    ex:DDI  \n",
       "1555              ddi:treatment9DB00316DB01076  \n",
       "2278    <http://example/Treatment/treatment18>  \n",
       "4456             <http://example/Drug/DB00361>  \n",
       "4909             <http://example/Drug/DB00338>  \n",
       "\n",
       "[3344 rows x 3 columns]"
      ]
     },
     "metadata": {},
     "output_type": "display_data"
    }
   ],
   "source": [
    "train, test = train_test_split(data_g1, test_size=0.2)\n",
    "test.to_csv('G2/test_1.ttl', sep='\\t', index=False, header=False)\n",
    "train.to_csv('G2/train_1.ttl', sep='\\t', index=False, header=False)\n",
    "display(train, test)"
   ]
  },
  {
   "cell_type": "markdown",
   "id": "58942940",
   "metadata": {},
   "source": [
    "# Cross-validation"
   ]
  },
  {
   "cell_type": "code",
   "execution_count": 76,
   "id": "f8b19160",
   "metadata": {},
   "outputs": [
    {
     "ename": "NameError",
     "evalue": "name 'data_g1' is not defined",
     "output_type": "error",
     "traceback": [
      "\u001b[1;31m---------------------------------------------------------------------------\u001b[0m",
      "\u001b[1;31mNameError\u001b[0m                                 Traceback (most recent call last)",
      "\u001b[1;32m~\\AppData\\Local\\Temp/ipykernel_10192/1120901176.py\u001b[0m in \u001b[0;36m<module>\u001b[1;34m\u001b[0m\n\u001b[0;32m     11\u001b[0m         \u001b[0msplit\u001b[0m\u001b[1;33m+=\u001b[0m\u001b[1;36m1\u001b[0m\u001b[1;33m\u001b[0m\u001b[1;33m\u001b[0m\u001b[0m\n\u001b[0;32m     12\u001b[0m \u001b[1;33m\u001b[0m\u001b[0m\n\u001b[1;32m---> 13\u001b[1;33m \u001b[0mcross_validation\u001b[0m\u001b[1;33m(\u001b[0m\u001b[0mdata_g1\u001b[0m\u001b[1;33m)\u001b[0m\u001b[1;33m\u001b[0m\u001b[1;33m\u001b[0m\u001b[0m\n\u001b[0m",
      "\u001b[1;31mNameError\u001b[0m: name 'data_g1' is not defined"
     ]
    }
   ],
   "source": [
    "def cross_validation(dataset):\n",
    "    X = dataset\n",
    "    kf = KFold(n_splits=5, shuffle=True, random_state=0)\n",
    "    kf.get_n_splits(X)\n",
    "    split = 1\n",
    "    for train_index, test_index in kf.split(X):\n",
    "        test = X.iloc[test_index]\n",
    "        train = X.iloc[train_index]\n",
    "        test.to_csv('G1/test_'+str(split)+'.ttl', sep='\\t', index=False, header=False)\n",
    "        train.to_csv('G1/train_'+str(split)+'.ttl', sep='\\t', index=False, header=False)\n",
    "        split+=1\n",
    "\n",
    "cross_validation(data_g1)"
   ]
  },
  {
   "cell_type": "code",
   "execution_count": null,
   "id": "63dd73c3",
   "metadata": {},
   "outputs": [],
   "source": []
  },
  {
   "cell_type": "code",
   "execution_count": null,
   "id": "9a789fd2",
   "metadata": {},
   "outputs": [],
   "source": []
  },
  {
   "cell_type": "code",
   "execution_count": null,
   "id": "5e5ad7d9",
   "metadata": {},
   "outputs": [],
   "source": []
  },
  {
   "cell_type": "code",
   "execution_count": 469,
   "id": "9c7413c5",
   "metadata": {},
   "outputs": [
    {
     "data": {
      "text/plain": [
       "<Graph identifier=N5742c3edf19a4a1aa7dc0fe6be8d5823 (<class 'rdflib.graph.Graph'>)>"
      ]
     },
     "execution_count": 469,
     "metadata": {},
     "output_type": "execute_result"
    }
   ],
   "source": [
    "import matplotlib.pyplot as plt\n",
    "def build_query(target):\n",
    "    query = \"\"\"PREFIX rdf: <http://www.w3.org/1999/02/22-rdf-syntax-ns#>\n",
    "    PREFIX ex: <http://example/#> \n",
    "    PREFIX treatment_drug: <http://example/Treatment_Drug#>\n",
    "\n",
    "    select distinct ?treatment (count(?o) as ?count_ddi)\n",
    "    where {\n",
    "        ?treatment rdf:type ex:Treatment .\n",
    "        ?treatment ex:hasClassificationEffect ex:\"\"\"+target+\"\"\" .\n",
    "        optional {?treatment ex:related_to ?o .}\n",
    "        #optional { ?o rdf:type ex:DDI }\n",
    "        } Group by ?treatment\n",
    "        \"\"\"\n",
    "    return query\n",
    "\n",
    "g2 = Graph()\n",
    "g2.parse(\"G2.ttl\", format=\"ttl\")\n",
    "g3 = Graph()\n",
    "g3.parse(\"G3.ttl\", format=\"ttl\")"
   ]
  },
  {
   "cell_type": "code",
   "execution_count": 470,
   "id": "3401ec6b",
   "metadata": {
    "scrolled": true
   },
   "outputs": [
    {
     "data": {
      "image/png": "[encoded data removed]",
      "text/plain": [
       "<Figure size 432x288 with 1 Axes>"
      ]
     },
     "metadata": {
      "needs_background": "light"
     },
     "output_type": "display_data"
    }
   ],
   "source": [
    "query = build_query('effective')\n",
    "qres = g.query(query)\n",
    "df_effective = sparql_results_to_df(qres)\n",
    "\n",
    "df_plot = pd.DataFrame(columns=['KG1', 'KG2', 'KG3'])\n",
    "df_plot['KG1']=list(df_effective.count_ddi)\n",
    "#df = df_effective[['count_ddi']]\n",
    "ax = df_plot.plot.hist(bins=5, alpha=0.5)"
   ]
  },
  {
   "cell_type": "code",
   "execution_count": 471,
   "id": "291aa888",
   "metadata": {},
   "outputs": [
    {
     "data": {
      "text/plain": [
       "<AxesSubplot:ylabel='Frequency'>"
      ]
     },
     "execution_count": 471,
     "metadata": {},
     "output_type": "execute_result"
    },
    {
     "data": {
      "image/png": "[encoded data removed]",
      "text/plain": [
       "<Figure size 432x288 with 1 Axes>"
      ]
     },
     "metadata": {
      "needs_background": "light"
     },
     "output_type": "display_data"
    }
   ],
   "source": [
    "query = build_query('effective')\n",
    "qres = g2.query(query)\n",
    "df_effective = sparql_results_to_df(qres)\n",
    "\n",
    "df_plot['KG2']=list(df_effective.count_ddi)\n",
    "#df = df_effective[['count_ddi']]\n",
    "df_plot['KG2'].plot.hist(bins=5, alpha=0.5)"
   ]
  },
  {
   "cell_type": "code",
   "execution_count": 472,
   "id": "a38140d2",
   "metadata": {},
   "outputs": [
    {
     "data": {
      "text/plain": [
       "<AxesSubplot:ylabel='Frequency'>"
      ]
     },
     "execution_count": 472,
     "metadata": {},
     "output_type": "execute_result"
    },
    {
     "data": {
      "image/png": "[encoded data removed]",
      "text/plain": [
       "<Figure size 432x288 with 1 Axes>"
      ]
     },
     "metadata": {
      "needs_background": "light"
     },
     "output_type": "display_data"
    }
   ],
   "source": [
    "query = build_query('effective')\n",
    "qres = g3.query(query)\n",
    "df_effective = sparql_results_to_df(qres)\n",
    "\n",
    "df_plot['KG3']=list(df_effective.count_ddi)\n",
    "#df = df_effective[['count_ddi']]\n",
    "df_plot['KG3'].plot.hist(bins=5, alpha=0.5)"
   ]
  },
  {
   "cell_type": "code",
   "execution_count": 346,
   "id": "8dc48d45",
   "metadata": {},
   "outputs": [
    {
     "data": {
      "image/png": "[encoded data removed]",
      "text/plain": [
       "<Figure size 432x288 with 1 Axes>"
      ]
     },
     "metadata": {
      "needs_background": "light"
     },
     "output_type": "display_data"
    }
   ],
   "source": [
    "#df_plot['G2_effective']=list(df_effective.count_ddi)\n",
    "ax = df_plot.plot.kde(bw_method=0.1)\n",
    "ax.set_xlabel('Count of DDIs')\n",
    "fig = ax.get_figure()\n",
    "plt.xlim([-1, 25])\n",
    "plt.title('Density of DDIs by Effective Treatment')\n",
    "fig.savefig('Plots/Density_effective_treatment.pdf', format='pdf', bbox_inches='tight')"
   ]
  },
  {
   "cell_type": "code",
   "execution_count": 473,
   "id": "e7d62125",
   "metadata": {},
   "outputs": [
    {
     "data": {
      "image/png": "[encoded data removed]",
      "text/plain": [
       "<Figure size 432x288 with 1 Axes>"
      ]
     },
     "metadata": {
      "needs_background": "light"
     },
     "output_type": "display_data"
    }
   ],
   "source": [
    "import seaborn as sns\n",
    "ax = sns.kdeplot(cut=0,\n",
    "   data=df_plot, shade=True, bw_adjust=.4,\n",
    ")\n",
    "ax.set_xlabel('Count of DDIs')\n",
    "plt.title('Density of DDIs by Effective Treatment')\n",
    "plt.savefig('Plots/Density_effective_treatment.pdf', format='pdf', bbox_inches='tight')"
   ]
  },
  {
   "cell_type": "code",
   "execution_count": 475,
   "id": "7100ddf1",
   "metadata": {},
   "outputs": [
    {
     "data": {
      "image/png": "[encoded data removed]",
      "text/plain": [
       "<Figure size 432x288 with 1 Axes>"
      ]
     },
     "metadata": {
      "needs_background": "light"
     },
     "output_type": "display_data"
    }
   ],
   "source": [
    "ax = sns.lineplot(data=df_plot[['KG1', 'KG2']], dashes=False, markers=True)\n",
    "ax.set_xlabel('Effective Treatments')\n",
    "ax.set_ylabel('Count of DDIs')\n",
    "plt.title('Distribution of DDIs by Effective Treatment')\n",
    "plt.savefig('Plots/Distribution_DDI_Effective_Treatment.pdf', format='pdf', bbox_inches='tight')"
   ]
  },
  {
   "cell_type": "code",
   "execution_count": 467,
   "id": "95011063",
   "metadata": {},
   "outputs": [
    {
     "data": {
      "text/plain": [
       "KG1    6\n",
       "KG2    6\n",
       "KG3    6\n",
       "dtype: int64"
      ]
     },
     "execution_count": 467,
     "metadata": {},
     "output_type": "execute_result"
    }
   ],
   "source": [
    "count = df_plot.loc[df_plot.KG2>df_plot.KG1].count()\n",
    "count"
   ]
  },
  {
   "cell_type": "code",
   "execution_count": 468,
   "id": "10f890df",
   "metadata": {},
   "outputs": [
    {
     "data": {
      "text/plain": [
       "0.10714285714285714"
      ]
     },
     "execution_count": 468,
     "metadata": {},
     "output_type": "execute_result"
    }
   ],
   "source": [
    "6/56"
   ]
  },
  {
   "cell_type": "code",
   "execution_count": 476,
   "id": "ad904580",
   "metadata": {},
   "outputs": [
    {
     "data": {
      "image/png": "[encoded data removed]",
      "text/plain": [
       "<Figure size 432x288 with 1 Axes>"
      ]
     },
     "metadata": {
      "needs_background": "light"
     },
     "output_type": "display_data"
    }
   ],
   "source": [
    "query = build_query('decrease_effectiveness')\n",
    "qres = g.query(query)\n",
    "df_effective = sparql_results_to_df(qres)\n",
    "\n",
    "df_plot = pd.DataFrame(columns=['KG1', 'KG2', 'KG3'])\n",
    "df_plot['KG1']=list(df_effective.count_ddi)\n",
    "#df = df_effective[['count_ddi']]\n",
    "ax = df_plot.plot.hist(bins=5, alpha=0.5)"
   ]
  },
  {
   "cell_type": "code",
   "execution_count": 477,
   "id": "f5200259",
   "metadata": {
    "scrolled": true
   },
   "outputs": [
    {
     "data": {
      "text/plain": [
       "<AxesSubplot:ylabel='Frequency'>"
      ]
     },
     "execution_count": 477,
     "metadata": {},
     "output_type": "execute_result"
    },
    {
     "data": {
      "image/png": "[encoded data removed]",
      "text/plain": [
       "<Figure size 432x288 with 1 Axes>"
      ]
     },
     "metadata": {
      "needs_background": "light"
     },
     "output_type": "display_data"
    }
   ],
   "source": [
    "query = build_query('decrease_effectiveness')\n",
    "qres = g2.query(query)\n",
    "df_effective = sparql_results_to_df(qres)\n",
    "\n",
    "df_plot['KG2']=list(df_effective.count_ddi)\n",
    "#df = df_effective[['count_ddi']]\n",
    "df_plot['KG2'].plot.hist(bins=5, alpha=0.5)"
   ]
  },
  {
   "cell_type": "code",
   "execution_count": 478,
   "id": "552d8ea2",
   "metadata": {},
   "outputs": [
    {
     "data": {
      "text/plain": [
       "<AxesSubplot:ylabel='Frequency'>"
      ]
     },
     "execution_count": 478,
     "metadata": {},
     "output_type": "execute_result"
    },
    {
     "data": {
      "image/png": "[encoded data removed]",
      "text/plain": [
       "<Figure size 432x288 with 1 Axes>"
      ]
     },
     "metadata": {
      "needs_background": "light"
     },
     "output_type": "display_data"
    }
   ],
   "source": [
    "query = build_query('decrease_effectiveness')\n",
    "qres = g3.query(query)\n",
    "df_effective = sparql_results_to_df(qres)\n",
    "\n",
    "df_plot['KG3']=list(df_effective.count_ddi)\n",
    "#df = df_effective[['count_ddi']]\n",
    "df_plot['KG3'].plot.hist(bins=5, alpha=0.5)"
   ]
  },
  {
   "cell_type": "code",
   "execution_count": 350,
   "id": "d111d72f",
   "metadata": {},
   "outputs": [
    {
     "data": {
      "image/png": "[encoded data removed]",
      "text/plain": [
       "<Figure size 432x288 with 1 Axes>"
      ]
     },
     "metadata": {
      "needs_background": "light"
     },
     "output_type": "display_data"
    }
   ],
   "source": [
    "ax = df_plot.plot.kde(bw_method=0.1)\n",
    "ax.set_xlabel('Count of DDIs')\n",
    "fig = ax.get_figure()\n",
    "plt.xlim([-1, 60])\n",
    "plt.title('Density of DDIs by Low-effect Treatment')\n",
    "fig.savefig('Plots/Density_decrease_effectiveness_treatment.pdf', format='pdf', bbox_inches='tight')"
   ]
  },
  {
   "cell_type": "code",
   "execution_count": 387,
   "id": "023846f1",
   "metadata": {},
   "outputs": [],
   "source": [
    "import numpy as np"
   ]
  },
  {
   "cell_type": "code",
   "execution_count": 479,
   "id": "0c118760",
   "metadata": {},
   "outputs": [
    {
     "data": {
      "image/png": "[encoded data removed]",
      "text/plain": [
       "<Figure size 432x288 with 1 Axes>"
      ]
     },
     "metadata": {
      "needs_background": "light"
     },
     "output_type": "display_data"
    }
   ],
   "source": [
    "import seaborn as sns\n",
    "ax = sns.kdeplot(cut=0,\n",
    "   data=df_plot, shade=True, bw_adjust=.35,\n",
    ")\n",
    "ax.set_xlabel('Count of DDIs')\n",
    "r1 = np.arange(0, 0.14, 0.02, float)\n",
    "plt.yticks(r1)\n",
    "#r2 = [x + 0.02 for x in r1]\n",
    "r2 = np.arange(0, 60, 5, float)\n",
    "plt.xticks(r2)\n",
    "\n",
    "plt.title('Density of DDIs by Low-effect Treatment')\n",
    "plt.savefig('Plots/Density_decrease_effectiveness_treatment.pdf', format='pdf', bbox_inches='tight')"
   ]
  },
  {
   "cell_type": "code",
   "execution_count": 400,
   "id": "ee2e2c41",
   "metadata": {},
   "outputs": [
    {
     "name": "stdout",
     "output_type": "stream",
     "text": [
      "Spearmans correlation coefficient: 0.994\n",
      "Samples are correlated (reject H0) p=0.000\n"
     ]
    }
   ],
   "source": [
    "# calculate the spearman's correlation between two variables\n",
    "from scipy.stats import spearmanr\n",
    "\n",
    "# prepare data\n",
    "data1 = list(df_plot.KG1)\n",
    "data2 = list(df_plot.KG2)\n",
    "# calculate spearman's correlation\n",
    "coef, p = spearmanr(data1, data2)\n",
    "print('Spearmans correlation coefficient: %.3f' % coef)\n",
    "# interpret the significance\n",
    "alpha = 0.05\n",
    "if p > alpha:\n",
    "    print('Samples are uncorrelated (fail to reject H0) p=%.3f' % p)\n",
    "else:\n",
    "    print('Samples are correlated (reject H0) p=%.3f' % p)"
   ]
  },
  {
   "cell_type": "code",
   "execution_count": 399,
   "id": "732e9e36",
   "metadata": {
    "scrolled": true
   },
   "outputs": [
    {
     "data": {
      "text/html": [
       "<div>\n",
       "<style scoped>\n",
       "    .dataframe tbody tr th:only-of-type {\n",
       "        vertical-align: middle;\n",
       "    }\n",
       "\n",
       "    .dataframe tbody tr th {\n",
       "        vertical-align: top;\n",
       "    }\n",
       "\n",
       "    .dataframe thead th {\n",
       "        text-align: right;\n",
       "    }\n",
       "</style>\n",
       "<table border=\"1\" class=\"dataframe\">\n",
       "  <thead>\n",
       "    <tr style=\"text-align: right;\">\n",
       "      <th></th>\n",
       "      <th>KG1</th>\n",
       "      <th>KG2</th>\n",
       "      <th>KG3</th>\n",
       "    </tr>\n",
       "  </thead>\n",
       "  <tbody>\n",
       "    <tr>\n",
       "      <th>0</th>\n",
       "      <td>22</td>\n",
       "      <td>58</td>\n",
       "      <td>22</td>\n",
       "    </tr>\n",
       "    <tr>\n",
       "      <th>1</th>\n",
       "      <td>22</td>\n",
       "      <td>51</td>\n",
       "      <td>22</td>\n",
       "    </tr>\n",
       "    <tr>\n",
       "      <th>2</th>\n",
       "      <td>20</td>\n",
       "      <td>33</td>\n",
       "      <td>20</td>\n",
       "    </tr>\n",
       "    <tr>\n",
       "      <th>3</th>\n",
       "      <td>18</td>\n",
       "      <td>34</td>\n",
       "      <td>18</td>\n",
       "    </tr>\n",
       "    <tr>\n",
       "      <th>4</th>\n",
       "      <td>14</td>\n",
       "      <td>23</td>\n",
       "      <td>14</td>\n",
       "    </tr>\n",
       "    <tr>\n",
       "      <th>...</th>\n",
       "      <td>...</td>\n",
       "      <td>...</td>\n",
       "      <td>...</td>\n",
       "    </tr>\n",
       "    <tr>\n",
       "      <th>519</th>\n",
       "      <td>0</td>\n",
       "      <td>0</td>\n",
       "      <td>0</td>\n",
       "    </tr>\n",
       "    <tr>\n",
       "      <th>520</th>\n",
       "      <td>1</td>\n",
       "      <td>1</td>\n",
       "      <td>1</td>\n",
       "    </tr>\n",
       "    <tr>\n",
       "      <th>521</th>\n",
       "      <td>0</td>\n",
       "      <td>0</td>\n",
       "      <td>1</td>\n",
       "    </tr>\n",
       "    <tr>\n",
       "      <th>522</th>\n",
       "      <td>1</td>\n",
       "      <td>1</td>\n",
       "      <td>1</td>\n",
       "    </tr>\n",
       "    <tr>\n",
       "      <th>523</th>\n",
       "      <td>0</td>\n",
       "      <td>0</td>\n",
       "      <td>0</td>\n",
       "    </tr>\n",
       "  </tbody>\n",
       "</table>\n",
       "<p>524 rows × 3 columns</p>\n",
       "</div>"
      ],
      "text/plain": [
       "     KG1  KG2  KG3\n",
       "0     22   58   22\n",
       "1     22   51   22\n",
       "2     20   33   20\n",
       "3     18   34   18\n",
       "4     14   23   14\n",
       "..   ...  ...  ...\n",
       "519    0    0    0\n",
       "520    1    1    1\n",
       "521    0    0    1\n",
       "522    1    1    1\n",
       "523    0    0    0\n",
       "\n",
       "[524 rows x 3 columns]"
      ]
     },
     "execution_count": 399,
     "metadata": {},
     "output_type": "execute_result"
    }
   ],
   "source": [
    "df_plot"
   ]
  },
  {
   "cell_type": "code",
   "execution_count": 480,
   "id": "653e57b2",
   "metadata": {},
   "outputs": [
    {
     "data": {
      "image/png": "[encoded data removed]",
      "text/plain": [
       "<Figure size 432x288 with 1 Axes>"
      ]
     },
     "metadata": {
      "needs_background": "light"
     },
     "output_type": "display_data"
    }
   ],
   "source": [
    "ax = sns.lineplot(data=df_plot[['KG1', 'KG2']], dashes=False, markers=True)\n",
    "ax.set_xlabel('Low-Effect Treatments')\n",
    "ax.set_ylabel('Count of DDIs')\n",
    "plt.title('Distribution of DDIs by Low-Effect Treatment')\n",
    "plt.savefig('Plots/Distribution_DDI_Low-Effect_Treatment.pdf', format='pdf', bbox_inches='tight')"
   ]
  },
  {
   "cell_type": "code",
   "execution_count": 459,
   "id": "5bc9d8fe",
   "metadata": {},
   "outputs": [
    {
     "data": {
      "text/plain": [
       "KG1    403\n",
       "KG2    403\n",
       "KG3    403\n",
       "dtype: int64"
      ]
     },
     "execution_count": 459,
     "metadata": {},
     "output_type": "execute_result"
    }
   ],
   "source": [
    "count = df_plot.loc[df_plot.KG2>df_plot.KG1].count()\n",
    "count"
   ]
  },
  {
   "cell_type": "code",
   "execution_count": 461,
   "id": "a85d1d59",
   "metadata": {},
   "outputs": [
    {
     "data": {
      "text/plain": [
       "0.23091603053435114"
      ]
     },
     "execution_count": 461,
     "metadata": {},
     "output_type": "execute_result"
    }
   ],
   "source": [
    "121/524"
   ]
  },
  {
   "cell_type": "code",
   "execution_count": null,
   "id": "e3d733d9",
   "metadata": {},
   "outputs": [],
   "source": []
  }
 ],
 "metadata": {
  "kernelspec": {
   "display_name": "Python 3 (ipykernel)",
   "language": "python",
   "name": "python3"
  },
  "language_info": {
   "codemirror_mode": {
    "name": "ipython",
    "version": 3
   },
   "file_extension": ".py",
   "mimetype": "text/x-python",
   "name": "python",
   "nbconvert_exporter": "python",
   "pygments_lexer": "ipython3",
   "version": "3.9.7"
  }
 },
 "nbformat": 4,
 "nbformat_minor": 5
}
