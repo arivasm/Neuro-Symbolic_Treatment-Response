{
 "cells": [
  {
   "cell_type": "markdown",
   "id": "deeb02ae",
   "metadata": {},
   "source": [
    "### "
   ]
  },
  {
   "cell_type": "code",
   "execution_count": 1,
   "id": "087fec88",
   "metadata": {},
   "outputs": [],
   "source": [
    "import pandas as pd\n",
    "from sklearn.model_selection import KFold\n",
    "from rdflib import Graph"
   ]
  },
  {
   "cell_type": "code",
   "execution_count": 2,
   "id": "90f5e39c",
   "metadata": {},
   "outputs": [],
   "source": [
    "path = '../dataset/'\n",
    "#path = '../'"
   ]
  },
  {
   "cell_type": "code",
   "execution_count": 3,
   "id": "4fbe0862",
   "metadata": {},
   "outputs": [
    {
     "data": {
      "text/plain": [
       "<Graph identifier=Nc8873d369fac4b099337170ea8469ee3 (<class 'rdflib.graph.Graph'>)>"
      ]
     },
     "execution_count": 3,
     "metadata": {},
     "output_type": "execute_result"
    }
   ],
   "source": [
    "g = Graph()\n",
    "g.parse(path + \"TKG_1.ttl\", format=\"ttl\")"
   ]
  },
  {
   "cell_type": "code",
   "execution_count": 4,
   "id": "9064cb5b",
   "metadata": {},
   "outputs": [],
   "source": [
    "from rdflib.plugins.sparql.processor import SPARQLResult\n",
    "\n",
    "def sparql_results_to_df(results: SPARQLResult) -> pd.DataFrame:\n",
    "    \"\"\"\n",
    "    Export results from an rdflib SPARQL query into a `pandas.DataFrame`,\n",
    "    using Python types. See https://github.com/RDFLib/rdflib/issues/1179.\n",
    "    \"\"\"\n",
    "    return pd.DataFrame(\n",
    "        data=([None if x is None else x.toPython() for x in row] for row in results),\n",
    "        columns=[str(x) for x in results.vars],\n",
    "    )"
   ]
  },
  {
   "cell_type": "code",
   "execution_count": 5,
   "id": "c956509d",
   "metadata": {},
   "outputs": [],
   "source": [
    "query = \"\"\"PREFIX rdf: <http://www.w3.org/1999/02/22-rdf-syntax-ns#>\n",
    "PREFIX ex: <http://example/#> \n",
    "PREFIX treatment_drug: <http://example/Treatment_Drug#>\n",
    "    \n",
    "select distinct ?treatment\n",
    "where {\n",
    "    #?treatment rdf:type ex:Treatment .\n",
    "    ?treatment ex:belong_to ex:effective .\n",
    "    }\n",
    "    \"\"\"\n",
    "\n",
    "qres = g.query(query)\n",
    "df_effective = sparql_results_to_df(qres)\n",
    "df_effective['predicate'] = 'ex:belong_to'\n",
    "df_effective['object'] = 'ex:effective .'"
   ]
  },
  {
   "cell_type": "code",
   "execution_count": 6,
   "id": "4a3f664c",
   "metadata": {},
   "outputs": [
    {
     "data": {
      "text/html": [
       "<div>\n",
       "<style scoped>\n",
       "    .dataframe tbody tr th:only-of-type {\n",
       "        vertical-align: middle;\n",
       "    }\n",
       "\n",
       "    .dataframe tbody tr th {\n",
       "        vertical-align: top;\n",
       "    }\n",
       "\n",
       "    .dataframe thead th {\n",
       "        text-align: right;\n",
       "    }\n",
       "</style>\n",
       "<table border=\"1\" class=\"dataframe\">\n",
       "  <thead>\n",
       "    <tr style=\"text-align: right;\">\n",
       "      <th></th>\n",
       "      <th>treatment</th>\n",
       "      <th>predicate</th>\n",
       "      <th>object</th>\n",
       "    </tr>\n",
       "  </thead>\n",
       "  <tbody>\n",
       "    <tr>\n",
       "      <th>0</th>\n",
       "      <td>http://example/Treatment/treatment399</td>\n",
       "      <td>ex:belong_to</td>\n",
       "      <td>ex:effective .</td>\n",
       "    </tr>\n",
       "    <tr>\n",
       "      <th>1</th>\n",
       "      <td>http://example/Treatment/treatment400</td>\n",
       "      <td>ex:belong_to</td>\n",
       "      <td>ex:effective .</td>\n",
       "    </tr>\n",
       "    <tr>\n",
       "      <th>2</th>\n",
       "      <td>http://example/Treatment/treatment401</td>\n",
       "      <td>ex:belong_to</td>\n",
       "      <td>ex:effective .</td>\n",
       "    </tr>\n",
       "    <tr>\n",
       "      <th>3</th>\n",
       "      <td>http://example/Treatment/treatment402</td>\n",
       "      <td>ex:belong_to</td>\n",
       "      <td>ex:effective .</td>\n",
       "    </tr>\n",
       "    <tr>\n",
       "      <th>4</th>\n",
       "      <td>http://example/Treatment/treatment403</td>\n",
       "      <td>ex:belong_to</td>\n",
       "      <td>ex:effective .</td>\n",
       "    </tr>\n",
       "    <tr>\n",
       "      <th>...</th>\n",
       "      <td>...</td>\n",
       "      <td>...</td>\n",
       "      <td>...</td>\n",
       "    </tr>\n",
       "    <tr>\n",
       "      <th>144</th>\n",
       "      <td>http://example/Treatment/treatment543</td>\n",
       "      <td>ex:belong_to</td>\n",
       "      <td>ex:effective .</td>\n",
       "    </tr>\n",
       "    <tr>\n",
       "      <th>145</th>\n",
       "      <td>http://example/Treatment/treatment544</td>\n",
       "      <td>ex:belong_to</td>\n",
       "      <td>ex:effective .</td>\n",
       "    </tr>\n",
       "    <tr>\n",
       "      <th>146</th>\n",
       "      <td>http://example/Treatment/treatment545</td>\n",
       "      <td>ex:belong_to</td>\n",
       "      <td>ex:effective .</td>\n",
       "    </tr>\n",
       "    <tr>\n",
       "      <th>147</th>\n",
       "      <td>http://example/Treatment/treatment546</td>\n",
       "      <td>ex:belong_to</td>\n",
       "      <td>ex:effective .</td>\n",
       "    </tr>\n",
       "    <tr>\n",
       "      <th>148</th>\n",
       "      <td>http://example/Treatment/treatment547</td>\n",
       "      <td>ex:belong_to</td>\n",
       "      <td>ex:effective .</td>\n",
       "    </tr>\n",
       "  </tbody>\n",
       "</table>\n",
       "<p>149 rows × 3 columns</p>\n",
       "</div>"
      ],
      "text/plain": [
       "                                 treatment     predicate          object\n",
       "0    http://example/Treatment/treatment399  ex:belong_to  ex:effective .\n",
       "1    http://example/Treatment/treatment400  ex:belong_to  ex:effective .\n",
       "2    http://example/Treatment/treatment401  ex:belong_to  ex:effective .\n",
       "3    http://example/Treatment/treatment402  ex:belong_to  ex:effective .\n",
       "4    http://example/Treatment/treatment403  ex:belong_to  ex:effective .\n",
       "..                                     ...           ...             ...\n",
       "144  http://example/Treatment/treatment543  ex:belong_to  ex:effective .\n",
       "145  http://example/Treatment/treatment544  ex:belong_to  ex:effective .\n",
       "146  http://example/Treatment/treatment545  ex:belong_to  ex:effective .\n",
       "147  http://example/Treatment/treatment546  ex:belong_to  ex:effective .\n",
       "148  http://example/Treatment/treatment547  ex:belong_to  ex:effective .\n",
       "\n",
       "[149 rows x 3 columns]"
      ]
     },
     "execution_count": 6,
     "metadata": {},
     "output_type": "execute_result"
    }
   ],
   "source": [
    "df_effective"
   ]
  },
  {
   "cell_type": "code",
   "execution_count": 7,
   "id": "43c4eec9",
   "metadata": {},
   "outputs": [],
   "source": [
    "query = \"\"\"PREFIX rdf: <http://www.w3.org/1999/02/22-rdf-syntax-ns#>\n",
    "PREFIX ex: <http://example/#> \n",
    "PREFIX treatment_drug: <http://example/Treatment_Drug#>\n",
    "    \n",
    "select distinct ?treatment\n",
    "where {\n",
    "    #?treatment rdf:type ex:Treatment .\n",
    "    ?treatment ex:belong_to ex:low_effect .\n",
    "    }\n",
    "    \"\"\"\n",
    "\n",
    "qres = g.query(query)\n",
    "df_decrease_effectiveness = sparql_results_to_df(qres)\n",
    "df_decrease_effectiveness['predicate'] = 'ex:belong_to'\n",
    "df_decrease_effectiveness['object'] = 'ex:low_effect .'"
   ]
  },
  {
   "cell_type": "code",
   "execution_count": 8,
   "id": "f64030c0",
   "metadata": {},
   "outputs": [
    {
     "data": {
      "text/html": [
       "<div>\n",
       "<style scoped>\n",
       "    .dataframe tbody tr th:only-of-type {\n",
       "        vertical-align: middle;\n",
       "    }\n",
       "\n",
       "    .dataframe tbody tr th {\n",
       "        vertical-align: top;\n",
       "    }\n",
       "\n",
       "    .dataframe thead th {\n",
       "        text-align: right;\n",
       "    }\n",
       "</style>\n",
       "<table border=\"1\" class=\"dataframe\">\n",
       "  <thead>\n",
       "    <tr style=\"text-align: right;\">\n",
       "      <th></th>\n",
       "      <th>treatment</th>\n",
       "      <th>predicate</th>\n",
       "      <th>object</th>\n",
       "    </tr>\n",
       "  </thead>\n",
       "  <tbody>\n",
       "    <tr>\n",
       "      <th>0</th>\n",
       "      <td>&lt;http://example/Treatment/treatment399&gt;</td>\n",
       "      <td>ex:belong_to</td>\n",
       "      <td>ex:effective .</td>\n",
       "    </tr>\n",
       "    <tr>\n",
       "      <th>1</th>\n",
       "      <td>&lt;http://example/Treatment/treatment400&gt;</td>\n",
       "      <td>ex:belong_to</td>\n",
       "      <td>ex:effective .</td>\n",
       "    </tr>\n",
       "  </tbody>\n",
       "</table>\n",
       "</div>"
      ],
      "text/plain": [
       "                                 treatment     predicate          object\n",
       "0  <http://example/Treatment/treatment399>  ex:belong_to  ex:effective .\n",
       "1  <http://example/Treatment/treatment400>  ex:belong_to  ex:effective ."
      ]
     },
     "metadata": {},
     "output_type": "display_data"
    },
    {
     "data": {
      "text/plain": [
       "(548, 3)"
      ]
     },
     "metadata": {},
     "output_type": "display_data"
    }
   ],
   "source": [
    "df_category = pd.concat([df_effective, df_decrease_effectiveness])\n",
    "df_category['treatment'] = '<' + df_category['treatment'].astype(str) + '>'\n",
    "display(df_category.head(2), df_category.shape)"
   ]
  },
  {
   "cell_type": "code",
   "execution_count": 9,
   "id": "1f8baab2",
   "metadata": {},
   "outputs": [
    {
     "data": {
      "text/html": [
       "<div>\n",
       "<style scoped>\n",
       "    .dataframe tbody tr th:only-of-type {\n",
       "        vertical-align: middle;\n",
       "    }\n",
       "\n",
       "    .dataframe tbody tr th {\n",
       "        vertical-align: top;\n",
       "    }\n",
       "\n",
       "    .dataframe thead th {\n",
       "        text-align: right;\n",
       "    }\n",
       "</style>\n",
       "<table border=\"1\" class=\"dataframe\">\n",
       "  <thead>\n",
       "    <tr style=\"text-align: right;\">\n",
       "      <th></th>\n",
       "      <th>treatment</th>\n",
       "      <th>predicate</th>\n",
       "      <th>object</th>\n",
       "    </tr>\n",
       "  </thead>\n",
       "  <tbody>\n",
       "    <tr>\n",
       "      <th>0</th>\n",
       "      <td>&lt;http://example/Treatment/treatment399&gt;</td>\n",
       "      <td>ex:belong_to</td>\n",
       "      <td>ex:effective .</td>\n",
       "    </tr>\n",
       "    <tr>\n",
       "      <th>1</th>\n",
       "      <td>&lt;http://example/Treatment/treatment400&gt;</td>\n",
       "      <td>ex:belong_to</td>\n",
       "      <td>ex:effective .</td>\n",
       "    </tr>\n",
       "  </tbody>\n",
       "</table>\n",
       "</div>"
      ],
      "text/plain": [
       "                                 treatment     predicate          object\n",
       "0  <http://example/Treatment/treatment399>  ex:belong_to  ex:effective .\n",
       "1  <http://example/Treatment/treatment400>  ex:belong_to  ex:effective ."
      ]
     },
     "metadata": {},
     "output_type": "display_data"
    },
    {
     "data": {
      "text/plain": [
       "(548, 3)"
      ]
     },
     "metadata": {},
     "output_type": "display_data"
    }
   ],
   "source": [
    "df_category.reset_index(inplace=True)\n",
    "df_category.drop(columns=['index'], inplace=True)\n",
    "display(df_category.head(2), df_category.shape)"
   ]
  },
  {
   "cell_type": "markdown",
   "id": "7e5c7f75",
   "metadata": {},
   "source": [
    "# Cross-Validation"
   ]
  },
  {
   "cell_type": "code",
   "execution_count": 10,
   "id": "0bbb2a8a",
   "metadata": {},
   "outputs": [],
   "source": [
    "def cross_validation(dataset):\n",
    "    test_set = []\n",
    "    training_set = []\n",
    "    X = dataset\n",
    "    kf = KFold(n_splits=5, shuffle=True, random_state=0)\n",
    "    kf.get_n_splits(X)\n",
    "    \n",
    "    split = 1\n",
    "    for train_index, test_index in kf.split(X):\n",
    "        test = X.iloc[test_index]\n",
    "        test['object'] = test['object'].str.replace(' .', '')\n",
    "        test.to_csv(path + 'test_'+str(split)+'.ttl', sep='\\t', index=False, header=False)\n",
    "        create_training_set(split)\n",
    "        split+=1"
   ]
  },
  {
   "cell_type": "code",
   "execution_count": 11,
   "id": "a99574fe",
   "metadata": {},
   "outputs": [],
   "source": [
    "def create_training_set(split):\n",
    "    with open(path + 'test_'+str(split)+'.ttl', \"r\") as f:\n",
    "        lines_test = f.readlines()\n",
    "    with open(path + \"TKG_1.ttl\", \"r\") as f:\n",
    "        lines_data = f.readlines()\n",
    "    with open(path + 'train_'+str(split)+'.ttl', \"w\") as f:\n",
    "        for line in lines_data:\n",
    "            line = line.replace(' .', '')\n",
    "            if line in  lines_test or '@prefix' in line:\n",
    "                continue\n",
    "            else:                \n",
    "                f.write(line)"
   ]
  },
  {
   "cell_type": "code",
   "execution_count": 12,
   "id": "d2b74cdf",
   "metadata": {},
   "outputs": [
    {
     "name": "stderr",
     "output_type": "stream",
     "text": [
      "C:\\Users\\rivasa\\AppData\\Local\\Temp/ipykernel_28540/2553505096.py:11: FutureWarning: The default value of regex will change from True to False in a future version.\n",
      "  test['object'] = test['object'].str.replace(' .', '')\n",
      "C:\\Users\\rivasa\\AppData\\Local\\Temp/ipykernel_28540/2553505096.py:11: SettingWithCopyWarning: \n",
      "A value is trying to be set on a copy of a slice from a DataFrame.\n",
      "Try using .loc[row_indexer,col_indexer] = value instead\n",
      "\n",
      "See the caveats in the documentation: https://pandas.pydata.org/pandas-docs/stable/user_guide/indexing.html#returning-a-view-versus-a-copy\n",
      "  test['object'] = test['object'].str.replace(' .', '')\n"
     ]
    }
   ],
   "source": [
    "cross_validation(df_category)"
   ]
  },
  {
   "cell_type": "code",
   "execution_count": null,
   "id": "0248de8c",
   "metadata": {},
   "outputs": [],
   "source": []
  }
 ],
 "metadata": {
  "kernelspec": {
   "display_name": "Python 3 (ipykernel)",
   "language": "python",
   "name": "python3"
  },
  "language_info": {
   "codemirror_mode": {
    "name": "ipython",
    "version": 3
   },
   "file_extension": ".py",
   "mimetype": "text/x-python",
   "name": "python",
   "nbconvert_exporter": "python",
   "pygments_lexer": "ipython3",
   "version": "3.9.7"
  }
 },
 "nbformat": 4,
 "nbformat_minor": 5
}
