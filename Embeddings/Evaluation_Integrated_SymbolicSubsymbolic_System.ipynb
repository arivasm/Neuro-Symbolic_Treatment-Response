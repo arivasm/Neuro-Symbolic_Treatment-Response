{
 "cells": [
  {
   "cell_type": "code",
   "execution_count": 1,
   "id": "309f8562",
   "metadata": {},
   "outputs": [],
   "source": [
    "import pandas as pd\n",
    "import matplotlib.pyplot as plt\n",
    "import matplotlib.colors as mcolors\n",
    "import numpy as np"
   ]
  },
  {
   "cell_type": "code",
   "execution_count": 2,
   "id": "998a2624",
   "metadata": {},
   "outputs": [],
   "source": [
    "def plot_accuracy(results_th_g1,results_th_g2,results_th_g3, path, metric):\n",
    "    # set width of bar\n",
    "    barWidth = 0.1\n",
    "    bars1 = list(results_th_g1[metric].values)\n",
    "    bars2 = list(results_th_g2[metric].values)\n",
    "    bars3 = list(results_th_g3[metric].values) \n",
    "    \n",
    "\n",
    "    # Set position of bar on X axis\n",
    "    max_axis = len(bars1) * 0.35\n",
    "    r1 = np.arange(0, max_axis, 0.35, float)\n",
    "    r2 = [x + barWidth for x in r1]\n",
    "    r3 = [x + barWidth for x in r2]\n",
    "    r4 = [x + barWidth for x in r3]\n",
    "\n",
    "    # Make the plot [color='#13505b'   color='#90bfc9'   color='#2d7f5e']\n",
    "    plt.bar(r1, bars1, color=mcolors.CSS4_COLORS['rosybrown'], width=barWidth,\n",
    "            edgecolor='white', label='${\\cal{T\\_KG}}_{basic}$')\n",
    "    plt.bar(r2, bars2, color=mcolors.CSS4_COLORS['lightcoral'], width=barWidth,\n",
    "            edgecolor='white', label='$\\cal{T\\_KG}$')\n",
    "    plt.bar(r3, bars3, color=mcolors.CSS4_COLORS['indianred'], width=barWidth,\n",
    "            edgecolor='white', label='${\\cal{T\\_KG}}_{random}$')\n",
    "\n",
    "    # Add xticks on the middle of the group bars\n",
    "    plt.ylim(0, 1)\n",
    "    y1 = np.arange(0, 1.1, 0.1, float)\n",
    "    plt.yticks(y1)\n",
    "    model = list(results_th_g1.Model.values)\n",
    "    plt.xticks([x + 0.1 for x in r1], model, rotation='vertical')\n",
    "    plt.title(metric)\n",
    "    # Create legend & Show graphic\n",
    "    legend = plt.legend(loc='upper right', shadow=False, fontsize='small', ncol=1)\n",
    "    plt.savefig(path + metric + \".pdf\", format='pdf', bbox_inches='tight')\n",
    "    plt.show(False)"
   ]
  },
  {
   "cell_type": "code",
   "execution_count": 3,
   "id": "7aadd938",
   "metadata": {},
   "outputs": [],
   "source": [
    "path = 'SubsymbolicSystem/'\n",
    "sampling_technique = 'Bernoulli/'"
   ]
  },
  {
   "cell_type": "code",
   "execution_count": 4,
   "id": "85940ce1",
   "metadata": {
    "scrolled": false
   },
   "outputs": [],
   "source": [
    "results_th_g1 = pd.read_csv(path+sampling_technique+'G1/results_threshold.csv', sep=';')\n",
    "results_th_g2 = pd.read_csv(path+sampling_technique+'G2/results_threshold.csv', sep=';')\n",
    "results_th_g3 = pd.read_csv(path+sampling_technique+'G3/results_threshold.csv', sep=';')\n",
    "\n",
    "plot_accuracy(results_th_g1,results_th_g2,results_th_g3, 'Plots/', 'avg_precision')\n",
    "plot_accuracy(results_th_g1,results_th_g2,results_th_g3, 'Plots/', 'avg_recall')\n",
    "plot_accuracy(results_th_g1,results_th_g2,results_th_g3, 'Plots/', 'avg_f_measure')"
   ]
  },
  {
   "cell_type": "code",
   "execution_count": null,
   "id": "f912b86d",
   "metadata": {},
   "outputs": [],
   "source": []
  },
  {
   "cell_type": "code",
   "execution_count": 5,
   "id": "19729b70",
   "metadata": {},
   "outputs": [],
   "source": [
    "sampling_technique = 'Uniform/'"
   ]
  },
  {
   "cell_type": "code",
   "execution_count": 6,
   "id": "d9949d2c",
   "metadata": {},
   "outputs": [],
   "source": [
    "results_th_g1 = pd.read_csv(path+sampling_technique+'G1/results_threshold.csv', sep=';')\n",
    "results_th_g2 = pd.read_csv(path+sampling_technique+'G2/results_threshold.csv', sep=';')\n",
    "results_th_g3 = pd.read_csv(path+sampling_technique+'G3/results_threshold.csv', sep=';')\n",
    "\n",
    "plot_accuracy(results_th_g1,results_th_g2,results_th_g3, 'Plots/', 'avg_precision')\n",
    "plot_accuracy(results_th_g1,results_th_g2,results_th_g3, 'Plots/', 'avg_recall')\n",
    "plot_accuracy(results_th_g1,results_th_g2,results_th_g3, 'Plots/', 'avg_f_measure')"
   ]
  },
  {
   "cell_type": "code",
   "execution_count": null,
   "id": "2426dd35",
   "metadata": {},
   "outputs": [],
   "source": []
  }
 ],
 "metadata": {
  "kernelspec": {
   "display_name": "Python 3 (ipykernel)",
   "language": "python",
   "name": "python3"
  },
  "language_info": {
   "codemirror_mode": {
    "name": "ipython",
    "version": 3
   },
   "file_extension": ".py",
   "mimetype": "text/x-python",
   "name": "python",
   "nbconvert_exporter": "python",
   "pygments_lexer": "ipython3",
   "version": "3.9.7"
  }
 },
 "nbformat": 4,
 "nbformat_minor": 5
}
