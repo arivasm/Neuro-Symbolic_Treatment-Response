{
 "cells": [
  {
   "cell_type": "markdown",
   "id": "babadddd",
   "metadata": {},
   "source": [
    "### Removing duplicate triples when is obtained treatments by parallel codes"
   ]
  },
  {
   "cell_type": "code",
   "execution_count": 1,
   "id": "087fec88",
   "metadata": {},
   "outputs": [],
   "source": [
    "from collections import OrderedDict"
   ]
  },
  {
   "cell_type": "code",
   "execution_count": 2,
   "id": "90f5e39c",
   "metadata": {},
   "outputs": [],
   "source": [
    "#path = 'dataset/small_dataset/Study_2/'\n",
    "path = ''"
   ]
  },
  {
   "cell_type": "code",
   "execution_count": 5,
   "id": "3254bab0",
   "metadata": {},
   "outputs": [],
   "source": [
    "def save_ttl_file(graph_ttl, path):\n",
    "    #open text file\n",
    "    ttl_file = open(path + \"G2_00.ttl\", \"w\")\n",
    "    #write string to file\n",
    "    n = ttl_file.write(graph_ttl)\n",
    "    #close file\n",
    "    ttl_file.close()"
   ]
  },
  {
   "cell_type": "code",
   "execution_count": 6,
   "id": "050526ac",
   "metadata": {},
   "outputs": [],
   "source": [
    "graph_ttl = open(path + \"G2.ttl\").read()\n",
    "graph_ttl = \"\\n\".join(list(OrderedDict.fromkeys(graph_ttl.split(\"\\n\"))))\n",
    "save_ttl_file(graph_ttl, path)"
   ]
  },
  {
   "cell_type": "code",
   "execution_count": null,
   "id": "08200705",
   "metadata": {},
   "outputs": [],
   "source": []
  },
  {
   "cell_type": "markdown",
   "id": "7e5c7f75",
   "metadata": {},
   "source": [
    "# Cross-Validation"
   ]
  },
  {
   "cell_type": "code",
   "execution_count": 3,
   "id": "4fbe0862",
   "metadata": {},
   "outputs": [],
   "source": [
    "import pandas as pd\n",
    "from sklearn.model_selection import KFold\n",
    "from rdflib import Graph\n",
    "g = Graph()\n",
    "g.parse(path + \"G2treatment.ttl\", format=\"ttl\")"
   ]
  },
  {
   "cell_type": "code",
   "execution_count": 3,
   "id": "9064cb5b",
   "metadata": {},
   "outputs": [],
   "source": [
    "from rdflib.plugins.sparql.processor import SPARQLResult\n",
    "\n",
    "def sparql_results_to_df(results: SPARQLResult) -> pd.DataFrame:\n",
    "    \"\"\"\n",
    "    Export results from an rdflib SPARQL query into a `pandas.DataFrame`,\n",
    "    using Python types. See https://github.com/RDFLib/rdflib/issues/1179.\n",
    "    \"\"\"\n",
    "    return pd.DataFrame(\n",
    "        data=([None if x is None else x.toPython() for x in row] for row in results),\n",
    "        columns=[str(x) for x in results.vars],\n",
    "    )"
   ]
  },
  {
   "cell_type": "code",
   "execution_count": 4,
   "id": "c956509d",
   "metadata": {},
   "outputs": [],
   "source": [
    "query = \"\"\"PREFIX rdf: <http://www.w3.org/1999/02/22-rdf-syntax-ns#>\n",
    "PREFIX ex: <http://example/#> \n",
    "PREFIX treatment_drug: <http://example/Treatment_Drug#>\n",
    "    \n",
    "select distinct ?treatment\n",
    "where {\n",
    "    ?treatment rdf:type ex:Treatment .\n",
    "    ?treatment ex:hasClassificationToxicity ex:increase_toxicity .\n",
    "    }\n",
    "    \"\"\"\n",
    "\n",
    "qres = g.query(query)\n",
    "#df_toxicity = pd.DataFrame(qres.bindings)\n",
    "df_toxicity = sparql_results_to_df(qres)\n",
    "df_toxicity['predicate'] = 'ex:hasClassificationToxicity'\n",
    "df_toxicity['object'] = 'ex:increase_toxicity .'\n",
    "#df_toxicity.replace('http://example/Treatment_Drug#', 'treatment_drug:', regex=True, inplace=True)"
   ]
  },
  {
   "cell_type": "code",
   "execution_count": 5,
   "id": "43c4eec9",
   "metadata": {},
   "outputs": [],
   "source": [
    "query = \"\"\"PREFIX rdf: <http://www.w3.org/1999/02/22-rdf-syntax-ns#>\n",
    "PREFIX ex: <http://example/#> \n",
    "PREFIX treatment_drug: <http://example/Treatment_Drug#>\n",
    "    \n",
    "select distinct ?treatment\n",
    "where {\n",
    "    ?treatment rdf:type ex:Treatment .\n",
    "    ?treatment ex:hasClassificationEffect ex:decrease_effectiveness .\n",
    "    }\n",
    "    \"\"\"\n",
    "#<http://example/Treatment/treatment301>\n",
    "\n",
    "qres = g.query(query)\n",
    "\n",
    "#df_effectiveness = pd.DataFrame(qres.bindings)\n",
    "df_effectiveness = sparql_results_to_df(qres)\n",
    "df_effectiveness['predicate'] = 'ex:hasClassificationEffect'\n",
    "df_effectiveness['object'] = 'ex:decrease_effectiveness .'\n",
    "#df_effectiveness.replace('http://example/Treatment_Drug#', 'treatment_drug:', regex=True, inplace=True)"
   ]
  },
  {
   "cell_type": "code",
   "execution_count": 6,
   "id": "f64030c0",
   "metadata": {},
   "outputs": [
    {
     "data": {
      "text/html": [
       "<div>\n",
       "<style scoped>\n",
       "    .dataframe tbody tr th:only-of-type {\n",
       "        vertical-align: middle;\n",
       "    }\n",
       "\n",
       "    .dataframe tbody tr th {\n",
       "        vertical-align: top;\n",
       "    }\n",
       "\n",
       "    .dataframe thead th {\n",
       "        text-align: right;\n",
       "    }\n",
       "</style>\n",
       "<table border=\"1\" class=\"dataframe\">\n",
       "  <thead>\n",
       "    <tr style=\"text-align: right;\">\n",
       "      <th></th>\n",
       "      <th>treatment</th>\n",
       "      <th>predicate</th>\n",
       "      <th>object</th>\n",
       "    </tr>\n",
       "  </thead>\n",
       "  <tbody>\n",
       "    <tr>\n",
       "      <th>0</th>\n",
       "      <td>&lt;http://example/Treatment/treatment3881&gt;</td>\n",
       "      <td>ex:hasClassificationToxicity</td>\n",
       "      <td>ex:increase_toxicity .</td>\n",
       "    </tr>\n",
       "    <tr>\n",
       "      <th>1</th>\n",
       "      <td>&lt;http://example/Treatment/treatment4226&gt;</td>\n",
       "      <td>ex:hasClassificationToxicity</td>\n",
       "      <td>ex:increase_toxicity .</td>\n",
       "    </tr>\n",
       "  </tbody>\n",
       "</table>\n",
       "</div>"
      ],
      "text/plain": [
       "                                  treatment                     predicate  \\\n",
       "0  <http://example/Treatment/treatment3881>  ex:hasClassificationToxicity   \n",
       "1  <http://example/Treatment/treatment4226>  ex:hasClassificationToxicity   \n",
       "\n",
       "                   object  \n",
       "0  ex:increase_toxicity .  \n",
       "1  ex:increase_toxicity .  "
      ]
     },
     "metadata": {},
     "output_type": "display_data"
    },
    {
     "data": {
      "text/plain": [
       "(7000, 3)"
      ]
     },
     "metadata": {},
     "output_type": "display_data"
    }
   ],
   "source": [
    "df_category = pd.concat([df_toxicity, df_effectiveness])\n",
    "df_category['treatment'] = '<' + df_category['treatment'].astype(str) + '>'\n",
    "display(df_category.head(2), df_category.shape)"
   ]
  },
  {
   "cell_type": "code",
   "execution_count": 7,
   "id": "1f8baab2",
   "metadata": {},
   "outputs": [
    {
     "data": {
      "text/html": [
       "<div>\n",
       "<style scoped>\n",
       "    .dataframe tbody tr th:only-of-type {\n",
       "        vertical-align: middle;\n",
       "    }\n",
       "\n",
       "    .dataframe tbody tr th {\n",
       "        vertical-align: top;\n",
       "    }\n",
       "\n",
       "    .dataframe thead th {\n",
       "        text-align: right;\n",
       "    }\n",
       "</style>\n",
       "<table border=\"1\" class=\"dataframe\">\n",
       "  <thead>\n",
       "    <tr style=\"text-align: right;\">\n",
       "      <th></th>\n",
       "      <th>treatment</th>\n",
       "      <th>predicate</th>\n",
       "      <th>object</th>\n",
       "    </tr>\n",
       "  </thead>\n",
       "  <tbody>\n",
       "    <tr>\n",
       "      <th>0</th>\n",
       "      <td>&lt;http://example/Treatment/treatment3881&gt;</td>\n",
       "      <td>ex:hasClassificationToxicity</td>\n",
       "      <td>ex:increase_toxicity .</td>\n",
       "    </tr>\n",
       "    <tr>\n",
       "      <th>1</th>\n",
       "      <td>&lt;http://example/Treatment/treatment4226&gt;</td>\n",
       "      <td>ex:hasClassificationToxicity</td>\n",
       "      <td>ex:increase_toxicity .</td>\n",
       "    </tr>\n",
       "  </tbody>\n",
       "</table>\n",
       "</div>"
      ],
      "text/plain": [
       "                                  treatment                     predicate  \\\n",
       "0  <http://example/Treatment/treatment3881>  ex:hasClassificationToxicity   \n",
       "1  <http://example/Treatment/treatment4226>  ex:hasClassificationToxicity   \n",
       "\n",
       "                   object  \n",
       "0  ex:increase_toxicity .  \n",
       "1  ex:increase_toxicity .  "
      ]
     },
     "metadata": {},
     "output_type": "display_data"
    },
    {
     "data": {
      "text/plain": [
       "(7000, 3)"
      ]
     },
     "metadata": {},
     "output_type": "display_data"
    }
   ],
   "source": [
    "df_category.reset_index(inplace=True)\n",
    "df_category.drop(columns=['index'], inplace=True)\n",
    "display(df_category.head(2), df_category.shape)"
   ]
  },
  {
   "cell_type": "code",
   "execution_count": 8,
   "id": "0bbb2a8a",
   "metadata": {},
   "outputs": [],
   "source": [
    "def cross_validation(dataset):\n",
    "    test_set = []\n",
    "    training_set = []\n",
    "    X = dataset\n",
    "    kf = KFold(n_splits=5, shuffle=True, random_state=0)\n",
    "    kf.get_n_splits(X)\n",
    "    \n",
    "    split = 1\n",
    "    for train_index, test_index in kf.split(X):\n",
    "        #print(\"TRAIN:\", train_index, \"TEST:\", test_index)\n",
    "        #print(len(test_index))\n",
    "        #test_set.append(X.iloc[test_index])\n",
    "        #training_set.append(X.iloc[train_index])\n",
    "        test = X.iloc[test_index]\n",
    "        test['object'] = test['object'].str.replace(' .', '')\n",
    "        test.to_csv(path + 'G2/test_'+str(split)+'.ttl', sep='\\t', index=False, header=False)\n",
    "        create_training_set(split)\n",
    "        split+=1"
   ]
  },
  {
   "cell_type": "code",
   "execution_count": 9,
   "id": "a99574fe",
   "metadata": {},
   "outputs": [],
   "source": [
    "def create_training_set(split):\n",
    "    with open(path + 'G2/test_'+str(split)+'.ttl', \"r\") as f:\n",
    "        lines_test = f.readlines()\n",
    "    with open(path + \"G2treatment.ttl\", \"r\") as f:\n",
    "        lines_data = f.readlines()\n",
    "    with open(path + 'G2/train_'+str(split)+'.ttl', \"w\") as f:\n",
    "        for line in lines_data:\n",
    "            line = line.replace(' .', '')\n",
    "            if line in  lines_test or '@prefix' in line:\n",
    "                continue\n",
    "            else:                \n",
    "                f.write(line)"
   ]
  },
  {
   "cell_type": "code",
   "execution_count": 10,
   "id": "d2b74cdf",
   "metadata": {},
   "outputs": [
    {
     "name": "stderr",
     "output_type": "stream",
     "text": [
      "C:\\Users\\rivasa\\Anaconda3\\lib\\site-packages\\ipykernel_launcher.py:15: SettingWithCopyWarning: \n",
      "A value is trying to be set on a copy of a slice from a DataFrame.\n",
      "Try using .loc[row_indexer,col_indexer] = value instead\n",
      "\n",
      "See the caveats in the documentation: https://pandas.pydata.org/pandas-docs/stable/user_guide/indexing.html#returning-a-view-versus-a-copy\n",
      "  from ipykernel import kernelapp as app\n"
     ]
    }
   ],
   "source": [
    "cross_validation(df_category)"
   ]
  },
  {
   "cell_type": "code",
   "execution_count": null,
   "id": "875cba63",
   "metadata": {},
   "outputs": [],
   "source": []
  },
  {
   "cell_type": "code",
   "execution_count": 63,
   "id": "5185ccb4",
   "metadata": {},
   "outputs": [],
   "source": [
    "g.serialize(destination=\"dataset/KG_treatment_serialize.ttl\", format=\"ttl\")"
   ]
  },
  {
   "cell_type": "code",
   "execution_count": null,
   "id": "39580cb5",
   "metadata": {},
   "outputs": [],
   "source": []
  },
  {
   "cell_type": "code",
   "execution_count": 17,
   "id": "78d7c0fd",
   "metadata": {},
   "outputs": [
    {
     "name": "stdout",
     "output_type": "stream",
     "text": [
      "3.8.12\n"
     ]
    }
   ],
   "source": [
    "from platform import python_version\n",
    "\n",
    "print(python_version())"
   ]
  },
  {
   "cell_type": "code",
   "execution_count": null,
   "id": "031da175",
   "metadata": {},
   "outputs": [],
   "source": []
  }
 ],
 "metadata": {
  "kernelspec": {
   "display_name": "Python 3 (ipykernel)",
   "language": "python",
   "name": "python3"
  },
  "language_info": {
   "codemirror_mode": {
    "name": "ipython",
    "version": 3
   },
   "file_extension": ".py",
   "mimetype": "text/x-python",
   "name": "python",
   "nbconvert_exporter": "python",
   "pygments_lexer": "ipython3",
   "version": "3.9.7"
  }
 },
 "nbformat": 4,
 "nbformat_minor": 5
}
