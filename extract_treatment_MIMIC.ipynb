{
 "cells": [
  {
   "cell_type": "code",
   "execution_count": 1,
   "id": "054a98bf",
   "metadata": {},
   "outputs": [],
   "source": [
    "import pandas as pd\n",
    "import numpy as np\n",
    "from pandas.tseries.offsets import DateOffset\n",
    "from sklearn.preprocessing import KBinsDiscretizer\n",
    "from sklearn.preprocessing import MultiLabelBinarizer"
   ]
  },
  {
   "cell_type": "code",
   "execution_count": 6,
   "id": "bfd0b8a5",
   "metadata": {},
   "outputs": [
    {
     "data": {
      "text/plain": [
       "(32782, 5)"
      ]
     },
     "metadata": {},
     "output_type": "display_data"
    },
    {
     "data": {
      "text/html": [
       "<div>\n",
       "<style scoped>\n",
       "    .dataframe tbody tr th:only-of-type {\n",
       "        vertical-align: middle;\n",
       "    }\n",
       "\n",
       "    .dataframe tbody tr th {\n",
       "        vertical-align: top;\n",
       "    }\n",
       "\n",
       "    .dataframe thead th {\n",
       "        text-align: right;\n",
       "    }\n",
       "</style>\n",
       "<table border=\"1\" class=\"dataframe\">\n",
       "  <thead>\n",
       "    <tr style=\"text-align: right;\">\n",
       "      <th></th>\n",
       "      <th>HADM_ID</th>\n",
       "      <th>STARTDATE</th>\n",
       "      <th>ENDDATE</th>\n",
       "      <th>DRUG_TYPE</th>\n",
       "      <th>DRUG</th>\n",
       "    </tr>\n",
       "  </thead>\n",
       "  <tbody>\n",
       "    <tr>\n",
       "      <th>0</th>\n",
       "      <td>100489</td>\n",
       "      <td>2164-01-23</td>\n",
       "      <td>2164-01-24</td>\n",
       "      <td>BASE</td>\n",
       "      <td>D5 1/2NS</td>\n",
       "    </tr>\n",
       "    <tr>\n",
       "      <th>1</th>\n",
       "      <td>100489</td>\n",
       "      <td>2164-01-23</td>\n",
       "      <td>2164-01-24</td>\n",
       "      <td>MAIN</td>\n",
       "      <td>Ranitidine</td>\n",
       "    </tr>\n",
       "    <tr>\n",
       "      <th>2</th>\n",
       "      <td>100489</td>\n",
       "      <td>2164-01-23</td>\n",
       "      <td>2164-02-03</td>\n",
       "      <td>MAIN</td>\n",
       "      <td>Sodium Chloride 0.9%  Flush</td>\n",
       "    </tr>\n",
       "    <tr>\n",
       "      <th>3</th>\n",
       "      <td>100489</td>\n",
       "      <td>2164-01-23</td>\n",
       "      <td>2164-02-20</td>\n",
       "      <td>MAIN</td>\n",
       "      <td>Heparin</td>\n",
       "    </tr>\n",
       "    <tr>\n",
       "      <th>4</th>\n",
       "      <td>100489</td>\n",
       "      <td>2164-01-24</td>\n",
       "      <td>2164-01-25</td>\n",
       "      <td>MAIN</td>\n",
       "      <td>Fluconazole</td>\n",
       "    </tr>\n",
       "  </tbody>\n",
       "</table>\n",
       "</div>"
      ],
      "text/plain": [
       "   HADM_ID   STARTDATE     ENDDATE DRUG_TYPE                         DRUG\n",
       "0   100489  2164-01-23  2164-01-24      BASE                     D5 1/2NS\n",
       "1   100489  2164-01-23  2164-01-24      MAIN                   Ranitidine\n",
       "2   100489  2164-01-23  2164-02-03      MAIN  Sodium Chloride 0.9%  Flush\n",
       "3   100489  2164-01-23  2164-02-20      MAIN                      Heparin\n",
       "4   100489  2164-01-24  2164-01-25      MAIN                  Fluconazole"
      ]
     },
     "metadata": {},
     "output_type": "display_data"
    }
   ],
   "source": [
    "input_path = 'Input/'\n",
    "\n",
    "prescriptions= input_path + 'prescriptions.csv'\n",
    "\n",
    "\n",
    "prescriptions = pd.read_csv(prescriptions, delimiter=\",\")\n",
    "\n",
    "prescriptions = prescriptions[['HADM_ID', 'STARTDATE', 'ENDDATE', 'DRUG_TYPE', 'DRUG']]\n",
    "prescriptions.drop_duplicates(keep='first', inplace=True)\n",
    "\n",
    "display(prescriptions.shape, prescriptions.head(5))"
   ]
  },
  {
   "cell_type": "code",
   "execution_count": 13,
   "id": "8c27bb71",
   "metadata": {},
   "outputs": [],
   "source": [
    "onco_drug = ['Cisplatin', 'Pemetrexed', 'Docetaxel', 'Carboplatin', 'Etoposide', 'Gemcitabine', 'Vinorelbine',\n",
    "             'Nivolumab', 'Crizotinib', 'Ceritinib', 'Ipilimumab', 'Paclitaxel', 'Necitumumab', 'Bevacizumab',\n",
    "             'Afatinib', 'Osimertinib', 'Alectinib', 'Pembrolizumab']"
   ]
  },
  {
   "cell_type": "code",
   "execution_count": 14,
   "id": "69405b8b",
   "metadata": {},
   "outputs": [],
   "source": [
    "for p_id in prescriptions.HADM_ID.unique():\n",
    "    prescription_i = prescriptions.loc[prescriptions.HADM_ID==p_id]\n",
    "    for date in prescription_i.STARTDATE.unique():\n",
    "        treatment = prescription_i.loc[prescription_i.STARTDATE==date]\n",
    "        set_d = list(set.intersection(set(treatment.DRUG_TYPE.unique()), set(onco_drug)))\n",
    "        if len(set_d)>0:\n",
    "            print(set_d)\n",
    "\n"
   ]
  },
  {
   "cell_type": "code",
   "execution_count": 11,
   "id": "434db9b6",
   "metadata": {},
   "outputs": [
    {
     "data": {
      "text/plain": [
       "str"
      ]
     },
     "execution_count": 11,
     "metadata": {},
     "output_type": "execute_result"
    }
   ],
   "source": [
    "type(prescriptions.STARTDATE[0])"
   ]
  },
  {
   "cell_type": "code",
   "execution_count": null,
   "id": "afe70265",
   "metadata": {},
   "outputs": [],
   "source": []
  }
 ],
 "metadata": {
  "kernelspec": {
   "display_name": "Python 3 (ipykernel)",
   "language": "python",
   "name": "python3"
  },
  "language_info": {
   "codemirror_mode": {
    "name": "ipython",
    "version": 3
   },
   "file_extension": ".py",
   "mimetype": "text/x-python",
   "name": "python",
   "nbconvert_exporter": "python",
   "pygments_lexer": "ipython3",
   "version": "3.8.12"
  }
 },
 "nbformat": 4,
 "nbformat_minor": 5
}
