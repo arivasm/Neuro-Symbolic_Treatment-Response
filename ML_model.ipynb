{
 "cells": [
  {
   "cell_type": "code",
   "execution_count": 30,
   "id": "998f0059",
   "metadata": {},
   "outputs": [],
   "source": [
    "import pandas as pd\n",
    "\n",
    "import matplotlib.pyplot as plt\n",
    "import seaborn as sn\n",
    "\n",
    "from sklearn.model_selection import train_test_split\n",
    "from sklearn.model_selection import GridSearchCV\n",
    "from sklearn.ensemble import RandomForestClassifier\n",
    "from sklearn import tree\n",
    "from sklearn.model_selection import StratifiedShuffleSplit\n",
    "from sklearn.metrics import classification_report"
   ]
  },
  {
   "cell_type": "code",
   "execution_count": 23,
   "id": "1a4061a7",
   "metadata": {},
   "outputs": [
    {
     "data": {
      "text/plain": [
       "(138, 6)"
      ]
     },
     "metadata": {},
     "output_type": "display_data"
    },
    {
     "data": {
      "text/html": [
       "<div>\n",
       "<style scoped>\n",
       "    .dataframe tbody tr th:only-of-type {\n",
       "        vertical-align: middle;\n",
       "    }\n",
       "\n",
       "    .dataframe tbody tr th {\n",
       "        vertical-align: top;\n",
       "    }\n",
       "\n",
       "    .dataframe thead th {\n",
       "        text-align: right;\n",
       "    }\n",
       "</style>\n",
       "<table border=\"1\" class=\"dataframe\">\n",
       "  <thead>\n",
       "    <tr style=\"text-align: right;\">\n",
       "      <th></th>\n",
       "      <th>treatments</th>\n",
       "      <th>Toxic</th>\n",
       "      <th>Lower Effect</th>\n",
       "      <th>Deductive-Toxic</th>\n",
       "      <th>Deductive-Lower Effect</th>\n",
       "      <th>Emergency</th>\n",
       "    </tr>\n",
       "  </thead>\n",
       "  <tbody>\n",
       "    <tr>\n",
       "      <th>0</th>\n",
       "      <td>Carboplatin, Paclitaxel, Atorvastatin, Levoflo...</td>\n",
       "      <td>0.400000</td>\n",
       "      <td>0.100000</td>\n",
       "      <td>0.500000</td>\n",
       "      <td>0.100000</td>\n",
       "      <td>12.0</td>\n",
       "    </tr>\n",
       "    <tr>\n",
       "      <th>1</th>\n",
       "      <td>Carboplatin, Etoposide, Atorvastatin, Enalapri...</td>\n",
       "      <td>0.266667</td>\n",
       "      <td>0.066667</td>\n",
       "      <td>0.266667</td>\n",
       "      <td>0.066667</td>\n",
       "      <td>8.0</td>\n",
       "    </tr>\n",
       "    <tr>\n",
       "      <th>2</th>\n",
       "      <td>Cisplatin, Pemetrexed, Vinorelbine, Lorazepam,...</td>\n",
       "      <td>0.533333</td>\n",
       "      <td>0.200000</td>\n",
       "      <td>0.733333</td>\n",
       "      <td>0.200000</td>\n",
       "      <td>7.0</td>\n",
       "    </tr>\n",
       "    <tr>\n",
       "      <th>3</th>\n",
       "      <td>Carboplatin, Etoposide, Ibuprofen, Omeprazole,...</td>\n",
       "      <td>0.300000</td>\n",
       "      <td>0.100000</td>\n",
       "      <td>0.300000</td>\n",
       "      <td>0.100000</td>\n",
       "      <td>6.0</td>\n",
       "    </tr>\n",
       "    <tr>\n",
       "      <th>4</th>\n",
       "      <td>Carboplatin, Pemetrexed, Dexamethasone, Loraze...</td>\n",
       "      <td>0.400000</td>\n",
       "      <td>0.400000</td>\n",
       "      <td>0.600000</td>\n",
       "      <td>0.500000</td>\n",
       "      <td>5.0</td>\n",
       "    </tr>\n",
       "  </tbody>\n",
       "</table>\n",
       "</div>"
      ],
      "text/plain": [
       "                                          treatments     Toxic  Lower Effect  \\\n",
       "0  Carboplatin, Paclitaxel, Atorvastatin, Levoflo...  0.400000      0.100000   \n",
       "1  Carboplatin, Etoposide, Atorvastatin, Enalapri...  0.266667      0.066667   \n",
       "2  Cisplatin, Pemetrexed, Vinorelbine, Lorazepam,...  0.533333      0.200000   \n",
       "3  Carboplatin, Etoposide, Ibuprofen, Omeprazole,...  0.300000      0.100000   \n",
       "4  Carboplatin, Pemetrexed, Dexamethasone, Loraze...  0.400000      0.400000   \n",
       "\n",
       "   Deductive-Toxic  Deductive-Lower Effect  Emergency  \n",
       "0         0.500000                0.100000       12.0  \n",
       "1         0.266667                0.066667        8.0  \n",
       "2         0.733333                0.200000        7.0  \n",
       "3         0.300000                0.100000        6.0  \n",
       "4         0.600000                0.500000        5.0  "
      ]
     },
     "metadata": {},
     "output_type": "display_data"
    }
   ],
   "source": [
    "input_path = 'treatments/'\n",
    "\n",
    "dataset = pd.read_csv(input_path + 'treatment_class.csv')\n",
    "display(dataset.shape, dataset.head())"
   ]
  },
  {
   "cell_type": "code",
   "execution_count": 24,
   "id": "060aef21",
   "metadata": {},
   "outputs": [],
   "source": [
    "t = 'Carboplatin, Etoposide, Atorvastatin, Enalapril, Metformin, Omeprazole'\n",
    "dataset = dataset.loc[~((dataset.treatments==t) & (dataset.Emergency==1))]"
   ]
  },
  {
   "cell_type": "code",
   "execution_count": 25,
   "id": "714c3e44",
   "metadata": {},
   "outputs": [],
   "source": [
    "dataset.loc[dataset.Emergency > 2, 'class'] = 1\n",
    "dataset.loc[dataset.Emergency <= 2, 'class'] = 0"
   ]
  },
  {
   "cell_type": "code",
   "execution_count": 26,
   "id": "f1ac212f",
   "metadata": {},
   "outputs": [
    {
     "name": "stderr",
     "output_type": "stream",
     "text": [
      "/home/rivas/.local/lib/python3.8/site-packages/pandas/util/_decorators.py:311: SettingWithCopyWarning: \n",
      "A value is trying to be set on a copy of a slice from a DataFrame\n",
      "\n",
      "See the caveats in the documentation: https://pandas.pydata.org/pandas-docs/stable/user_guide/indexing.html#returning-a-view-versus-a-copy\n",
      "  return func(*args, **kwargs)\n"
     ]
    },
    {
     "data": {
      "text/plain": [
       "(133, 2)"
      ]
     },
     "metadata": {},
     "output_type": "display_data"
    },
    {
     "data": {
      "text/html": [
       "<div>\n",
       "<style scoped>\n",
       "    .dataframe tbody tr th:only-of-type {\n",
       "        vertical-align: middle;\n",
       "    }\n",
       "\n",
       "    .dataframe tbody tr th {\n",
       "        vertical-align: top;\n",
       "    }\n",
       "\n",
       "    .dataframe thead th {\n",
       "        text-align: right;\n",
       "    }\n",
       "</style>\n",
       "<table border=\"1\" class=\"dataframe\">\n",
       "  <thead>\n",
       "    <tr style=\"text-align: right;\">\n",
       "      <th></th>\n",
       "      <th>treatments</th>\n",
       "      <th>class</th>\n",
       "    </tr>\n",
       "  </thead>\n",
       "  <tbody>\n",
       "    <tr>\n",
       "      <th>0</th>\n",
       "      <td>Carboplatin, Paclitaxel, Atorvastatin, Levoflo...</td>\n",
       "      <td>1.0</td>\n",
       "    </tr>\n",
       "    <tr>\n",
       "      <th>1</th>\n",
       "      <td>Carboplatin, Etoposide, Atorvastatin, Enalapri...</td>\n",
       "      <td>1.0</td>\n",
       "    </tr>\n",
       "  </tbody>\n",
       "</table>\n",
       "</div>"
      ],
      "text/plain": [
       "                                          treatments  class\n",
       "0  Carboplatin, Paclitaxel, Atorvastatin, Levoflo...    1.0\n",
       "1  Carboplatin, Etoposide, Atorvastatin, Enalapri...    1.0"
      ]
     },
     "metadata": {},
     "output_type": "display_data"
    },
    {
     "data": {
      "text/plain": [
       "(133, 3)"
      ]
     },
     "metadata": {},
     "output_type": "display_data"
    },
    {
     "data": {
      "text/html": [
       "<div>\n",
       "<style scoped>\n",
       "    .dataframe tbody tr th:only-of-type {\n",
       "        vertical-align: middle;\n",
       "    }\n",
       "\n",
       "    .dataframe tbody tr th {\n",
       "        vertical-align: top;\n",
       "    }\n",
       "\n",
       "    .dataframe thead th {\n",
       "        text-align: right;\n",
       "    }\n",
       "</style>\n",
       "<table border=\"1\" class=\"dataframe\">\n",
       "  <thead>\n",
       "    <tr style=\"text-align: right;\">\n",
       "      <th></th>\n",
       "      <th>treatments</th>\n",
       "      <th>Deductive-Toxic</th>\n",
       "      <th>Deductive-Lower Effect</th>\n",
       "    </tr>\n",
       "  </thead>\n",
       "  <tbody>\n",
       "    <tr>\n",
       "      <th>0</th>\n",
       "      <td>Carboplatin, Paclitaxel, Atorvastatin, Levoflo...</td>\n",
       "      <td>0.500000</td>\n",
       "      <td>0.100000</td>\n",
       "    </tr>\n",
       "    <tr>\n",
       "      <th>1</th>\n",
       "      <td>Carboplatin, Etoposide, Atorvastatin, Enalapri...</td>\n",
       "      <td>0.266667</td>\n",
       "      <td>0.066667</td>\n",
       "    </tr>\n",
       "  </tbody>\n",
       "</table>\n",
       "</div>"
      ],
      "text/plain": [
       "                                          treatments  Deductive-Toxic  \\\n",
       "0  Carboplatin, Paclitaxel, Atorvastatin, Levoflo...         0.500000   \n",
       "1  Carboplatin, Etoposide, Atorvastatin, Enalapri...         0.266667   \n",
       "\n",
       "   Deductive-Lower Effect  \n",
       "0                0.100000  \n",
       "1                0.066667  "
      ]
     },
     "metadata": {},
     "output_type": "display_data"
    }
   ],
   "source": [
    "target_class = dataset[['treatments', 'class']]\n",
    "target_class.drop_duplicates(keep='first', inplace=True)\n",
    "target_class.reset_index(drop=True, inplace=True)\n",
    "\n",
    "data = dataset.drop(['Toxic', 'Lower Effect', 'Emergency', 'class'], axis=1)\n",
    "data.drop_duplicates(keep='first', inplace=True)\n",
    "data.reset_index(drop=True, inplace=True)\n",
    "\n",
    "display(target_class.shape, target_class.head(2), data.shape, data.head(2))"
   ]
  },
  {
   "cell_type": "code",
   "execution_count": 27,
   "id": "04ef54f4",
   "metadata": {},
   "outputs": [
    {
     "data": {
      "text/plain": [
       "0.0    111\n",
       "1.0     22\n",
       "Name: class, dtype: int64"
      ]
     },
     "execution_count": 27,
     "metadata": {},
     "output_type": "execute_result"
    }
   ],
   "source": [
    "target_class['class'].value_counts()"
   ]
  },
  {
   "cell_type": "code",
   "execution_count": 28,
   "id": "4c986acf",
   "metadata": {},
   "outputs": [],
   "source": [
    "new_data = data.drop(columns=['treatments'])"
   ]
  },
  {
   "cell_type": "code",
   "execution_count": 32,
   "id": "3103a64b",
   "metadata": {},
   "outputs": [],
   "source": [
    "X_train, X_test, y_train, y_test = train_test_split(new_data.values, target_class['class'].values, random_state=42)"
   ]
  },
  {
   "cell_type": "code",
   "execution_count": 33,
   "id": "b03cb364",
   "metadata": {},
   "outputs": [],
   "source": [
    "feature_names = new_data.columns\n",
    "parameters = {\"max_depth\": range(1,7)}\n",
    "clf = tree.DecisionTreeClassifier()\n",
    "grid = GridSearchCV(estimator=clf,param_grid=parameters)\n",
    "grid_res = grid.fit(X_train, y_train)\n",
    "best_clf = grid_res.best_estimator_\n",
    "\n",
    "\n",
    "#predictions = (clf.fit(X_train, y_train)).predict(X_test)\n",
    "best_clf.score(X_test, y_test)\n",
    "y_pred = best_clf.predict(X_test)"
   ]
  },
  {
   "cell_type": "code",
   "execution_count": 41,
   "id": "84767611",
   "metadata": {},
   "outputs": [
    {
     "name": "stdout",
     "output_type": "stream",
     "text": [
      "               precision    recall  f1-score   support\n",
      "\n",
      "Effectiveness       0.76      1.00      0.87        26\n",
      "   Low Effect       0.00      0.00      0.00         8\n",
      "\n",
      "     accuracy                           0.76        34\n",
      "    macro avg       0.38      0.50      0.43        34\n",
      " weighted avg       0.58      0.76      0.66        34\n",
      "\n"
     ]
    },
    {
     "name": "stderr",
     "output_type": "stream",
     "text": [
      "/home/rivas/.local/lib/python3.8/site-packages/sklearn/metrics/_classification.py:1308: UndefinedMetricWarning: Precision and F-score are ill-defined and being set to 0.0 in labels with no predicted samples. Use `zero_division` parameter to control this behavior.\n",
      "  _warn_prf(average, modifier, msg_start, len(result))\n",
      "/home/rivas/.local/lib/python3.8/site-packages/sklearn/metrics/_classification.py:1308: UndefinedMetricWarning: Precision and F-score are ill-defined and being set to 0.0 in labels with no predicted samples. Use `zero_division` parameter to control this behavior.\n",
      "  _warn_prf(average, modifier, msg_start, len(result))\n",
      "/home/rivas/.local/lib/python3.8/site-packages/sklearn/metrics/_classification.py:1308: UndefinedMetricWarning: Precision and F-score are ill-defined and being set to 0.0 in labels with no predicted samples. Use `zero_division` parameter to control this behavior.\n",
      "  _warn_prf(average, modifier, msg_start, len(result))\n"
     ]
    }
   ],
   "source": [
    "target_names = ['Effectiveness','Low Effect']\n",
    "print (classification_report(y_test, y_pred, target_names=target_names))"
   ]
  },
  {
   "cell_type": "code",
   "execution_count": 46,
   "id": "3686b7c6",
   "metadata": {},
   "outputs": [
    {
     "ename": "TypeError",
     "evalue": "'module' object is not callable",
     "output_type": "error",
     "traceback": [
      "\u001b[0;31m---------------------------------------------------------------------------\u001b[0m",
      "\u001b[0;31mTypeError\u001b[0m                                 Traceback (most recent call last)",
      "\u001b[0;32m/tmp/ipykernel_18002/3470878696.py\u001b[0m in \u001b[0;36m<module>\u001b[0;34m\u001b[0m\n\u001b[1;32m      1\u001b[0m \u001b[0;32mimport\u001b[0m \u001b[0mdtreeviz\u001b[0m\u001b[0;34m\u001b[0m\u001b[0;34m\u001b[0m\u001b[0m\n\u001b[1;32m      2\u001b[0m \u001b[0;34m\u001b[0m\u001b[0m\n\u001b[0;32m----> 3\u001b[0;31m viz = dtreeviz(best_clf, new_data, target_class['class'], target_name='class',\n\u001b[0m\u001b[1;32m      4\u001b[0m                \u001b[0mfeature_names\u001b[0m\u001b[0;34m=\u001b[0m\u001b[0mfeature_names\u001b[0m\u001b[0;34m,\u001b[0m \u001b[0mclass_names\u001b[0m\u001b[0;34m=\u001b[0m\u001b[0mtarget_names\u001b[0m\u001b[0;34m,\u001b[0m \u001b[0mfancy\u001b[0m\u001b[0;34m=\u001b[0m\u001b[0;32mFalse\u001b[0m\u001b[0;34m,\u001b[0m\u001b[0;34m\u001b[0m\u001b[0;34m\u001b[0m\u001b[0m\n\u001b[1;32m      5\u001b[0m                show_root_edge_labels=True)\n",
      "\u001b[0;31mTypeError\u001b[0m: 'module' object is not callable"
     ]
    }
   ],
   "source": [
    "import dtreeviz\n",
    "\n",
    "viz = dtreeviz(best_clf, new_data, target_class['class'], target_name='class',\n",
    "               feature_names=feature_names, class_names=target_names, fancy=False,\n",
    "               show_root_edge_labels=True)"
   ]
  },
  {
   "cell_type": "code",
   "execution_count": null,
   "id": "f7888ac0",
   "metadata": {},
   "outputs": [],
   "source": []
  }
 ],
 "metadata": {
  "kernelspec": {
   "display_name": "Python 3 (ipykernel)",
   "language": "python",
   "name": "python3"
  },
  "language_info": {
   "codemirror_mode": {
    "name": "ipython",
    "version": 3
   },
   "file_extension": ".py",
   "mimetype": "text/x-python",
   "name": "python",
   "nbconvert_exporter": "python",
   "pygments_lexer": "ipython3",
   "version": "3.8.12"
  }
 },
 "nbformat": 4,
 "nbformat_minor": 5
}
